{
 "cells": [
  {
   "cell_type": "markdown",
   "id": "445df40a",
   "metadata": {
    "execution": {
     "iopub.execute_input": "2022-07-20T13:45:01.425116Z",
     "iopub.status.busy": "2022-07-20T13:45:01.424669Z",
     "iopub.status.idle": "2022-07-20T13:45:01.432970Z",
     "shell.execute_reply": "2022-07-20T13:45:01.431840Z",
     "shell.execute_reply.started": "2022-07-20T13:45:01.425077Z"
    },
    "papermill": {
     "duration": 0.005594,
     "end_time": "2022-07-20T16:43:01.643243",
     "exception": false,
     "start_time": "2022-07-20T16:43:01.637649",
     "status": "completed"
    },
    "tags": []
   },
   "source": [
    "### 1. Preliminaries"
   ]
  },
  {
   "cell_type": "code",
   "execution_count": 1,
   "id": "f402686c",
   "metadata": {
    "execution": {
     "iopub.execute_input": "2022-07-20T16:43:01.654184Z",
     "iopub.status.busy": "2022-07-20T16:43:01.653633Z",
     "iopub.status.idle": "2022-07-20T16:43:32.985269Z",
     "shell.execute_reply": "2022-07-20T16:43:32.984274Z"
    },
    "papermill": {
     "duration": 31.344752,
     "end_time": "2022-07-20T16:43:32.992399",
     "exception": false,
     "start_time": "2022-07-20T16:43:01.647647",
     "status": "completed"
    },
    "tags": []
   },
   "outputs": [
    {
     "name": "stdout",
     "output_type": "stream",
     "text": [
      "\u001b[33mWARNING: Running pip as the 'root' user can result in broken permissions and conflicting behaviour with the system package manager. It is recommended to use a virtual environment instead: https://pip.pypa.io/warnings/venv\u001b[0m\u001b[33m\r\n",
      "\u001b[0m(12980, 4)\n"
     ]
    },
    {
     "data": {
      "text/plain": [
       "normal                      1924\n",
       "blast                       1881\n",
       "hispa                       1720\n",
       "tungro                      1561\n",
       "white_stem_borer            1019\n",
       "brown_spot                  1004\n",
       "leaf_roller                  876\n",
       "downy_mildew                 694\n",
       "yellow_stem_borer            613\n",
       "bacterial_leaf_blight        518\n",
       "bacterial_leaf_streak        405\n",
       "black_stem_borer             405\n",
       "bacterial_panicle_blight     360\n",
       "Name: label, dtype: int64"
      ]
     },
     "execution_count": 1,
     "metadata": {},
     "output_type": "execute_result"
    }
   ],
   "source": [
    "import glob\n",
    "\n",
    "try: import fastkaggle\n",
    "except ModuleNotFoundError:\n",
    "    !pip install -Uq fastkaggle\n",
    "\n",
    "from fastkaggle import *\n",
    "from fastai.vision.all import *\n",
    "set_seed(42)\n",
    "\n",
    "competition = 'paddy-doctor-diseases-v2'\n",
    "path = setup_comp(competition, install='fastai \"timm>=0.6.2.dev0\"')\n",
    "\n",
    "# train images\n",
    "train_path = path / 'train_images'\n",
    "train_files = get_image_files(train_path)\n",
    "\n",
    "# test images\n",
    "test_path = path/'test_images'\n",
    "test_files = get_image_files(test_path).sorted()\n",
    "\n",
    "# train labels\n",
    "train_df = pd.read_csv(path / 'train.csv')\n",
    "print(train_df.shape)\n",
    "train_df.label.value_counts()"
   ]
  },
  {
   "cell_type": "markdown",
   "id": "00dbe4c4",
   "metadata": {
    "papermill": {
     "duration": 0.004095,
     "end_time": "2022-07-20T16:43:33.001859",
     "exception": false,
     "start_time": "2022-07-20T16:43:32.997764",
     "status": "completed"
    },
    "tags": []
   },
   "source": [
    "### 2. Dataloaders"
   ]
  },
  {
   "cell_type": "code",
   "execution_count": 2,
   "id": "865db403",
   "metadata": {
    "execution": {
     "iopub.execute_input": "2022-07-20T16:43:33.011683Z",
     "iopub.status.busy": "2022-07-20T16:43:33.011392Z",
     "iopub.status.idle": "2022-07-20T16:43:41.675401Z",
     "shell.execute_reply": "2022-07-20T16:43:41.674416Z"
    },
    "papermill": {
     "duration": 8.671711,
     "end_time": "2022-07-20T16:43:41.677800",
     "exception": false,
     "start_time": "2022-07-20T16:43:33.006089",
     "status": "completed"
    },
    "tags": []
   },
   "outputs": [],
   "source": [
    "dblock = DataBlock(\n",
    "    blocks=(ImageBlock, CategoryBlock),\n",
    "    get_items=get_image_files,\n",
    "    get_y=parent_label,\n",
    "    splitter=RandomSplitter(0.2, seed=42),\n",
    "    item_tfms=Resize(480, method='squish'),\n",
    "    batch_tfms=aug_transforms(size=224, min_scale=0.75)\n",
    ")\n",
    "\n",
    "dls = dblock.dataloaders(train_path)"
   ]
  },
  {
   "cell_type": "code",
   "execution_count": 3,
   "id": "9f2ff412",
   "metadata": {
    "execution": {
     "iopub.execute_input": "2022-07-20T16:43:41.688249Z",
     "iopub.status.busy": "2022-07-20T16:43:41.687963Z",
     "iopub.status.idle": "2022-07-20T16:43:43.748705Z",
     "shell.execute_reply": "2022-07-20T16:43:43.747551Z"
    },
    "papermill": {
     "duration": 2.068985,
     "end_time": "2022-07-20T16:43:43.751560",
     "exception": false,
     "start_time": "2022-07-20T16:43:41.682575",
     "status": "completed"
    },
    "tags": []
   },
   "outputs": [],
   "source": [
    "dls = ImageDataLoaders.from_folder(\n",
    "    train_path, \n",
    "    valid_pct=0.2,\n",
    "    seed=42,\n",
    "    item_tfms=Resize(480, method='squish'),\n",
    "    batch_tfms=aug_transforms(size=224, min_scale=0.75)\n",
    ")"
   ]
  },
  {
   "cell_type": "markdown",
   "id": "6768ae23",
   "metadata": {
    "papermill": {
     "duration": 0.005205,
     "end_time": "2022-07-20T16:43:43.762202",
     "exception": false,
     "start_time": "2022-07-20T16:43:43.756997",
     "status": "completed"
    },
    "tags": []
   },
   "source": [
    "### 3. Model training"
   ]
  },
  {
   "cell_type": "code",
   "execution_count": 4,
   "id": "336a6f32",
   "metadata": {
    "execution": {
     "iopub.execute_input": "2022-07-20T16:43:43.773454Z",
     "iopub.status.busy": "2022-07-20T16:43:43.773079Z",
     "iopub.status.idle": "2022-07-20T16:43:49.034659Z",
     "shell.execute_reply": "2022-07-20T16:43:49.033706Z"
    },
    "papermill": {
     "duration": 5.27001,
     "end_time": "2022-07-20T16:43:49.037061",
     "exception": false,
     "start_time": "2022-07-20T16:43:43.767051",
     "status": "completed"
    },
    "tags": []
   },
   "outputs": [
    {
     "name": "stderr",
     "output_type": "stream",
     "text": [
      "Downloading: \"https://download.pytorch.org/models/resnet34-b627a593.pth\" to /root/.cache/torch/hub/checkpoints/resnet34-b627a593.pth\n"
     ]
    },
    {
     "data": {
      "application/vnd.jupyter.widget-view+json": {
       "model_id": "39b21e7c2c5d40ca9582a04f4a7b9407",
       "version_major": 2,
       "version_minor": 0
      },
      "text/plain": [
       "  0%|          | 0.00/83.3M [00:00<?, ?B/s]"
      ]
     },
     "metadata": {},
     "output_type": "display_data"
    }
   ],
   "source": [
    "learn = vision_learner(dls, resnet34, metrics=error_rate).to_fp16()"
   ]
  },
  {
   "cell_type": "markdown",
   "id": "7bc20413",
   "metadata": {
    "papermill": {
     "duration": 0.004654,
     "end_time": "2022-07-20T16:43:49.046526",
     "exception": false,
     "start_time": "2022-07-20T16:43:49.041872",
     "status": "completed"
    },
    "tags": []
   },
   "source": [
    "And that's it, 16 epochs to get the best baseline for the price "
   ]
  },
  {
   "cell_type": "code",
   "execution_count": 5,
   "id": "a7e06d92",
   "metadata": {
    "execution": {
     "iopub.execute_input": "2022-07-20T16:43:49.057949Z",
     "iopub.status.busy": "2022-07-20T16:43:49.056405Z",
     "iopub.status.idle": "2022-07-20T18:45:59.717523Z",
     "shell.execute_reply": "2022-07-20T18:45:59.716528Z"
    },
    "papermill": {
     "duration": 7330.668429,
     "end_time": "2022-07-20T18:45:59.719604",
     "exception": false,
     "start_time": "2022-07-20T16:43:49.051175",
     "status": "completed"
    },
    "scrolled": true,
    "tags": []
   },
   "outputs": [
    {
     "data": {
      "text/html": [
       "\n",
       "<style>\n",
       "    /* Turns off some styling */\n",
       "    progress {\n",
       "        /* gets rid of default border in Firefox and Opera. */\n",
       "        border: none;\n",
       "        /* Needs to be in here for Safari polyfill so background images work as expected. */\n",
       "        background-size: auto;\n",
       "    }\n",
       "    .progress-bar-interrupted, .progress-bar-interrupted::-webkit-progress-bar {\n",
       "        background: #F44336;\n",
       "    }\n",
       "</style>\n"
      ],
      "text/plain": [
       "<IPython.core.display.HTML object>"
      ]
     },
     "metadata": {},
     "output_type": "display_data"
    },
    {
     "data": {
      "text/html": [
       "<table border=\"1\" class=\"dataframe\">\n",
       "  <thead>\n",
       "    <tr style=\"text-align: left;\">\n",
       "      <th>epoch</th>\n",
       "      <th>train_loss</th>\n",
       "      <th>valid_loss</th>\n",
       "      <th>error_rate</th>\n",
       "      <th>time</th>\n",
       "    </tr>\n",
       "  </thead>\n",
       "  <tbody>\n",
       "    <tr>\n",
       "      <td>0</td>\n",
       "      <td>1.810568</td>\n",
       "      <td>1.089132</td>\n",
       "      <td>0.344376</td>\n",
       "      <td>02:46</td>\n",
       "    </tr>\n",
       "  </tbody>\n",
       "</table>"
      ],
      "text/plain": [
       "<IPython.core.display.HTML object>"
      ]
     },
     "metadata": {},
     "output_type": "display_data"
    },
    {
     "data": {
      "text/html": [
       "\n",
       "<style>\n",
       "    /* Turns off some styling */\n",
       "    progress {\n",
       "        /* gets rid of default border in Firefox and Opera. */\n",
       "        border: none;\n",
       "        /* Needs to be in here for Safari polyfill so background images work as expected. */\n",
       "        background-size: auto;\n",
       "    }\n",
       "    .progress-bar-interrupted, .progress-bar-interrupted::-webkit-progress-bar {\n",
       "        background: #F44336;\n",
       "    }\n",
       "</style>\n"
      ],
      "text/plain": [
       "<IPython.core.display.HTML object>"
      ]
     },
     "metadata": {},
     "output_type": "display_data"
    },
    {
     "data": {
      "text/html": [
       "<table border=\"1\" class=\"dataframe\">\n",
       "  <thead>\n",
       "    <tr style=\"text-align: left;\">\n",
       "      <th>epoch</th>\n",
       "      <th>train_loss</th>\n",
       "      <th>valid_loss</th>\n",
       "      <th>error_rate</th>\n",
       "      <th>time</th>\n",
       "    </tr>\n",
       "  </thead>\n",
       "  <tbody>\n",
       "    <tr>\n",
       "      <td>0</td>\n",
       "      <td>0.769216</td>\n",
       "      <td>0.448270</td>\n",
       "      <td>0.135978</td>\n",
       "      <td>02:26</td>\n",
       "    </tr>\n",
       "    <tr>\n",
       "      <td>1</td>\n",
       "      <td>0.441168</td>\n",
       "      <td>0.284911</td>\n",
       "      <td>0.091294</td>\n",
       "      <td>02:26</td>\n",
       "    </tr>\n",
       "    <tr>\n",
       "      <td>2</td>\n",
       "      <td>0.310508</td>\n",
       "      <td>0.219787</td>\n",
       "      <td>0.065871</td>\n",
       "      <td>02:30</td>\n",
       "    </tr>\n",
       "    <tr>\n",
       "      <td>3</td>\n",
       "      <td>0.235165</td>\n",
       "      <td>0.237995</td>\n",
       "      <td>0.065485</td>\n",
       "      <td>02:29</td>\n",
       "    </tr>\n",
       "    <tr>\n",
       "      <td>4</td>\n",
       "      <td>0.209770</td>\n",
       "      <td>0.195346</td>\n",
       "      <td>0.048151</td>\n",
       "      <td>02:27</td>\n",
       "    </tr>\n",
       "    <tr>\n",
       "      <td>5</td>\n",
       "      <td>0.222626</td>\n",
       "      <td>0.214053</td>\n",
       "      <td>0.066256</td>\n",
       "      <td>02:29</td>\n",
       "    </tr>\n",
       "    <tr>\n",
       "      <td>6</td>\n",
       "      <td>0.210355</td>\n",
       "      <td>0.269286</td>\n",
       "      <td>0.077042</td>\n",
       "      <td>02:27</td>\n",
       "    </tr>\n",
       "    <tr>\n",
       "      <td>7</td>\n",
       "      <td>0.237884</td>\n",
       "      <td>0.231007</td>\n",
       "      <td>0.067797</td>\n",
       "      <td>02:27</td>\n",
       "    </tr>\n",
       "    <tr>\n",
       "      <td>8</td>\n",
       "      <td>0.235398</td>\n",
       "      <td>0.312522</td>\n",
       "      <td>0.083205</td>\n",
       "      <td>02:28</td>\n",
       "    </tr>\n",
       "    <tr>\n",
       "      <td>9</td>\n",
       "      <td>0.211179</td>\n",
       "      <td>0.240968</td>\n",
       "      <td>0.067411</td>\n",
       "      <td>02:28</td>\n",
       "    </tr>\n",
       "    <tr>\n",
       "      <td>10</td>\n",
       "      <td>0.215618</td>\n",
       "      <td>0.232575</td>\n",
       "      <td>0.058937</td>\n",
       "      <td>02:27</td>\n",
       "    </tr>\n",
       "    <tr>\n",
       "      <td>11</td>\n",
       "      <td>0.223835</td>\n",
       "      <td>0.244208</td>\n",
       "      <td>0.068952</td>\n",
       "      <td>02:27</td>\n",
       "    </tr>\n",
       "    <tr>\n",
       "      <td>12</td>\n",
       "      <td>0.204808</td>\n",
       "      <td>0.242926</td>\n",
       "      <td>0.062018</td>\n",
       "      <td>02:27</td>\n",
       "    </tr>\n",
       "    <tr>\n",
       "      <td>13</td>\n",
       "      <td>0.201962</td>\n",
       "      <td>0.213550</td>\n",
       "      <td>0.056240</td>\n",
       "      <td>02:26</td>\n",
       "    </tr>\n",
       "    <tr>\n",
       "      <td>14</td>\n",
       "      <td>0.194653</td>\n",
       "      <td>0.246717</td>\n",
       "      <td>0.067026</td>\n",
       "      <td>02:27</td>\n",
       "    </tr>\n",
       "    <tr>\n",
       "      <td>15</td>\n",
       "      <td>0.166964</td>\n",
       "      <td>0.215319</td>\n",
       "      <td>0.057396</td>\n",
       "      <td>02:28</td>\n",
       "    </tr>\n",
       "    <tr>\n",
       "      <td>16</td>\n",
       "      <td>0.152130</td>\n",
       "      <td>0.199309</td>\n",
       "      <td>0.052003</td>\n",
       "      <td>02:27</td>\n",
       "    </tr>\n",
       "    <tr>\n",
       "      <td>17</td>\n",
       "      <td>0.145260</td>\n",
       "      <td>0.257394</td>\n",
       "      <td>0.058166</td>\n",
       "      <td>02:27</td>\n",
       "    </tr>\n",
       "    <tr>\n",
       "      <td>18</td>\n",
       "      <td>0.135737</td>\n",
       "      <td>0.299728</td>\n",
       "      <td>0.062789</td>\n",
       "      <td>02:28</td>\n",
       "    </tr>\n",
       "    <tr>\n",
       "      <td>19</td>\n",
       "      <td>0.104910</td>\n",
       "      <td>0.185391</td>\n",
       "      <td>0.046995</td>\n",
       "      <td>02:28</td>\n",
       "    </tr>\n",
       "    <tr>\n",
       "      <td>20</td>\n",
       "      <td>0.100254</td>\n",
       "      <td>0.182397</td>\n",
       "      <td>0.043529</td>\n",
       "      <td>02:31</td>\n",
       "    </tr>\n",
       "    <tr>\n",
       "      <td>21</td>\n",
       "      <td>0.106897</td>\n",
       "      <td>0.184652</td>\n",
       "      <td>0.048151</td>\n",
       "      <td>02:26</td>\n",
       "    </tr>\n",
       "    <tr>\n",
       "      <td>22</td>\n",
       "      <td>0.110863</td>\n",
       "      <td>0.183499</td>\n",
       "      <td>0.043529</td>\n",
       "      <td>02:30</td>\n",
       "    </tr>\n",
       "    <tr>\n",
       "      <td>23</td>\n",
       "      <td>0.082403</td>\n",
       "      <td>0.171913</td>\n",
       "      <td>0.046995</td>\n",
       "      <td>02:28</td>\n",
       "    </tr>\n",
       "    <tr>\n",
       "      <td>24</td>\n",
       "      <td>0.079188</td>\n",
       "      <td>0.165246</td>\n",
       "      <td>0.043143</td>\n",
       "      <td>02:29</td>\n",
       "    </tr>\n",
       "    <tr>\n",
       "      <td>25</td>\n",
       "      <td>0.072592</td>\n",
       "      <td>0.192082</td>\n",
       "      <td>0.047766</td>\n",
       "      <td>02:29</td>\n",
       "    </tr>\n",
       "    <tr>\n",
       "      <td>26</td>\n",
       "      <td>0.066857</td>\n",
       "      <td>0.142969</td>\n",
       "      <td>0.030046</td>\n",
       "      <td>02:28</td>\n",
       "    </tr>\n",
       "    <tr>\n",
       "      <td>27</td>\n",
       "      <td>0.072513</td>\n",
       "      <td>0.155657</td>\n",
       "      <td>0.033898</td>\n",
       "      <td>02:27</td>\n",
       "    </tr>\n",
       "    <tr>\n",
       "      <td>28</td>\n",
       "      <td>0.052643</td>\n",
       "      <td>0.141521</td>\n",
       "      <td>0.035054</td>\n",
       "      <td>02:29</td>\n",
       "    </tr>\n",
       "    <tr>\n",
       "      <td>29</td>\n",
       "      <td>0.045245</td>\n",
       "      <td>0.149374</td>\n",
       "      <td>0.033898</td>\n",
       "      <td>02:24</td>\n",
       "    </tr>\n",
       "    <tr>\n",
       "      <td>30</td>\n",
       "      <td>0.059154</td>\n",
       "      <td>0.129637</td>\n",
       "      <td>0.029276</td>\n",
       "      <td>02:17</td>\n",
       "    </tr>\n",
       "    <tr>\n",
       "      <td>31</td>\n",
       "      <td>0.042049</td>\n",
       "      <td>0.152315</td>\n",
       "      <td>0.035824</td>\n",
       "      <td>02:15</td>\n",
       "    </tr>\n",
       "    <tr>\n",
       "      <td>32</td>\n",
       "      <td>0.040231</td>\n",
       "      <td>0.143553</td>\n",
       "      <td>0.031972</td>\n",
       "      <td>02:15</td>\n",
       "    </tr>\n",
       "    <tr>\n",
       "      <td>33</td>\n",
       "      <td>0.031815</td>\n",
       "      <td>0.130843</td>\n",
       "      <td>0.029661</td>\n",
       "      <td>02:16</td>\n",
       "    </tr>\n",
       "    <tr>\n",
       "      <td>34</td>\n",
       "      <td>0.029625</td>\n",
       "      <td>0.135109</td>\n",
       "      <td>0.028505</td>\n",
       "      <td>02:15</td>\n",
       "    </tr>\n",
       "    <tr>\n",
       "      <td>35</td>\n",
       "      <td>0.026699</td>\n",
       "      <td>0.142650</td>\n",
       "      <td>0.027350</td>\n",
       "      <td>02:16</td>\n",
       "    </tr>\n",
       "    <tr>\n",
       "      <td>36</td>\n",
       "      <td>0.021659</td>\n",
       "      <td>0.123096</td>\n",
       "      <td>0.023883</td>\n",
       "      <td>02:16</td>\n",
       "    </tr>\n",
       "    <tr>\n",
       "      <td>37</td>\n",
       "      <td>0.021153</td>\n",
       "      <td>0.121225</td>\n",
       "      <td>0.023883</td>\n",
       "      <td>02:17</td>\n",
       "    </tr>\n",
       "    <tr>\n",
       "      <td>38</td>\n",
       "      <td>0.020215</td>\n",
       "      <td>0.116761</td>\n",
       "      <td>0.022727</td>\n",
       "      <td>02:16</td>\n",
       "    </tr>\n",
       "    <tr>\n",
       "      <td>39</td>\n",
       "      <td>0.014989</td>\n",
       "      <td>0.127829</td>\n",
       "      <td>0.025039</td>\n",
       "      <td>02:18</td>\n",
       "    </tr>\n",
       "    <tr>\n",
       "      <td>40</td>\n",
       "      <td>0.019571</td>\n",
       "      <td>0.124269</td>\n",
       "      <td>0.023112</td>\n",
       "      <td>02:16</td>\n",
       "    </tr>\n",
       "    <tr>\n",
       "      <td>41</td>\n",
       "      <td>0.013782</td>\n",
       "      <td>0.116811</td>\n",
       "      <td>0.022342</td>\n",
       "      <td>02:16</td>\n",
       "    </tr>\n",
       "    <tr>\n",
       "      <td>42</td>\n",
       "      <td>0.012170</td>\n",
       "      <td>0.116458</td>\n",
       "      <td>0.021957</td>\n",
       "      <td>02:16</td>\n",
       "    </tr>\n",
       "    <tr>\n",
       "      <td>43</td>\n",
       "      <td>0.011850</td>\n",
       "      <td>0.112738</td>\n",
       "      <td>0.022727</td>\n",
       "      <td>02:15</td>\n",
       "    </tr>\n",
       "    <tr>\n",
       "      <td>44</td>\n",
       "      <td>0.010724</td>\n",
       "      <td>0.114631</td>\n",
       "      <td>0.021572</td>\n",
       "      <td>02:15</td>\n",
       "    </tr>\n",
       "    <tr>\n",
       "      <td>45</td>\n",
       "      <td>0.010283</td>\n",
       "      <td>0.118204</td>\n",
       "      <td>0.023112</td>\n",
       "      <td>02:14</td>\n",
       "    </tr>\n",
       "    <tr>\n",
       "      <td>46</td>\n",
       "      <td>0.007567</td>\n",
       "      <td>0.115011</td>\n",
       "      <td>0.021186</td>\n",
       "      <td>02:14</td>\n",
       "    </tr>\n",
       "    <tr>\n",
       "      <td>47</td>\n",
       "      <td>0.007452</td>\n",
       "      <td>0.115039</td>\n",
       "      <td>0.022727</td>\n",
       "      <td>02:14</td>\n",
       "    </tr>\n",
       "    <tr>\n",
       "      <td>48</td>\n",
       "      <td>0.007806</td>\n",
       "      <td>0.118394</td>\n",
       "      <td>0.021957</td>\n",
       "      <td>02:13</td>\n",
       "    </tr>\n",
       "    <tr>\n",
       "      <td>49</td>\n",
       "      <td>0.008546</td>\n",
       "      <td>0.115732</td>\n",
       "      <td>0.021186</td>\n",
       "      <td>02:14</td>\n",
       "    </tr>\n",
       "  </tbody>\n",
       "</table>"
      ],
      "text/plain": [
       "<IPython.core.display.HTML object>"
      ]
     },
     "metadata": {},
     "output_type": "display_data"
    }
   ],
   "source": [
    "learn.fine_tune(50, 0.005)\n",
    "#learn.fine_tune(2, 0.005)"
   ]
  },
  {
   "cell_type": "markdown",
   "id": "5681ae4e",
   "metadata": {
    "papermill": {
     "duration": 0.00505,
     "end_time": "2022-07-20T18:45:59.730413",
     "exception": false,
     "start_time": "2022-07-20T18:45:59.725363",
     "status": "completed"
    },
    "tags": []
   },
   "source": [
    "### 4. Predictions"
   ]
  },
  {
   "cell_type": "code",
   "execution_count": 6,
   "id": "502a865e",
   "metadata": {
    "execution": {
     "iopub.execute_input": "2022-07-20T18:45:59.742157Z",
     "iopub.status.busy": "2022-07-20T18:45:59.741856Z",
     "iopub.status.idle": "2022-07-20T18:46:25.704479Z",
     "shell.execute_reply": "2022-07-20T18:46:25.703407Z"
    },
    "papermill": {
     "duration": 25.971437,
     "end_time": "2022-07-20T18:46:25.706962",
     "exception": false,
     "start_time": "2022-07-20T18:45:59.735525",
     "status": "completed"
    },
    "tags": []
   },
   "outputs": [
    {
     "data": {
      "text/html": [
       "\n",
       "<style>\n",
       "    /* Turns off some styling */\n",
       "    progress {\n",
       "        /* gets rid of default border in Firefox and Opera. */\n",
       "        border: none;\n",
       "        /* Needs to be in here for Safari polyfill so background images work as expected. */\n",
       "        background-size: auto;\n",
       "    }\n",
       "    .progress-bar-interrupted, .progress-bar-interrupted::-webkit-progress-bar {\n",
       "        background: #F44336;\n",
       "    }\n",
       "</style>\n"
      ],
      "text/plain": [
       "<IPython.core.display.HTML object>"
      ]
     },
     "metadata": {},
     "output_type": "display_data"
    },
    {
     "data": {
      "text/html": [],
      "text/plain": [
       "<IPython.core.display.HTML object>"
      ]
     },
     "metadata": {},
     "output_type": "display_data"
    },
    {
     "data": {
      "text/plain": [
       "TensorBase(0.0212)"
      ]
     },
     "execution_count": 6,
     "metadata": {},
     "output_type": "execute_result"
    }
   ],
   "source": [
    "# Get predictions on validation set\n",
    "probs, target = learn.get_preds(dl=dls.valid)\n",
    "error_rate(probs, target)"
   ]
  },
  {
   "cell_type": "code",
   "execution_count": 7,
   "id": "1c71783a",
   "metadata": {
    "execution": {
     "iopub.execute_input": "2022-07-20T18:46:25.720925Z",
     "iopub.status.busy": "2022-07-20T18:46:25.720620Z",
     "iopub.status.idle": "2022-07-20T18:48:36.776078Z",
     "shell.execute_reply": "2022-07-20T18:48:36.774761Z"
    },
    "papermill": {
     "duration": 131.065845,
     "end_time": "2022-07-20T18:48:36.779434",
     "exception": false,
     "start_time": "2022-07-20T18:46:25.713589",
     "status": "completed"
    },
    "tags": []
   },
   "outputs": [
    {
     "data": {
      "text/html": [
       "\n",
       "<style>\n",
       "    /* Turns off some styling */\n",
       "    progress {\n",
       "        /* gets rid of default border in Firefox and Opera. */\n",
       "        border: none;\n",
       "        /* Needs to be in here for Safari polyfill so background images work as expected. */\n",
       "        background-size: auto;\n",
       "    }\n",
       "    .progress-bar-interrupted, .progress-bar-interrupted::-webkit-progress-bar {\n",
       "        background: #F44336;\n",
       "    }\n",
       "</style>\n"
      ],
      "text/plain": [
       "<IPython.core.display.HTML object>"
      ]
     },
     "metadata": {},
     "output_type": "display_data"
    },
    {
     "data": {
      "text/html": [
       "\n",
       "    <div>\n",
       "      <progress value='0' class='' max='50' style='width:300px; height:20px; vertical-align: middle;'></progress>\n",
       "      \n",
       "    </div>\n",
       "    \n"
      ],
      "text/plain": [
       "<IPython.core.display.HTML object>"
      ]
     },
     "metadata": {},
     "output_type": "display_data"
    },
    {
     "data": {
      "text/html": [
       "\n",
       "<style>\n",
       "    /* Turns off some styling */\n",
       "    progress {\n",
       "        /* gets rid of default border in Firefox and Opera. */\n",
       "        border: none;\n",
       "        /* Needs to be in here for Safari polyfill so background images work as expected. */\n",
       "        background-size: auto;\n",
       "    }\n",
       "    .progress-bar-interrupted, .progress-bar-interrupted::-webkit-progress-bar {\n",
       "        background: #F44336;\n",
       "    }\n",
       "</style>\n"
      ],
      "text/plain": [
       "<IPython.core.display.HTML object>"
      ]
     },
     "metadata": {},
     "output_type": "display_data"
    },
    {
     "data": {
      "text/html": [],
      "text/plain": [
       "<IPython.core.display.HTML object>"
      ]
     },
     "metadata": {},
     "output_type": "display_data"
    },
    {
     "data": {
      "text/plain": [
       "TensorBase(0.0208)"
      ]
     },
     "execution_count": 7,
     "metadata": {},
     "output_type": "execute_result"
    }
   ],
   "source": [
    "# Get TTA predictions on validation set\n",
    "probs, target = learn.tta(dl=dls.valid)\n",
    "error_rate(probs, target)"
   ]
  },
  {
   "cell_type": "markdown",
   "id": "8653326a",
   "metadata": {
    "papermill": {
     "duration": 0.01306,
     "end_time": "2022-07-20T18:48:36.808631",
     "exception": false,
     "start_time": "2022-07-20T18:48:36.795571",
     "status": "completed"
    },
    "tags": []
   },
   "source": [
    "#### Predictions on test set"
   ]
  },
  {
   "cell_type": "code",
   "execution_count": 8,
   "id": "64e13472",
   "metadata": {
    "execution": {
     "iopub.execute_input": "2022-07-20T18:48:36.835066Z",
     "iopub.status.busy": "2022-07-20T18:48:36.834543Z",
     "iopub.status.idle": "2022-07-20T18:51:21.068624Z",
     "shell.execute_reply": "2022-07-20T18:51:21.067550Z"
    },
    "papermill": {
     "duration": 164.251811,
     "end_time": "2022-07-20T18:51:21.071076",
     "exception": false,
     "start_time": "2022-07-20T18:48:36.819265",
     "status": "completed"
    },
    "tags": []
   },
   "outputs": [
    {
     "data": {
      "text/html": [
       "\n",
       "<style>\n",
       "    /* Turns off some styling */\n",
       "    progress {\n",
       "        /* gets rid of default border in Firefox and Opera. */\n",
       "        border: none;\n",
       "        /* Needs to be in here for Safari polyfill so background images work as expected. */\n",
       "        background-size: auto;\n",
       "    }\n",
       "    .progress-bar-interrupted, .progress-bar-interrupted::-webkit-progress-bar {\n",
       "        background: #F44336;\n",
       "    }\n",
       "</style>\n"
      ],
      "text/plain": [
       "<IPython.core.display.HTML object>"
      ]
     },
     "metadata": {},
     "output_type": "display_data"
    },
    {
     "data": {
      "text/html": [
       "\n",
       "    <div>\n",
       "      <progress value='0' class='' max='50' style='width:300px; height:20px; vertical-align: middle;'></progress>\n",
       "      \n",
       "    </div>\n",
       "    \n"
      ],
      "text/plain": [
       "<IPython.core.display.HTML object>"
      ]
     },
     "metadata": {},
     "output_type": "display_data"
    },
    {
     "data": {
      "text/html": [
       "\n",
       "<style>\n",
       "    /* Turns off some styling */\n",
       "    progress {\n",
       "        /* gets rid of default border in Firefox and Opera. */\n",
       "        border: none;\n",
       "        /* Needs to be in here for Safari polyfill so background images work as expected. */\n",
       "        background-size: auto;\n",
       "    }\n",
       "    .progress-bar-interrupted, .progress-bar-interrupted::-webkit-progress-bar {\n",
       "        background: #F44336;\n",
       "    }\n",
       "</style>\n"
      ],
      "text/plain": [
       "<IPython.core.display.HTML object>"
      ]
     },
     "metadata": {},
     "output_type": "display_data"
    },
    {
     "data": {
      "text/html": [],
      "text/plain": [
       "<IPython.core.display.HTML object>"
      ]
     },
     "metadata": {},
     "output_type": "display_data"
    }
   ],
   "source": [
    "# test images\n",
    "test_path = path/'test_images'\n",
    "test_files = get_image_files(test_path).sorted()\n",
    "test_classes = [f.parent.name for f in test_files]\n",
    "\n",
    "probs, _ = learn.tta(dl=dls.test_dl(test_files))\n",
    "preds = probs.argmax(dim=1)\n",
    "pred_classes = dls.vocab[preds]"
   ]
  },
  {
   "cell_type": "code",
   "execution_count": 9,
   "id": "6bd557ae",
   "metadata": {
    "execution": {
     "iopub.execute_input": "2022-07-20T18:51:21.086941Z",
     "iopub.status.busy": "2022-07-20T18:51:21.085955Z",
     "iopub.status.idle": "2022-07-20T18:51:21.156065Z",
     "shell.execute_reply": "2022-07-20T18:51:21.155070Z"
    },
    "papermill": {
     "duration": 0.080392,
     "end_time": "2022-07-20T18:51:21.158314",
     "exception": false,
     "start_time": "2022-07-20T18:51:21.077922",
     "status": "completed"
    },
    "tags": []
   },
   "outputs": [
    {
     "name": "stdout",
     "output_type": "stream",
     "text": [
      "                          precision    recall  f1-score   support\n",
      "\n",
      "   bacterial_leaf_blight    0.96947   0.97692   0.97318       130\n",
      "   bacterial_leaf_streak    0.95146   0.98000   0.96552       100\n",
      "bacterial_panicle_blight    1.00000   0.96667   0.98305        90\n",
      "        black_stem_borer    0.98925   0.91089   0.94845       101\n",
      "                   blast    0.97028   0.97234   0.97131       470\n",
      "              brown_spot    0.98381   0.96047   0.97200       253\n",
      "            downy_mildew    0.95954   0.95402   0.95677       174\n",
      "                   hispa    0.96759   0.96984   0.96871       431\n",
      "             leaf_roller    0.97727   0.98174   0.97950       219\n",
      "                  normal    0.97951   0.99376   0.98658       481\n",
      "                  tungro    0.98446   0.97436   0.97938       390\n",
      "        white_stem_borer    0.95833   0.99606   0.97683       254\n",
      "       yellow_stem_borer    1.00000   0.98684   0.99338       152\n",
      "\n",
      "                accuracy                        0.97504      3245\n",
      "               macro avg    0.97623   0.97107   0.97344      3245\n",
      "            weighted avg    0.97520   0.97504   0.97500      3245\n",
      "\n"
     ]
    }
   ],
   "source": [
    "from sklearn.metrics import classification_report\n",
    "from sklearn.metrics import accuracy_score\n",
    "\n",
    "cls_report = classification_report(test_classes, pred_classes, \n",
    "                                   digits=5)\n",
    "print(cls_report)\n",
    "acc = accuracy_score(test_classes, pred_classes)"
   ]
  },
  {
   "cell_type": "code",
   "execution_count": 10,
   "id": "619af04b",
   "metadata": {
    "execution": {
     "iopub.execute_input": "2022-07-20T18:51:21.175034Z",
     "iopub.status.busy": "2022-07-20T18:51:21.173334Z",
     "iopub.status.idle": "2022-07-20T18:51:22.169576Z",
     "shell.execute_reply": "2022-07-20T18:51:22.168624Z"
    },
    "papermill": {
     "duration": 1.007007,
     "end_time": "2022-07-20T18:51:22.172319",
     "exception": false,
     "start_time": "2022-07-20T18:51:21.165312",
     "status": "completed"
    },
    "tags": []
   },
   "outputs": [
    {
     "data": {
      "image/png": "[encoded data removed]",
      "text/plain": [
       "<Figure size 576x432 with 1 Axes>"
      ]
     },
     "metadata": {
      "needs_background": "light"
     },
     "output_type": "display_data"
    },
    {
     "name": "stdout",
     "output_type": "stream",
     "text": [
      "[[127   1   0   0   0   1   0   0   0   1   0   0   0]\n",
      " [  1  98   0   0   0   0   1   0   0   0   0   0   0]\n",
      " [  0   0  87   0   0   0   0   0   2   0   0   1   0]\n",
      " [  0   0   0  92   0   0   0   0   0   0   1   8   0]\n",
      " [  1   0   0   0 457   0   3   4   1   2   2   0   0]\n",
      " [  1   4   0   0   2 243   2   0   1   0   0   0   0]\n",
      " [  0   0   0   0   4   3 166   0   0   0   1   0   0]\n",
      " [  1   0   0   0   3   0   0 418   1   6   2   0   0]\n",
      " [  0   0   0   0   0   0   0   4 215   0   0   0   0]\n",
      " [  0   0   0   0   1   0   0   2   0 478   0   0   0]\n",
      " [  0   0   0   0   4   0   1   4   0   1 380   0   0]\n",
      " [  0   0   0   1   0   0   0   0   0   0   0 253   0]\n",
      " [  0   0   0   0   0   0   0   0   0   0   0   2 150]]\n"
     ]
    }
   ],
   "source": [
    "import seaborn as sns\n",
    "from sklearn.metrics import confusion_matrix\n",
    "\n",
    "def plot_heatmap(y_true, y_pred, class_names, ax, title):\n",
    "    cm = confusion_matrix(y_true, y_pred)\n",
    "    sns.heatmap(\n",
    "        cm, \n",
    "        annot=True, \n",
    "        square=True, \n",
    "        xticklabels=class_names, \n",
    "        yticklabels=class_names,\n",
    "        fmt='d', \n",
    "        cmap=plt.cm.Blues,\n",
    "        cbar=False,\n",
    "        ax=ax\n",
    "    )\n",
    "    #ax.set_title(title, fontsize=16)\n",
    "    ax.set_xticklabels(ax.get_xticklabels(), fontsize=12, rotation=45, ha=\"right\")\n",
    "    ax.set_yticklabels(ax.get_yticklabels(), fontsize=12)\n",
    "    ax.set_ylabel('True Label', fontsize=12)\n",
    "    ax.set_xlabel('Predicted Label', fontsize=12)\n",
    "\n",
    "fig, ax = plt.subplots(1, 1, figsize=(8, 6))\n",
    "\n",
    "class_names = dls.vocab\n",
    "plot_heatmap(test_classes, pred_classes, class_names, ax, title=\"Resnet34\")    \n",
    "\n",
    "#fig.suptitle(\"Confusion Matrix Model Comparison\", fontsize=12)\n",
    "#fig.tight_layout()\n",
    "#fig.subplots_adjust(top=1.25)\n",
    "plt.show()\n",
    "cm = confusion_matrix(test_classes, pred_classes)\n",
    "print(cm)"
   ]
  },
  {
   "cell_type": "code",
   "execution_count": 11,
   "id": "4ba2232c",
   "metadata": {
    "execution": {
     "iopub.execute_input": "2022-07-20T18:51:22.198625Z",
     "iopub.status.busy": "2022-07-20T18:51:22.198245Z",
     "iopub.status.idle": "2022-07-20T18:51:22.238127Z",
     "shell.execute_reply": "2022-07-20T18:51:22.234048Z"
    },
    "papermill": {
     "duration": 0.055998,
     "end_time": "2022-07-20T18:51:22.240909",
     "exception": false,
     "start_time": "2022-07-20T18:51:22.184911",
     "status": "completed"
    },
    "tags": []
   },
   "outputs": [
    {
     "data": {
      "text/html": [
       "<div>\n",
       "<style scoped>\n",
       "    .dataframe tbody tr th:only-of-type {\n",
       "        vertical-align: middle;\n",
       "    }\n",
       "\n",
       "    .dataframe tbody tr th {\n",
       "        vertical-align: top;\n",
       "    }\n",
       "\n",
       "    .dataframe thead th {\n",
       "        text-align: right;\n",
       "    }\n",
       "</style>\n",
       "<table border=\"1\" class=\"dataframe\">\n",
       "  <thead>\n",
       "    <tr style=\"text-align: right;\">\n",
       "      <th></th>\n",
       "      <th>y_true</th>\n",
       "      <th>y_pred</th>\n",
       "    </tr>\n",
       "  </thead>\n",
       "  <tbody>\n",
       "    <tr>\n",
       "      <th>0</th>\n",
       "      <td>bacterial_leaf_blight</td>\n",
       "      <td>bacterial_leaf_blight</td>\n",
       "    </tr>\n",
       "    <tr>\n",
       "      <th>1</th>\n",
       "      <td>bacterial_leaf_blight</td>\n",
       "      <td>normal</td>\n",
       "    </tr>\n",
       "    <tr>\n",
       "      <th>2</th>\n",
       "      <td>bacterial_leaf_blight</td>\n",
       "      <td>bacterial_leaf_blight</td>\n",
       "    </tr>\n",
       "    <tr>\n",
       "      <th>3</th>\n",
       "      <td>bacterial_leaf_blight</td>\n",
       "      <td>bacterial_leaf_blight</td>\n",
       "    </tr>\n",
       "    <tr>\n",
       "      <th>4</th>\n",
       "      <td>bacterial_leaf_blight</td>\n",
       "      <td>bacterial_leaf_blight</td>\n",
       "    </tr>\n",
       "    <tr>\n",
       "      <th>...</th>\n",
       "      <td>...</td>\n",
       "      <td>...</td>\n",
       "    </tr>\n",
       "    <tr>\n",
       "      <th>3240</th>\n",
       "      <td>yellow_stem_borer</td>\n",
       "      <td>yellow_stem_borer</td>\n",
       "    </tr>\n",
       "    <tr>\n",
       "      <th>3241</th>\n",
       "      <td>yellow_stem_borer</td>\n",
       "      <td>yellow_stem_borer</td>\n",
       "    </tr>\n",
       "    <tr>\n",
       "      <th>3242</th>\n",
       "      <td>yellow_stem_borer</td>\n",
       "      <td>yellow_stem_borer</td>\n",
       "    </tr>\n",
       "    <tr>\n",
       "      <th>3243</th>\n",
       "      <td>yellow_stem_borer</td>\n",
       "      <td>yellow_stem_borer</td>\n",
       "    </tr>\n",
       "    <tr>\n",
       "      <th>3244</th>\n",
       "      <td>yellow_stem_borer</td>\n",
       "      <td>yellow_stem_borer</td>\n",
       "    </tr>\n",
       "  </tbody>\n",
       "</table>\n",
       "<p>3245 rows × 2 columns</p>\n",
       "</div>"
      ],
      "text/plain": [
       "                     y_true                 y_pred\n",
       "0     bacterial_leaf_blight  bacterial_leaf_blight\n",
       "1     bacterial_leaf_blight                 normal\n",
       "2     bacterial_leaf_blight  bacterial_leaf_blight\n",
       "3     bacterial_leaf_blight  bacterial_leaf_blight\n",
       "4     bacterial_leaf_blight  bacterial_leaf_blight\n",
       "...                     ...                    ...\n",
       "3240      yellow_stem_borer      yellow_stem_borer\n",
       "3241      yellow_stem_borer      yellow_stem_borer\n",
       "3242      yellow_stem_borer      yellow_stem_borer\n",
       "3243      yellow_stem_borer      yellow_stem_borer\n",
       "3244      yellow_stem_borer      yellow_stem_borer\n",
       "\n",
       "[3245 rows x 2 columns]"
      ]
     },
     "execution_count": 11,
     "metadata": {},
     "output_type": "execute_result"
    }
   ],
   "source": [
    "temp = pd.DataFrame({\"y_true\":test_classes,\n",
    "                      \"y_pred\":pred_classes})\n",
    "temp.to_csv('result.csv', index=False)\n",
    "temp"
   ]
  },
  {
   "cell_type": "markdown",
   "id": "457cfc3e",
   "metadata": {
    "papermill": {
     "duration": 0.012464,
     "end_time": "2022-07-20T18:51:22.266624",
     "exception": false,
     "start_time": "2022-07-20T18:51:22.254160",
     "status": "completed"
    },
    "tags": []
   },
   "source": [
    "#### Acknowledgements\n",
    "1. https://www.kaggle.com/code/fmussari/fast-resnet34-with-fastai\n"
   ]
  }
 ],
 "metadata": {
  "kernelspec": {
   "display_name": "Python 3",
   "language": "python",
   "name": "python3"
  },
  "language_info": {
   "codemirror_mode": {
    "name": "ipython",
    "version": 3
   },
   "file_extension": ".py",
   "mimetype": "text/x-python",
   "name": "python",
   "nbconvert_exporter": "python",
   "pygments_lexer": "ipython3",
   "version": "3.7.12"
  },
  "papermill": {
   "default_parameters": {},
   "duration": 7712.134981,
   "end_time": "2022-07-20T18:51:24.679125",
   "environment_variables": {},
   "exception": null,
   "input_path": "__notebook__.ipynb",
   "output_path": "__notebook__.ipynb",
   "parameters": {},
   "start_time": "2022-07-20T16:42:52.544144",
   "version": "2.3.4"
  },
  "widgets": {
   "application/vnd.jupyter.widget-state+json": {
    "state": {
     "0b023ff48d154d258421d792140c7762": {
      "model_module": "@jupyter-widgets/base",
      "model_module_version": "1.2.0",
      "model_name": "LayoutModel",
      "state": {
       "_model_module": "@jupyter-widgets/base",
       "_model_module_version": "1.2.0",
       "_model_name": "LayoutModel",
       "_view_count": null,
       "_view_module": "@jupyter-widgets/base",
       "_view_module_version": "1.2.0",
       "_view_name": "LayoutView",
       "align_content": null,
       "align_items": null,
       "align_self": null,
       "border": null,
       "bottom": null,
       "display": null,
       "flex": null,
       "flex_flow": null,
       "grid_area": null,
       "grid_auto_columns": null,
       "grid_auto_flow": null,
       "grid_auto_rows": null,
       "grid_column": null,
       "grid_gap": null,
       "grid_row": null,
       "grid_template_areas": null,
       "grid_template_columns": null,
       "grid_template_rows": null,
       "height": null,
       "justify_content": null,
       "justify_items": null,
       "left": null,
       "margin": null,
       "max_height": null,
       "max_width": null,
       "min_height": null,
       "min_width": null,
       "object_fit": null,
       "object_position": null,
       "order": null,
       "overflow": null,
       "overflow_x": null,
       "overflow_y": null,
       "padding": null,
       "right": null,
       "top": null,
       "visibility": null,
       "width": null
      }
     },
     "39b21e7c2c5d40ca9582a04f4a7b9407": {
      "model_module": "@jupyter-widgets/controls",
      "model_module_version": "1.5.0",
      "model_name": "HBoxModel",
      "state": {
       "_dom_classes": [],
       "_model_module": "@jupyter-widgets/controls",
       "_model_module_version": "1.5.0",
       "_model_name": "HBoxModel",
       "_view_count": null,
       "_view_module": "@jupyter-widgets/controls",
       "_view_module_version": "1.5.0",
       "_view_name": "HBoxView",
       "box_style": "",
       "children": [
        "IPY_MODEL_e43bd31aa4ee41a0890e640131d1f342",
        "IPY_MODEL_424cefa9f1474b368413fff69079f0b6",
        "IPY_MODEL_a3509e893f1544168caa2cb5ec513211"
       ],
       "layout": "IPY_MODEL_8d3aee7aa47c45519e979a39ac3dfb03"
      }
     },
     "424cefa9f1474b368413fff69079f0b6": {
      "model_module": "@jupyter-widgets/controls",
      "model_module_version": "1.5.0",
      "model_name": "FloatProgressModel",
      "state": {
       "_dom_classes": [],
       "_model_module": "@jupyter-widgets/controls",
       "_model_module_version": "1.5.0",
       "_model_name": "FloatProgressModel",
       "_view_count": null,
       "_view_module": "@jupyter-widgets/controls",
       "_view_module_version": "1.5.0",
       "_view_name": "ProgressView",
       "bar_style": "success",
       "description": "",
       "description_tooltip": null,
       "layout": "IPY_MODEL_f2b9fd420aad459f9352c05ce3196716",
       "max": 87319819.0,
       "min": 0.0,
       "orientation": "horizontal",
       "style": "IPY_MODEL_4c168e03b3b94b51abdbe34c7114e052",
       "value": 87319819.0
      }
     },
     "4c168e03b3b94b51abdbe34c7114e052": {
      "model_module": "@jupyter-widgets/controls",
      "model_module_version": "1.5.0",
      "model_name": "ProgressStyleModel",
      "state": {
       "_model_module": "@jupyter-widgets/controls",
       "_model_module_version": "1.5.0",
       "_model_name": "ProgressStyleModel",
       "_view_count": null,
       "_view_module": "@jupyter-widgets/base",
       "_view_module_version": "1.2.0",
       "_view_name": "StyleView",
       "bar_color": null,
       "description_width": ""
      }
     },
     "73d902683f944453973e8f8f51bec4ff": {
      "model_module": "@jupyter-widgets/controls",
      "model_module_version": "1.5.0",
      "model_name": "DescriptionStyleModel",
      "state": {
       "_model_module": "@jupyter-widgets/controls",
       "_model_module_version": "1.5.0",
       "_model_name": "DescriptionStyleModel",
       "_view_count": null,
       "_view_module": "@jupyter-widgets/base",
       "_view_module_version": "1.2.0",
       "_view_name": "StyleView",
       "description_width": ""
      }
     },
     "8d3aee7aa47c45519e979a39ac3dfb03": {
      "model_module": "@jupyter-widgets/base",
      "model_module_version": "1.2.0",
      "model_name": "LayoutModel",
      "state": {
       "_model_module": "@jupyter-widgets/base",
       "_model_module_version": "1.2.0",
       "_model_name": "LayoutModel",
       "_view_count": null,
       "_view_module": "@jupyter-widgets/base",
       "_view_module_version": "1.2.0",
       "_view_name": "LayoutView",
       "align_content": null,
       "align_items": null,
       "align_self": null,
       "border": null,
       "bottom": null,
       "display": null,
       "flex": null,
       "flex_flow": null,
       "grid_area": null,
       "grid_auto_columns": null,
       "grid_auto_flow": null,
       "grid_auto_rows": null,
       "grid_column": null,
       "grid_gap": null,
       "grid_row": null,
       "grid_template_areas": null,
       "grid_template_columns": null,
       "grid_template_rows": null,
       "height": null,
       "justify_content": null,
       "justify_items": null,
       "left": null,
       "margin": null,
       "max_height": null,
       "max_width": null,
       "min_height": null,
       "min_width": null,
       "object_fit": null,
       "object_position": null,
       "order": null,
       "overflow": null,
       "overflow_x": null,
       "overflow_y": null,
       "padding": null,
       "right": null,
       "top": null,
       "visibility": null,
       "width": null
      }
     },
     "97f2e7409d434f179d9dd997e72561fd": {
      "model_module": "@jupyter-widgets/controls",
      "model_module_version": "1.5.0",
      "model_name": "DescriptionStyleModel",
      "state": {
       "_model_module": "@jupyter-widgets/controls",
       "_model_module_version": "1.5.0",
       "_model_name": "DescriptionStyleModel",
       "_view_count": null,
       "_view_module": "@jupyter-widgets/base",
       "_view_module_version": "1.2.0",
       "_view_name": "StyleView",
       "description_width": ""
      }
     },
     "a3509e893f1544168caa2cb5ec513211": {
      "model_module": "@jupyter-widgets/controls",
      "model_module_version": "1.5.0",
      "model_name": "HTMLModel",
      "state": {
       "_dom_classes": [],
       "_model_module": "@jupyter-widgets/controls",
       "_model_module_version": "1.5.0",
       "_model_name": "HTMLModel",
       "_view_count": null,
       "_view_module": "@jupyter-widgets/controls",
       "_view_module_version": "1.5.0",
       "_view_name": "HTMLView",
       "description": "",
       "description_tooltip": null,
       "layout": "IPY_MODEL_e35c7babed034cadb01fba86d6bec842",
       "placeholder": "​",
       "style": "IPY_MODEL_73d902683f944453973e8f8f51bec4ff",
       "value": " 83.3M/83.3M [00:04&lt;00:00, 25.2MB/s]"
      }
     },
     "e35c7babed034cadb01fba86d6bec842": {
      "model_module": "@jupyter-widgets/base",
      "model_module_version": "1.2.0",
      "model_name": "LayoutModel",
      "state": {
       "_model_module": "@jupyter-widgets/base",
       "_model_module_version": "1.2.0",
       "_model_name": "LayoutModel",
       "_view_count": null,
       "_view_module": "@jupyter-widgets/base",
       "_view_module_version": "1.2.0",
       "_view_name": "LayoutView",
       "align_content": null,
       "align_items": null,
       "align_self": null,
       "border": null,
       "bottom": null,
       "display": null,
       "flex": null,
       "flex_flow": null,
       "grid_area": null,
       "grid_auto_columns": null,
       "grid_auto_flow": null,
       "grid_auto_rows": null,
       "grid_column": null,
       "grid_gap": null,
       "grid_row": null,
       "grid_template_areas": null,
       "grid_template_columns": null,
       "grid_template_rows": null,
       "height": null,
       "justify_content": null,
       "justify_items": null,
       "left": null,
       "margin": null,
       "max_height": null,
       "max_width": null,
       "min_height": null,
       "min_width": null,
       "object_fit": null,
       "object_position": null,
       "order": null,
       "overflow": null,
       "overflow_x": null,
       "overflow_y": null,
       "padding": null,
       "right": null,
       "top": null,
       "visibility": null,
       "width": null
      }
     },
     "e43bd31aa4ee41a0890e640131d1f342": {
      "model_module": "@jupyter-widgets/controls",
      "model_module_version": "1.5.0",
      "model_name": "HTMLModel",
      "state": {
       "_dom_classes": [],
       "_model_module": "@jupyter-widgets/controls",
       "_model_module_version": "1.5.0",
       "_model_name": "HTMLModel",
       "_view_count": null,
       "_view_module": "@jupyter-widgets/controls",
       "_view_module_version": "1.5.0",
       "_view_name": "HTMLView",
       "description": "",
       "description_tooltip": null,
       "layout": "IPY_MODEL_0b023ff48d154d258421d792140c7762",
       "placeholder": "​",
       "style": "IPY_MODEL_97f2e7409d434f179d9dd997e72561fd",
       "value": "100%"
      }
     },
     "f2b9fd420aad459f9352c05ce3196716": {
      "model_module": "@jupyter-widgets/base",
      "model_module_version": "1.2.0",
      "model_name": "LayoutModel",
      "state": {
       "_model_module": "@jupyter-widgets/base",
       "_model_module_version": "1.2.0",
       "_model_name": "LayoutModel",
       "_view_count": null,
       "_view_module": "@jupyter-widgets/base",
       "_view_module_version": "1.2.0",
       "_view_name": "LayoutView",
       "align_content": null,
       "align_items": null,
       "align_self": null,
       "border": null,
       "bottom": null,
       "display": null,
       "flex": null,
       "flex_flow": null,
       "grid_area": null,
       "grid_auto_columns": null,
       "grid_auto_flow": null,
       "grid_auto_rows": null,
       "grid_column": null,
       "grid_gap": null,
       "grid_row": null,
       "grid_template_areas": null,
       "grid_template_columns": null,
       "grid_template_rows": null,
       "height": null,
       "justify_content": null,
       "justify_items": null,
       "left": null,
       "margin": null,
       "max_height": null,
       "max_width": null,
       "min_height": null,
       "min_width": null,
       "object_fit": null,
       "object_position": null,
       "order": null,
       "overflow": null,
       "overflow_x": null,
       "overflow_y": null,
       "padding": null,
       "right": null,
       "top": null,
       "visibility": null,
       "width": null
      }
     }
    },
    "version_major": 2,
    "version_minor": 0
   }
  }
 },
 "nbformat": 4,
 "nbformat_minor": 5
}
