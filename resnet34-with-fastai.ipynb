{
 "cells": [
  {
   "cell_type": "markdown",
   "id": "0c24cd90",
   "metadata": {
    "execution": {
     "iopub.execute_input": "2022-07-20T13:45:01.425116Z",
     "iopub.status.busy": "2022-07-20T13:45:01.424669Z",
     "iopub.status.idle": "2022-07-20T13:45:01.432970Z",
     "shell.execute_reply": "2022-07-20T13:45:01.431840Z",
     "shell.execute_reply.started": "2022-07-20T13:45:01.425077Z"
    },
    "papermill": {
     "duration": 0.004961,
     "end_time": "2022-07-20T14:03:58.363965",
     "exception": false,
     "start_time": "2022-07-20T14:03:58.359004",
     "status": "completed"
    },
    "tags": []
   },
   "source": [
    "### 1. Preliminaries"
   ]
  },
  {
   "cell_type": "code",
   "execution_count": 1,
   "id": "0820e6ad",
   "metadata": {
    "execution": {
     "iopub.execute_input": "2022-07-20T14:03:58.375047Z",
     "iopub.status.busy": "2022-07-20T14:03:58.373805Z",
     "iopub.status.idle": "2022-07-20T14:04:28.883887Z",
     "shell.execute_reply": "2022-07-20T14:04:28.882868Z"
    },
    "papermill": {
     "duration": 30.519853,
     "end_time": "2022-07-20T14:04:28.888318",
     "exception": false,
     "start_time": "2022-07-20T14:03:58.368465",
     "status": "completed"
    },
    "tags": []
   },
   "outputs": [
    {
     "name": "stdout",
     "output_type": "stream",
     "text": [
      "\u001b[33mWARNING: Running pip as the 'root' user can result in broken permissions and conflicting behaviour with the system package manager. It is recommended to use a virtual environment instead: https://pip.pypa.io/warnings/venv\u001b[0m\u001b[33m\r\n",
      "\u001b[0m"
     ]
    },
    {
     "data": {
      "text/html": [
       "<div>\n",
       "<style scoped>\n",
       "    .dataframe tbody tr th:only-of-type {\n",
       "        vertical-align: middle;\n",
       "    }\n",
       "\n",
       "    .dataframe tbody tr th {\n",
       "        vertical-align: top;\n",
       "    }\n",
       "\n",
       "    .dataframe thead th {\n",
       "        text-align: right;\n",
       "    }\n",
       "</style>\n",
       "<table border=\"1\" class=\"dataframe\">\n",
       "  <thead>\n",
       "    <tr style=\"text-align: right;\">\n",
       "      <th></th>\n",
       "      <th>image_id</th>\n",
       "      <th>label</th>\n",
       "      <th>variety</th>\n",
       "      <th>age</th>\n",
       "    </tr>\n",
       "  </thead>\n",
       "  <tbody>\n",
       "    <tr>\n",
       "      <th>0</th>\n",
       "      <td>102234.jpg</td>\n",
       "      <td>bacterial_leaf_blight</td>\n",
       "      <td>45</td>\n",
       "      <td>45</td>\n",
       "    </tr>\n",
       "    <tr>\n",
       "      <th>1</th>\n",
       "      <td>102735.jpg</td>\n",
       "      <td>bacterial_leaf_blight</td>\n",
       "      <td>45</td>\n",
       "      <td>45</td>\n",
       "    </tr>\n",
       "    <tr>\n",
       "      <th>2</th>\n",
       "      <td>103544.jpg</td>\n",
       "      <td>bacterial_leaf_blight</td>\n",
       "      <td>45</td>\n",
       "      <td>45</td>\n",
       "    </tr>\n",
       "    <tr>\n",
       "      <th>3</th>\n",
       "      <td>103714.jpg</td>\n",
       "      <td>bacterial_leaf_blight</td>\n",
       "      <td>45</td>\n",
       "      <td>45</td>\n",
       "    </tr>\n",
       "    <tr>\n",
       "      <th>4</th>\n",
       "      <td>103827.jpg</td>\n",
       "      <td>bacterial_leaf_blight</td>\n",
       "      <td>45</td>\n",
       "      <td>45</td>\n",
       "    </tr>\n",
       "  </tbody>\n",
       "</table>\n",
       "</div>"
      ],
      "text/plain": [
       "     image_id                  label variety  age\n",
       "0  102234.jpg  bacterial_leaf_blight      45   45\n",
       "1  102735.jpg  bacterial_leaf_blight      45   45\n",
       "2  103544.jpg  bacterial_leaf_blight      45   45\n",
       "3  103714.jpg  bacterial_leaf_blight      45   45\n",
       "4  103827.jpg  bacterial_leaf_blight      45   45"
      ]
     },
     "execution_count": 1,
     "metadata": {},
     "output_type": "execute_result"
    }
   ],
   "source": [
    "try: import fastkaggle\n",
    "\n",
    "except ModuleNotFoundError:\n",
    "    !pip install -Uq fastkaggle\n",
    "\n",
    "from fastkaggle import *\n",
    "\n",
    "competition = 'paddy-doctor-diseases-v2'\n",
    "path = setup_comp(competition, install='fastai \"timm>=0.6.2.dev0\"')\n",
    "\n",
    "from fastai.vision.all import *\n",
    "set_seed(42)\n",
    "\n",
    "# train images\n",
    "train_path = path / 'train_images'\n",
    "train_files = get_image_files(train_path)\n",
    "\n",
    "# test images\n",
    "test_path = path/'test_images'\n",
    "test_files = get_image_files(test_path).sorted()\n",
    "\n",
    "# train labels\n",
    "train_df = pd.read_csv(path / 'train.csv')\n",
    "train_df.head()"
   ]
  },
  {
   "cell_type": "markdown",
   "id": "b5f9f7eb",
   "metadata": {
    "papermill": {
     "duration": 0.003896,
     "end_time": "2022-07-20T14:04:28.896341",
     "exception": false,
     "start_time": "2022-07-20T14:04:28.892445",
     "status": "completed"
    },
    "tags": []
   },
   "source": [
    "### 2. Dataloaders"
   ]
  },
  {
   "cell_type": "code",
   "execution_count": 2,
   "id": "b0abf251",
   "metadata": {
    "execution": {
     "iopub.execute_input": "2022-07-20T14:04:28.906621Z",
     "iopub.status.busy": "2022-07-20T14:04:28.905850Z",
     "iopub.status.idle": "2022-07-20T14:04:36.734980Z",
     "shell.execute_reply": "2022-07-20T14:04:36.733904Z"
    },
    "papermill": {
     "duration": 7.837332,
     "end_time": "2022-07-20T14:04:36.737766",
     "exception": false,
     "start_time": "2022-07-20T14:04:28.900434",
     "status": "completed"
    },
    "tags": []
   },
   "outputs": [],
   "source": [
    "dblock = DataBlock(\n",
    "    blocks=(ImageBlock, CategoryBlock),\n",
    "    get_items=get_image_files,\n",
    "    get_y=parent_label,\n",
    "    splitter=RandomSplitter(0.2, seed=42),\n",
    "    item_tfms=Resize(480, method='squish'),\n",
    "    batch_tfms=aug_transforms(size=224, min_scale=0.75)\n",
    ")\n",
    "\n",
    "dls = dblock.dataloaders(train_path)"
   ]
  },
  {
   "cell_type": "code",
   "execution_count": 3,
   "id": "42f90fe4",
   "metadata": {
    "execution": {
     "iopub.execute_input": "2022-07-20T14:04:36.749861Z",
     "iopub.status.busy": "2022-07-20T14:04:36.748868Z",
     "iopub.status.idle": "2022-07-20T14:04:38.844798Z",
     "shell.execute_reply": "2022-07-20T14:04:38.843851Z"
    },
    "papermill": {
     "duration": 2.10463,
     "end_time": "2022-07-20T14:04:38.847459",
     "exception": false,
     "start_time": "2022-07-20T14:04:36.742829",
     "status": "completed"
    },
    "tags": []
   },
   "outputs": [],
   "source": [
    "dls = ImageDataLoaders.from_folder(\n",
    "    train_path, \n",
    "    valid_pct=0.2,\n",
    "    seed=42,\n",
    "    item_tfms=Resize(480, method='squish'),\n",
    "    batch_tfms=aug_transforms(size=224, min_scale=0.75)\n",
    ")"
   ]
  },
  {
   "cell_type": "markdown",
   "id": "ca3e1162",
   "metadata": {
    "papermill": {
     "duration": 0.003991,
     "end_time": "2022-07-20T14:04:38.856066",
     "exception": false,
     "start_time": "2022-07-20T14:04:38.852075",
     "status": "completed"
    },
    "tags": []
   },
   "source": [
    "### 3. Model training"
   ]
  },
  {
   "cell_type": "code",
   "execution_count": 4,
   "id": "9e61f6ce",
   "metadata": {
    "execution": {
     "iopub.execute_input": "2022-07-20T14:04:38.865470Z",
     "iopub.status.busy": "2022-07-20T14:04:38.865118Z",
     "iopub.status.idle": "2022-07-20T14:04:49.007501Z",
     "shell.execute_reply": "2022-07-20T14:04:49.006543Z"
    },
    "papermill": {
     "duration": 10.149709,
     "end_time": "2022-07-20T14:04:49.009790",
     "exception": false,
     "start_time": "2022-07-20T14:04:38.860081",
     "status": "completed"
    },
    "tags": []
   },
   "outputs": [
    {
     "name": "stderr",
     "output_type": "stream",
     "text": [
      "Downloading: \"https://download.pytorch.org/models/resnet34-b627a593.pth\" to /root/.cache/torch/hub/checkpoints/resnet34-b627a593.pth\n"
     ]
    },
    {
     "data": {
      "application/vnd.jupyter.widget-view+json": {
       "model_id": "1cb4249773064f67b22b775203d5d05e",
       "version_major": 2,
       "version_minor": 0
      },
      "text/plain": [
       "  0%|          | 0.00/83.3M [00:00<?, ?B/s]"
      ]
     },
     "metadata": {},
     "output_type": "display_data"
    }
   ],
   "source": [
    "learn = vision_learner(dls, resnet34, metrics=error_rate).to_fp16()"
   ]
  },
  {
   "cell_type": "markdown",
   "id": "e07e9cda",
   "metadata": {
    "papermill": {
     "duration": 0.004242,
     "end_time": "2022-07-20T14:04:49.018647",
     "exception": false,
     "start_time": "2022-07-20T14:04:49.014405",
     "status": "completed"
    },
    "tags": []
   },
   "source": [
    "And that's it, 16 epochs to get the best baseline for the price "
   ]
  },
  {
   "cell_type": "code",
   "execution_count": 5,
   "id": "a199f418",
   "metadata": {
    "execution": {
     "iopub.execute_input": "2022-07-20T14:04:49.028935Z",
     "iopub.status.busy": "2022-07-20T14:04:49.028566Z",
     "iopub.status.idle": "2022-07-20T14:43:47.347587Z",
     "shell.execute_reply": "2022-07-20T14:43:47.346593Z"
    },
    "papermill": {
     "duration": 2338.326863,
     "end_time": "2022-07-20T14:43:47.349797",
     "exception": false,
     "start_time": "2022-07-20T14:04:49.022934",
     "status": "completed"
    },
    "scrolled": true,
    "tags": []
   },
   "outputs": [
    {
     "data": {
      "text/html": [
       "\n",
       "<style>\n",
       "    /* Turns off some styling */\n",
       "    progress {\n",
       "        /* gets rid of default border in Firefox and Opera. */\n",
       "        border: none;\n",
       "        /* Needs to be in here for Safari polyfill so background images work as expected. */\n",
       "        background-size: auto;\n",
       "    }\n",
       "    .progress-bar-interrupted, .progress-bar-interrupted::-webkit-progress-bar {\n",
       "        background: #F44336;\n",
       "    }\n",
       "</style>\n"
      ],
      "text/plain": [
       "<IPython.core.display.HTML object>"
      ]
     },
     "metadata": {},
     "output_type": "display_data"
    },
    {
     "data": {
      "text/html": [
       "<table border=\"1\" class=\"dataframe\">\n",
       "  <thead>\n",
       "    <tr style=\"text-align: left;\">\n",
       "      <th>epoch</th>\n",
       "      <th>train_loss</th>\n",
       "      <th>valid_loss</th>\n",
       "      <th>error_rate</th>\n",
       "      <th>time</th>\n",
       "    </tr>\n",
       "  </thead>\n",
       "  <tbody>\n",
       "    <tr>\n",
       "      <td>0</td>\n",
       "      <td>1.809070</td>\n",
       "      <td>1.088804</td>\n",
       "      <td>0.344376</td>\n",
       "      <td>02:26</td>\n",
       "    </tr>\n",
       "  </tbody>\n",
       "</table>"
      ],
      "text/plain": [
       "<IPython.core.display.HTML object>"
      ]
     },
     "metadata": {},
     "output_type": "display_data"
    },
    {
     "data": {
      "text/html": [
       "\n",
       "<style>\n",
       "    /* Turns off some styling */\n",
       "    progress {\n",
       "        /* gets rid of default border in Firefox and Opera. */\n",
       "        border: none;\n",
       "        /* Needs to be in here for Safari polyfill so background images work as expected. */\n",
       "        background-size: auto;\n",
       "    }\n",
       "    .progress-bar-interrupted, .progress-bar-interrupted::-webkit-progress-bar {\n",
       "        background: #F44336;\n",
       "    }\n",
       "</style>\n"
      ],
      "text/plain": [
       "<IPython.core.display.HTML object>"
      ]
     },
     "metadata": {},
     "output_type": "display_data"
    },
    {
     "data": {
      "text/html": [
       "<table border=\"1\" class=\"dataframe\">\n",
       "  <thead>\n",
       "    <tr style=\"text-align: left;\">\n",
       "      <th>epoch</th>\n",
       "      <th>train_loss</th>\n",
       "      <th>valid_loss</th>\n",
       "      <th>error_rate</th>\n",
       "      <th>time</th>\n",
       "    </tr>\n",
       "  </thead>\n",
       "  <tbody>\n",
       "    <tr>\n",
       "      <td>0</td>\n",
       "      <td>0.757749</td>\n",
       "      <td>0.448744</td>\n",
       "      <td>0.140986</td>\n",
       "      <td>02:17</td>\n",
       "    </tr>\n",
       "    <tr>\n",
       "      <td>1</td>\n",
       "      <td>0.456639</td>\n",
       "      <td>0.344983</td>\n",
       "      <td>0.103236</td>\n",
       "      <td>02:19</td>\n",
       "    </tr>\n",
       "    <tr>\n",
       "      <td>2</td>\n",
       "      <td>0.418523</td>\n",
       "      <td>0.390870</td>\n",
       "      <td>0.117874</td>\n",
       "      <td>02:18</td>\n",
       "    </tr>\n",
       "    <tr>\n",
       "      <td>3</td>\n",
       "      <td>0.389006</td>\n",
       "      <td>0.353229</td>\n",
       "      <td>0.110169</td>\n",
       "      <td>02:18</td>\n",
       "    </tr>\n",
       "    <tr>\n",
       "      <td>4</td>\n",
       "      <td>0.334059</td>\n",
       "      <td>0.301345</td>\n",
       "      <td>0.088598</td>\n",
       "      <td>02:17</td>\n",
       "    </tr>\n",
       "    <tr>\n",
       "      <td>5</td>\n",
       "      <td>0.304592</td>\n",
       "      <td>0.294063</td>\n",
       "      <td>0.089753</td>\n",
       "      <td>02:16</td>\n",
       "    </tr>\n",
       "    <tr>\n",
       "      <td>6</td>\n",
       "      <td>0.236659</td>\n",
       "      <td>0.313776</td>\n",
       "      <td>0.083590</td>\n",
       "      <td>02:16</td>\n",
       "    </tr>\n",
       "    <tr>\n",
       "      <td>7</td>\n",
       "      <td>0.202414</td>\n",
       "      <td>0.214779</td>\n",
       "      <td>0.059707</td>\n",
       "      <td>02:16</td>\n",
       "    </tr>\n",
       "    <tr>\n",
       "      <td>8</td>\n",
       "      <td>0.143856</td>\n",
       "      <td>0.155020</td>\n",
       "      <td>0.037750</td>\n",
       "      <td>02:16</td>\n",
       "    </tr>\n",
       "    <tr>\n",
       "      <td>9</td>\n",
       "      <td>0.109134</td>\n",
       "      <td>0.151907</td>\n",
       "      <td>0.039291</td>\n",
       "      <td>02:17</td>\n",
       "    </tr>\n",
       "    <tr>\n",
       "      <td>10</td>\n",
       "      <td>0.084162</td>\n",
       "      <td>0.121270</td>\n",
       "      <td>0.030817</td>\n",
       "      <td>02:15</td>\n",
       "    </tr>\n",
       "    <tr>\n",
       "      <td>11</td>\n",
       "      <td>0.065157</td>\n",
       "      <td>0.137924</td>\n",
       "      <td>0.028505</td>\n",
       "      <td>02:16</td>\n",
       "    </tr>\n",
       "    <tr>\n",
       "      <td>12</td>\n",
       "      <td>0.044018</td>\n",
       "      <td>0.121541</td>\n",
       "      <td>0.026194</td>\n",
       "      <td>02:15</td>\n",
       "    </tr>\n",
       "    <tr>\n",
       "      <td>13</td>\n",
       "      <td>0.029025</td>\n",
       "      <td>0.110549</td>\n",
       "      <td>0.025039</td>\n",
       "      <td>02:16</td>\n",
       "    </tr>\n",
       "    <tr>\n",
       "      <td>14</td>\n",
       "      <td>0.024359</td>\n",
       "      <td>0.116638</td>\n",
       "      <td>0.025039</td>\n",
       "      <td>02:16</td>\n",
       "    </tr>\n",
       "    <tr>\n",
       "      <td>15</td>\n",
       "      <td>0.021507</td>\n",
       "      <td>0.113407</td>\n",
       "      <td>0.024268</td>\n",
       "      <td>02:17</td>\n",
       "    </tr>\n",
       "  </tbody>\n",
       "</table>"
      ],
      "text/plain": [
       "<IPython.core.display.HTML object>"
      ]
     },
     "metadata": {},
     "output_type": "display_data"
    }
   ],
   "source": [
    "learn.fine_tune(16, 0.005)\n",
    "#learn.fine_tune(2, 0.005)"
   ]
  },
  {
   "cell_type": "markdown",
   "id": "5a504e4f",
   "metadata": {
    "papermill": {
     "duration": 0.005069,
     "end_time": "2022-07-20T14:43:47.360107",
     "exception": false,
     "start_time": "2022-07-20T14:43:47.355038",
     "status": "completed"
    },
    "tags": []
   },
   "source": [
    "### 4. Predictions"
   ]
  },
  {
   "cell_type": "code",
   "execution_count": 6,
   "id": "5a675d99",
   "metadata": {
    "execution": {
     "iopub.execute_input": "2022-07-20T14:43:47.372113Z",
     "iopub.status.busy": "2022-07-20T14:43:47.371772Z",
     "iopub.status.idle": "2022-07-20T14:44:14.593541Z",
     "shell.execute_reply": "2022-07-20T14:44:14.592343Z"
    },
    "papermill": {
     "duration": 27.231072,
     "end_time": "2022-07-20T14:44:14.596192",
     "exception": false,
     "start_time": "2022-07-20T14:43:47.365120",
     "status": "completed"
    },
    "tags": []
   },
   "outputs": [
    {
     "data": {
      "text/html": [
       "\n",
       "<style>\n",
       "    /* Turns off some styling */\n",
       "    progress {\n",
       "        /* gets rid of default border in Firefox and Opera. */\n",
       "        border: none;\n",
       "        /* Needs to be in here for Safari polyfill so background images work as expected. */\n",
       "        background-size: auto;\n",
       "    }\n",
       "    .progress-bar-interrupted, .progress-bar-interrupted::-webkit-progress-bar {\n",
       "        background: #F44336;\n",
       "    }\n",
       "</style>\n"
      ],
      "text/plain": [
       "<IPython.core.display.HTML object>"
      ]
     },
     "metadata": {},
     "output_type": "display_data"
    },
    {
     "data": {
      "text/html": [],
      "text/plain": [
       "<IPython.core.display.HTML object>"
      ]
     },
     "metadata": {},
     "output_type": "display_data"
    },
    {
     "data": {
      "text/plain": [
       "TensorBase(0.0243)"
      ]
     },
     "execution_count": 6,
     "metadata": {},
     "output_type": "execute_result"
    }
   ],
   "source": [
    "# Get predictions on validation set\n",
    "probs, target = learn.get_preds(dl=dls.valid)\n",
    "error_rate(probs, target)"
   ]
  },
  {
   "cell_type": "code",
   "execution_count": 7,
   "id": "fa0fd591",
   "metadata": {
    "execution": {
     "iopub.execute_input": "2022-07-20T14:44:14.609048Z",
     "iopub.status.busy": "2022-07-20T14:44:14.608731Z",
     "iopub.status.idle": "2022-07-20T14:46:25.752909Z",
     "shell.execute_reply": "2022-07-20T14:46:25.751785Z"
    },
    "papermill": {
     "duration": 131.152753,
     "end_time": "2022-07-20T14:46:25.754966",
     "exception": false,
     "start_time": "2022-07-20T14:44:14.602213",
     "status": "completed"
    },
    "tags": []
   },
   "outputs": [
    {
     "data": {
      "text/html": [
       "\n",
       "<style>\n",
       "    /* Turns off some styling */\n",
       "    progress {\n",
       "        /* gets rid of default border in Firefox and Opera. */\n",
       "        border: none;\n",
       "        /* Needs to be in here for Safari polyfill so background images work as expected. */\n",
       "        background-size: auto;\n",
       "    }\n",
       "    .progress-bar-interrupted, .progress-bar-interrupted::-webkit-progress-bar {\n",
       "        background: #F44336;\n",
       "    }\n",
       "</style>\n"
      ],
      "text/plain": [
       "<IPython.core.display.HTML object>"
      ]
     },
     "metadata": {},
     "output_type": "display_data"
    },
    {
     "data": {
      "text/html": [
       "\n",
       "    <div>\n",
       "      <progress value='0' class='' max='16' style='width:300px; height:20px; vertical-align: middle;'></progress>\n",
       "      \n",
       "    </div>\n",
       "    \n"
      ],
      "text/plain": [
       "<IPython.core.display.HTML object>"
      ]
     },
     "metadata": {},
     "output_type": "display_data"
    },
    {
     "data": {
      "text/html": [
       "\n",
       "<style>\n",
       "    /* Turns off some styling */\n",
       "    progress {\n",
       "        /* gets rid of default border in Firefox and Opera. */\n",
       "        border: none;\n",
       "        /* Needs to be in here for Safari polyfill so background images work as expected. */\n",
       "        background-size: auto;\n",
       "    }\n",
       "    .progress-bar-interrupted, .progress-bar-interrupted::-webkit-progress-bar {\n",
       "        background: #F44336;\n",
       "    }\n",
       "</style>\n"
      ],
      "text/plain": [
       "<IPython.core.display.HTML object>"
      ]
     },
     "metadata": {},
     "output_type": "display_data"
    },
    {
     "data": {
      "text/html": [],
      "text/plain": [
       "<IPython.core.display.HTML object>"
      ]
     },
     "metadata": {},
     "output_type": "display_data"
    },
    {
     "data": {
      "text/plain": [
       "TensorBase(0.0231)"
      ]
     },
     "execution_count": 7,
     "metadata": {},
     "output_type": "execute_result"
    }
   ],
   "source": [
    "# Get TTA predictions on validation set\n",
    "probs, target = learn.tta(dl=dls.valid)\n",
    "error_rate(probs, target)"
   ]
  },
  {
   "cell_type": "markdown",
   "id": "0cc66dd8",
   "metadata": {
    "papermill": {
     "duration": 0.006405,
     "end_time": "2022-07-20T14:46:25.768178",
     "exception": false,
     "start_time": "2022-07-20T14:46:25.761773",
     "status": "completed"
    },
    "tags": []
   },
   "source": [
    "#### Predictions on test set"
   ]
  },
  {
   "cell_type": "code",
   "execution_count": 8,
   "id": "9ac2ead9",
   "metadata": {
    "execution": {
     "iopub.execute_input": "2022-07-20T14:46:25.781753Z",
     "iopub.status.busy": "2022-07-20T14:46:25.781442Z",
     "iopub.status.idle": "2022-07-20T14:49:03.696659Z",
     "shell.execute_reply": "2022-07-20T14:49:03.695565Z"
    },
    "papermill": {
     "duration": 157.924599,
     "end_time": "2022-07-20T14:49:03.699170",
     "exception": false,
     "start_time": "2022-07-20T14:46:25.774571",
     "status": "completed"
    },
    "tags": []
   },
   "outputs": [
    {
     "data": {
      "text/html": [
       "\n",
       "<style>\n",
       "    /* Turns off some styling */\n",
       "    progress {\n",
       "        /* gets rid of default border in Firefox and Opera. */\n",
       "        border: none;\n",
       "        /* Needs to be in here for Safari polyfill so background images work as expected. */\n",
       "        background-size: auto;\n",
       "    }\n",
       "    .progress-bar-interrupted, .progress-bar-interrupted::-webkit-progress-bar {\n",
       "        background: #F44336;\n",
       "    }\n",
       "</style>\n"
      ],
      "text/plain": [
       "<IPython.core.display.HTML object>"
      ]
     },
     "metadata": {},
     "output_type": "display_data"
    },
    {
     "data": {
      "text/html": [
       "\n",
       "    <div>\n",
       "      <progress value='0' class='' max='16' style='width:300px; height:20px; vertical-align: middle;'></progress>\n",
       "      \n",
       "    </div>\n",
       "    \n"
      ],
      "text/plain": [
       "<IPython.core.display.HTML object>"
      ]
     },
     "metadata": {},
     "output_type": "display_data"
    },
    {
     "data": {
      "text/html": [
       "\n",
       "<style>\n",
       "    /* Turns off some styling */\n",
       "    progress {\n",
       "        /* gets rid of default border in Firefox and Opera. */\n",
       "        border: none;\n",
       "        /* Needs to be in here for Safari polyfill so background images work as expected. */\n",
       "        background-size: auto;\n",
       "    }\n",
       "    .progress-bar-interrupted, .progress-bar-interrupted::-webkit-progress-bar {\n",
       "        background: #F44336;\n",
       "    }\n",
       "</style>\n"
      ],
      "text/plain": [
       "<IPython.core.display.HTML object>"
      ]
     },
     "metadata": {},
     "output_type": "display_data"
    },
    {
     "data": {
      "text/html": [],
      "text/plain": [
       "<IPython.core.display.HTML object>"
      ]
     },
     "metadata": {},
     "output_type": "display_data"
    }
   ],
   "source": [
    "# test images\n",
    "test_path = path/'test_images'\n",
    "test_files = get_image_files(test_path).sorted()\n",
    "test_classes = [f.parent.name for f in test_files]\n",
    "\n",
    "probs, _ = learn.tta(dl=dls.test_dl(test_files))\n",
    "preds = probs.argmax(dim=1)\n",
    "pred_classes = dls.vocab[preds]"
   ]
  },
  {
   "cell_type": "code",
   "execution_count": 9,
   "id": "633c1c94",
   "metadata": {
    "execution": {
     "iopub.execute_input": "2022-07-20T14:49:03.713269Z",
     "iopub.status.busy": "2022-07-20T14:49:03.712905Z",
     "iopub.status.idle": "2022-07-20T14:49:03.785415Z",
     "shell.execute_reply": "2022-07-20T14:49:03.783963Z"
    },
    "papermill": {
     "duration": 0.081937,
     "end_time": "2022-07-20T14:49:03.787558",
     "exception": false,
     "start_time": "2022-07-20T14:49:03.705621",
     "status": "completed"
    },
    "tags": []
   },
   "outputs": [
    {
     "name": "stdout",
     "output_type": "stream",
     "text": [
      "                          precision    recall  f1-score   support\n",
      "\n",
      "   bacterial_leaf_blight    0.96970   0.98462   0.97710       130\n",
      "   bacterial_leaf_streak    0.94231   0.98000   0.96078       100\n",
      "bacterial_panicle_blight    1.00000   0.97778   0.98876        90\n",
      "        black_stem_borer    0.97849   0.90099   0.93814       101\n",
      "                   blast    0.97441   0.97234   0.97338       470\n",
      "              brown_spot    0.97976   0.95652   0.96800       253\n",
      "            downy_mildew    0.96532   0.95977   0.96254       174\n",
      "                   hispa    0.96128   0.97912   0.97011       431\n",
      "             leaf_roller    0.97297   0.98630   0.97959       219\n",
      "                  normal    0.98760   0.99376   0.99067       481\n",
      "                  tungro    0.99217   0.97436   0.98318       390\n",
      "        white_stem_borer    0.95420   0.98425   0.96899       254\n",
      "       yellow_stem_borer    1.00000   0.98026   0.99003       152\n",
      "\n",
      "                accuracy                        0.97565      3245\n",
      "               macro avg    0.97525   0.97154   0.97318      3245\n",
      "            weighted avg    0.97586   0.97565   0.97563      3245\n",
      "\n"
     ]
    }
   ],
   "source": [
    "from sklearn.metrics import classification_report\n",
    "from sklearn.metrics import accuracy_score\n",
    "\n",
    "cls_report = classification_report(test_classes, pred_classes, \n",
    "                                   digits=5)\n",
    "print(cls_report)\n",
    "acc = accuracy_score(test_classes, pred_classes)"
   ]
  },
  {
   "cell_type": "code",
   "execution_count": 10,
   "id": "2aaf8085",
   "metadata": {
    "execution": {
     "iopub.execute_input": "2022-07-20T14:49:03.803103Z",
     "iopub.status.busy": "2022-07-20T14:49:03.802733Z",
     "iopub.status.idle": "2022-07-20T14:49:04.640605Z",
     "shell.execute_reply": "2022-07-20T14:49:04.639578Z"
    },
    "papermill": {
     "duration": 0.847807,
     "end_time": "2022-07-20T14:49:04.642795",
     "exception": false,
     "start_time": "2022-07-20T14:49:03.794988",
     "status": "completed"
    },
    "tags": []
   },
   "outputs": [
    {
     "data": {
      "image/png": "[encoded data removed]",
      "text/plain": [
       "<Figure size 576x432 with 1 Axes>"
      ]
     },
     "metadata": {
      "needs_background": "light"
     },
     "output_type": "display_data"
    },
    {
     "name": "stdout",
     "output_type": "stream",
     "text": [
      "[[128   1   0   0   0   1   0   0   0   0   0   0   0]\n",
      " [  1  98   0   0   0   0   1   0   0   0   0   0   0]\n",
      " [  0   0  88   0   1   0   0   0   1   0   0   0   0]\n",
      " [  0   0   0  91   1   0   0   0   0   0   1   8   0]\n",
      " [  0   0   0   0 457   1   2   4   2   2   2   0   0]\n",
      " [  0   5   0   0   1 242   2   0   2   0   0   1   0]\n",
      " [  0   0   0   0   3   3 167   0   0   1   0   0   0]\n",
      " [  2   0   0   0   3   0   0 422   1   3   0   0   0]\n",
      " [  0   0   0   0   0   0   0   3 216   0   0   0   0]\n",
      " [  0   0   0   0   0   0   0   3   0 478   0   0   0]\n",
      " [  0   0   0   0   3   0   1   6   0   0 380   0   0]\n",
      " [  1   0   0   2   0   0   0   1   0   0   0 250   0]\n",
      " [  0   0   0   0   0   0   0   0   0   0   0   3 149]]\n"
     ]
    }
   ],
   "source": [
    "import seaborn as sns\n",
    "from sklearn.metrics import confusion_matrix\n",
    "\n",
    "def plot_heatmap(y_true, y_pred, class_names, ax, title):\n",
    "    cm = confusion_matrix(y_true, y_pred)\n",
    "    sns.heatmap(\n",
    "        cm, \n",
    "        annot=True, \n",
    "        square=True, \n",
    "        xticklabels=class_names, \n",
    "        yticklabels=class_names,\n",
    "        fmt='d', \n",
    "        cmap=plt.cm.Blues,\n",
    "        cbar=False,\n",
    "        ax=ax\n",
    "    )\n",
    "    #ax.set_title(title, fontsize=16)\n",
    "    ax.set_xticklabels(ax.get_xticklabels(), fontsize=12, rotation=45, ha=\"right\")\n",
    "    ax.set_yticklabels(ax.get_yticklabels(), fontsize=12)\n",
    "    ax.set_ylabel('True Label', fontsize=12)\n",
    "    ax.set_xlabel('Predicted Label', fontsize=12)\n",
    "\n",
    "fig, ax = plt.subplots(1, 1, figsize=(8, 6))\n",
    "\n",
    "class_names = dls.vocab\n",
    "plot_heatmap(test_classes, pred_classes, class_names, ax, title=\"Resnet34\")    \n",
    "\n",
    "#fig.suptitle(\"Confusion Matrix Model Comparison\", fontsize=12)\n",
    "#fig.tight_layout()\n",
    "#fig.subplots_adjust(top=1.25)\n",
    "plt.show()\n",
    "cm = confusion_matrix(test_classes, pred_classes)\n",
    "print(cm)"
   ]
  },
  {
   "cell_type": "markdown",
   "id": "e49372cb",
   "metadata": {
    "papermill": {
     "duration": 0.006883,
     "end_time": "2022-07-20T14:49:04.657311",
     "exception": false,
     "start_time": "2022-07-20T14:49:04.650428",
     "status": "completed"
    },
    "tags": []
   },
   "source": [
    "#### Acknowledgements\n",
    "1. https://www.kaggle.com/code/fmussari/fast-resnet34-with-fastai\n"
   ]
  }
 ],
 "metadata": {
  "kernelspec": {
   "display_name": "Python 3",
   "language": "python",
   "name": "python3"
  },
  "language_info": {
   "codemirror_mode": {
    "name": "ipython",
    "version": 3
   },
   "file_extension": ".py",
   "mimetype": "text/x-python",
   "name": "python",
   "nbconvert_exporter": "python",
   "pygments_lexer": "ipython3",
   "version": "3.7.12"
  },
  "papermill": {
   "default_parameters": {},
   "duration": 2716.380681,
   "end_time": "2022-07-20T14:49:06.495180",
   "environment_variables": {},
   "exception": null,
   "input_path": "__notebook__.ipynb",
   "output_path": "__notebook__.ipynb",
   "parameters": {},
   "start_time": "2022-07-20T14:03:50.114499",
   "version": "2.3.4"
  },
  "widgets": {
   "application/vnd.jupyter.widget-state+json": {
    "state": {
     "1cb4249773064f67b22b775203d5d05e": {
      "model_module": "@jupyter-widgets/controls",
      "model_module_version": "1.5.0",
      "model_name": "HBoxModel",
      "state": {
       "_dom_classes": [],
       "_model_module": "@jupyter-widgets/controls",
       "_model_module_version": "1.5.0",
       "_model_name": "HBoxModel",
       "_view_count": null,
       "_view_module": "@jupyter-widgets/controls",
       "_view_module_version": "1.5.0",
       "_view_name": "HBoxView",
       "box_style": "",
       "children": [
        "IPY_MODEL_c0f610b6957b4cd6b8c156eb8f544a48",
        "IPY_MODEL_ac3f61ba90c34730996d45bb4ad7377f",
        "IPY_MODEL_921f3663e22b4ce1b42cb40dd168ade8"
       ],
       "layout": "IPY_MODEL_3112a0b8ea3546e5b344850fc2618129"
      }
     },
     "3112a0b8ea3546e5b344850fc2618129": {
      "model_module": "@jupyter-widgets/base",
      "model_module_version": "1.2.0",
      "model_name": "LayoutModel",
      "state": {
       "_model_module": "@jupyter-widgets/base",
       "_model_module_version": "1.2.0",
       "_model_name": "LayoutModel",
       "_view_count": null,
       "_view_module": "@jupyter-widgets/base",
       "_view_module_version": "1.2.0",
       "_view_name": "LayoutView",
       "align_content": null,
       "align_items": null,
       "align_self": null,
       "border": null,
       "bottom": null,
       "display": null,
       "flex": null,
       "flex_flow": null,
       "grid_area": null,
       "grid_auto_columns": null,
       "grid_auto_flow": null,
       "grid_auto_rows": null,
       "grid_column": null,
       "grid_gap": null,
       "grid_row": null,
       "grid_template_areas": null,
       "grid_template_columns": null,
       "grid_template_rows": null,
       "height": null,
       "justify_content": null,
       "justify_items": null,
       "left": null,
       "margin": null,
       "max_height": null,
       "max_width": null,
       "min_height": null,
       "min_width": null,
       "object_fit": null,
       "object_position": null,
       "order": null,
       "overflow": null,
       "overflow_x": null,
       "overflow_y": null,
       "padding": null,
       "right": null,
       "top": null,
       "visibility": null,
       "width": null
      }
     },
     "74ef40b1c08a4f07bb224bda837614e1": {
      "model_module": "@jupyter-widgets/controls",
      "model_module_version": "1.5.0",
      "model_name": "DescriptionStyleModel",
      "state": {
       "_model_module": "@jupyter-widgets/controls",
       "_model_module_version": "1.5.0",
       "_model_name": "DescriptionStyleModel",
       "_view_count": null,
       "_view_module": "@jupyter-widgets/base",
       "_view_module_version": "1.2.0",
       "_view_name": "StyleView",
       "description_width": ""
      }
     },
     "921f3663e22b4ce1b42cb40dd168ade8": {
      "model_module": "@jupyter-widgets/controls",
      "model_module_version": "1.5.0",
      "model_name": "HTMLModel",
      "state": {
       "_dom_classes": [],
       "_model_module": "@jupyter-widgets/controls",
       "_model_module_version": "1.5.0",
       "_model_name": "HTMLModel",
       "_view_count": null,
       "_view_module": "@jupyter-widgets/controls",
       "_view_module_version": "1.5.0",
       "_view_name": "HTMLView",
       "description": "",
       "description_tooltip": null,
       "layout": "IPY_MODEL_bab7d13a5d8f489393005041f2a66de8",
       "placeholder": "​",
       "style": "IPY_MODEL_bd7c3d6b56eb4026b3b43082293e703c",
       "value": " 83.3M/83.3M [00:08&lt;00:00, 12.4MB/s]"
      }
     },
     "ac3f61ba90c34730996d45bb4ad7377f": {
      "model_module": "@jupyter-widgets/controls",
      "model_module_version": "1.5.0",
      "model_name": "FloatProgressModel",
      "state": {
       "_dom_classes": [],
       "_model_module": "@jupyter-widgets/controls",
       "_model_module_version": "1.5.0",
       "_model_name": "FloatProgressModel",
       "_view_count": null,
       "_view_module": "@jupyter-widgets/controls",
       "_view_module_version": "1.5.0",
       "_view_name": "ProgressView",
       "bar_style": "success",
       "description": "",
       "description_tooltip": null,
       "layout": "IPY_MODEL_bb0c39a577394c3f858feb7e8c200e7b",
       "max": 87319819.0,
       "min": 0.0,
       "orientation": "horizontal",
       "style": "IPY_MODEL_fd16fd81774e4f8597a4e9dc3c49b984",
       "value": 87319819.0
      }
     },
     "b847c01fcbd1431e845e1711375d85df": {
      "model_module": "@jupyter-widgets/base",
      "model_module_version": "1.2.0",
      "model_name": "LayoutModel",
      "state": {
       "_model_module": "@jupyter-widgets/base",
       "_model_module_version": "1.2.0",
       "_model_name": "LayoutModel",
       "_view_count": null,
       "_view_module": "@jupyter-widgets/base",
       "_view_module_version": "1.2.0",
       "_view_name": "LayoutView",
       "align_content": null,
       "align_items": null,
       "align_self": null,
       "border": null,
       "bottom": null,
       "display": null,
       "flex": null,
       "flex_flow": null,
       "grid_area": null,
       "grid_auto_columns": null,
       "grid_auto_flow": null,
       "grid_auto_rows": null,
       "grid_column": null,
       "grid_gap": null,
       "grid_row": null,
       "grid_template_areas": null,
       "grid_template_columns": null,
       "grid_template_rows": null,
       "height": null,
       "justify_content": null,
       "justify_items": null,
       "left": null,
       "margin": null,
       "max_height": null,
       "max_width": null,
       "min_height": null,
       "min_width": null,
       "object_fit": null,
       "object_position": null,
       "order": null,
       "overflow": null,
       "overflow_x": null,
       "overflow_y": null,
       "padding": null,
       "right": null,
       "top": null,
       "visibility": null,
       "width": null
      }
     },
     "bab7d13a5d8f489393005041f2a66de8": {
      "model_module": "@jupyter-widgets/base",
      "model_module_version": "1.2.0",
      "model_name": "LayoutModel",
      "state": {
       "_model_module": "@jupyter-widgets/base",
       "_model_module_version": "1.2.0",
       "_model_name": "LayoutModel",
       "_view_count": null,
       "_view_module": "@jupyter-widgets/base",
       "_view_module_version": "1.2.0",
       "_view_name": "LayoutView",
       "align_content": null,
       "align_items": null,
       "align_self": null,
       "border": null,
       "bottom": null,
       "display": null,
       "flex": null,
       "flex_flow": null,
       "grid_area": null,
       "grid_auto_columns": null,
       "grid_auto_flow": null,
       "grid_auto_rows": null,
       "grid_column": null,
       "grid_gap": null,
       "grid_row": null,
       "grid_template_areas": null,
       "grid_template_columns": null,
       "grid_template_rows": null,
       "height": null,
       "justify_content": null,
       "justify_items": null,
       "left": null,
       "margin": null,
       "max_height": null,
       "max_width": null,
       "min_height": null,
       "min_width": null,
       "object_fit": null,
       "object_position": null,
       "order": null,
       "overflow": null,
       "overflow_x": null,
       "overflow_y": null,
       "padding": null,
       "right": null,
       "top": null,
       "visibility": null,
       "width": null
      }
     },
     "bb0c39a577394c3f858feb7e8c200e7b": {
      "model_module": "@jupyter-widgets/base",
      "model_module_version": "1.2.0",
      "model_name": "LayoutModel",
      "state": {
       "_model_module": "@jupyter-widgets/base",
       "_model_module_version": "1.2.0",
       "_model_name": "LayoutModel",
       "_view_count": null,
       "_view_module": "@jupyter-widgets/base",
       "_view_module_version": "1.2.0",
       "_view_name": "LayoutView",
       "align_content": null,
       "align_items": null,
       "align_self": null,
       "border": null,
       "bottom": null,
       "display": null,
       "flex": null,
       "flex_flow": null,
       "grid_area": null,
       "grid_auto_columns": null,
       "grid_auto_flow": null,
       "grid_auto_rows": null,
       "grid_column": null,
       "grid_gap": null,
       "grid_row": null,
       "grid_template_areas": null,
       "grid_template_columns": null,
       "grid_template_rows": null,
       "height": null,
       "justify_content": null,
       "justify_items": null,
       "left": null,
       "margin": null,
       "max_height": null,
       "max_width": null,
       "min_height": null,
       "min_width": null,
       "object_fit": null,
       "object_position": null,
       "order": null,
       "overflow": null,
       "overflow_x": null,
       "overflow_y": null,
       "padding": null,
       "right": null,
       "top": null,
       "visibility": null,
       "width": null
      }
     },
     "bd7c3d6b56eb4026b3b43082293e703c": {
      "model_module": "@jupyter-widgets/controls",
      "model_module_version": "1.5.0",
      "model_name": "DescriptionStyleModel",
      "state": {
       "_model_module": "@jupyter-widgets/controls",
       "_model_module_version": "1.5.0",
       "_model_name": "DescriptionStyleModel",
       "_view_count": null,
       "_view_module": "@jupyter-widgets/base",
       "_view_module_version": "1.2.0",
       "_view_name": "StyleView",
       "description_width": ""
      }
     },
     "c0f610b6957b4cd6b8c156eb8f544a48": {
      "model_module": "@jupyter-widgets/controls",
      "model_module_version": "1.5.0",
      "model_name": "HTMLModel",
      "state": {
       "_dom_classes": [],
       "_model_module": "@jupyter-widgets/controls",
       "_model_module_version": "1.5.0",
       "_model_name": "HTMLModel",
       "_view_count": null,
       "_view_module": "@jupyter-widgets/controls",
       "_view_module_version": "1.5.0",
       "_view_name": "HTMLView",
       "description": "",
       "description_tooltip": null,
       "layout": "IPY_MODEL_b847c01fcbd1431e845e1711375d85df",
       "placeholder": "​",
       "style": "IPY_MODEL_74ef40b1c08a4f07bb224bda837614e1",
       "value": "100%"
      }
     },
     "fd16fd81774e4f8597a4e9dc3c49b984": {
      "model_module": "@jupyter-widgets/controls",
      "model_module_version": "1.5.0",
      "model_name": "ProgressStyleModel",
      "state": {
       "_model_module": "@jupyter-widgets/controls",
       "_model_module_version": "1.5.0",
       "_model_name": "ProgressStyleModel",
       "_view_count": null,
       "_view_module": "@jupyter-widgets/base",
       "_view_module_version": "1.2.0",
       "_view_name": "StyleView",
       "bar_color": null,
       "description_width": ""
      }
     }
    },
    "version_major": 2,
    "version_minor": 0
   }
  }
 },
 "nbformat": 4,
 "nbformat_minor": 5
}
