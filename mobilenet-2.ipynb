{
 "cells": [
  {
   "cell_type": "code",
   "execution_count": 1,
   "id": "b32d9b9a",
   "metadata": {
    "_cell_guid": "b1076dfc-b9ad-4769-8c92-a6c4dae69d19",
    "_uuid": "8f2839f25d086af736a60e9eeb907d3b93b6e0e5",
    "execution": {
     "iopub.execute_input": "2022-07-23T15:22:15.743591Z",
     "iopub.status.busy": "2022-07-23T15:22:15.743083Z",
     "iopub.status.idle": "2022-07-23T15:22:21.533284Z",
     "shell.execute_reply": "2022-07-23T15:22:21.532159Z"
    },
    "papermill": {
     "duration": 5.799907,
     "end_time": "2022-07-23T15:22:21.536419",
     "exception": false,
     "start_time": "2022-07-23T15:22:15.736512",
     "status": "completed"
    },
    "tags": []
   },
   "outputs": [
    {
     "name": "stdout",
     "output_type": "stream",
     "text": [
      "train images\n",
      "1561 \t tungro\n",
      "613 \t yellow_stem_borer\n",
      "1720 \t hispa\n",
      "694 \t downy_mildew\n",
      "405 \t black_stem_borer\n",
      "405 \t bacterial_leaf_streak\n",
      "518 \t bacterial_leaf_blight\n",
      "1004 \t brown_spot\n",
      "1881 \t blast\n",
      "876 \t leaf_roller\n",
      "1924 \t normal\n",
      "360 \t bacterial_panicle_blight\n",
      "1019 \t white_stem_borer\n",
      "test images\n",
      "390 \t tungro\n",
      "152 \t yellow_stem_borer\n",
      "431 \t hispa\n",
      "174 \t downy_mildew\n",
      "101 \t black_stem_borer\n",
      "100 \t bacterial_leaf_streak\n",
      "130 \t bacterial_leaf_blight\n",
      "253 \t brown_spot\n",
      "470 \t blast\n",
      "219 \t leaf_roller\n",
      "481 \t normal\n",
      "90 \t bacterial_panicle_blight\n",
      "254 \t white_stem_borer\n"
     ]
    }
   ],
   "source": [
    "import glob\n",
    "from pathlib import Path\n",
    "\n",
    "train_path = '../input/paddy-doctor-diseases-v2/train_images/'\n",
    "test_path  = '../input/paddy-doctor-diseases-v2/test_images/'\n",
    "\n",
    "print('train images')\n",
    "for filepath in glob.glob(train_path + '/*/'):\n",
    "    files = glob.glob(filepath + '*')\n",
    "    print(f\"{len(files)} \\t {Path(filepath).name}\")\n",
    "    \n",
    "print('test images')\n",
    "for filepath in glob.glob(test_path + '/*/'):\n",
    "    files = glob.glob(filepath + '*')\n",
    "    print(f\"{len(files)} \\t {Path(filepath).name}\")"
   ]
  },
  {
   "cell_type": "code",
   "execution_count": 2,
   "id": "830e788e",
   "metadata": {
    "execution": {
     "iopub.execute_input": "2022-07-23T15:22:21.548166Z",
     "iopub.status.busy": "2022-07-23T15:22:21.547856Z",
     "iopub.status.idle": "2022-07-23T15:22:27.880263Z",
     "shell.execute_reply": "2022-07-23T15:22:27.877616Z"
    },
    "papermill": {
     "duration": 6.344234,
     "end_time": "2022-07-23T15:22:27.886249",
     "exception": false,
     "start_time": "2022-07-23T15:22:21.542015",
     "status": "completed"
    },
    "tags": []
   },
   "outputs": [
    {
     "name": "stdout",
     "output_type": "stream",
     "text": [
      "13\n"
     ]
    }
   ],
   "source": [
    "import numpy as np\n",
    "import pandas as pd\n",
    "import pickle\n",
    "import cv2\n",
    "import os\n",
    "\n",
    "from os import listdir\n",
    "from sklearn.preprocessing import LabelBinarizer\n",
    "from tensorflow.keras.models import Sequential\n",
    "\n",
    "from tensorflow.keras.layers import BatchNormalization\n",
    "from keras.layers.convolutional import Conv2D\n",
    "from keras.layers.convolutional import MaxPooling2D\n",
    "from keras.layers.core import Activation, Flatten, Dropout, Dense\n",
    "from keras import backend as K\n",
    "from keras.preprocessing.image import ImageDataGenerator\n",
    "from tensorflow.keras.optimizers import Adam\n",
    "from tensorflow.keras.utils import plot_model\n",
    "\n",
    "from keras.preprocessing import image\n",
    "from keras.preprocessing.image import img_to_array\n",
    "from sklearn.preprocessing import MultiLabelBinarizer\n",
    "from sklearn.model_selection import train_test_split\n",
    "import matplotlib.pyplot as plt\n",
    "\n",
    "import keras\n",
    "keras.__version__\n",
    "from psutil import virtual_memory\n",
    "\n",
    "SEED = 123\n",
    "EPOCHS = 100\n",
    "INIT_LR = 1e-3\n",
    "BS = 32\n",
    "default_image_size = tuple((256, 256))\n",
    "image_size = 0\n",
    "width = 256\n",
    "height = 256\n",
    "depth = 3\n",
    "\n",
    "n_classes = len(glob.glob(train_path + '/*/'))\n",
    "print(n_classes)"
   ]
  },
  {
   "cell_type": "code",
   "execution_count": 3,
   "id": "e48f6ebd",
   "metadata": {
    "execution": {
     "iopub.execute_input": "2022-07-23T15:22:27.910138Z",
     "iopub.status.busy": "2022-07-23T15:22:27.909384Z",
     "iopub.status.idle": "2022-07-23T15:22:31.625778Z",
     "shell.execute_reply": "2022-07-23T15:22:31.624855Z"
    },
    "papermill": {
     "duration": 3.735332,
     "end_time": "2022-07-23T15:22:31.631166",
     "exception": false,
     "start_time": "2022-07-23T15:22:27.895834",
     "status": "completed"
    },
    "tags": []
   },
   "outputs": [
    {
     "name": "stderr",
     "output_type": "stream",
     "text": [
      "/opt/conda/lib/python3.7/site-packages/keras/optimizer_v2/optimizer_v2.py:356: UserWarning: The `lr` argument is deprecated, use `learning_rate` instead.\n",
      "  \"The `lr` argument is deprecated, use `learning_rate` instead.\")\n",
      "2022-07-23 15:22:28.065095: I tensorflow/stream_executor/cuda/cuda_gpu_executor.cc:937] successful NUMA node read from SysFS had negative value (-1), but there must be at least one NUMA node, so returning NUMA node zero\n",
      "2022-07-23 15:22:28.193035: I tensorflow/stream_executor/cuda/cuda_gpu_executor.cc:937] successful NUMA node read from SysFS had negative value (-1), but there must be at least one NUMA node, so returning NUMA node zero\n",
      "2022-07-23 15:22:28.194216: I tensorflow/stream_executor/cuda/cuda_gpu_executor.cc:937] successful NUMA node read from SysFS had negative value (-1), but there must be at least one NUMA node, so returning NUMA node zero\n",
      "2022-07-23 15:22:28.197507: I tensorflow/core/platform/cpu_feature_guard.cc:142] This TensorFlow binary is optimized with oneAPI Deep Neural Network Library (oneDNN) to use the following CPU instructions in performance-critical operations:  AVX2 AVX512F FMA\n",
      "To enable them in other operations, rebuild TensorFlow with the appropriate compiler flags.\n",
      "2022-07-23 15:22:28.197901: I tensorflow/stream_executor/cuda/cuda_gpu_executor.cc:937] successful NUMA node read from SysFS had negative value (-1), but there must be at least one NUMA node, so returning NUMA node zero\n",
      "2022-07-23 15:22:28.199386: I tensorflow/stream_executor/cuda/cuda_gpu_executor.cc:937] successful NUMA node read from SysFS had negative value (-1), but there must be at least one NUMA node, so returning NUMA node zero\n",
      "2022-07-23 15:22:28.200485: I tensorflow/stream_executor/cuda/cuda_gpu_executor.cc:937] successful NUMA node read from SysFS had negative value (-1), but there must be at least one NUMA node, so returning NUMA node zero\n",
      "2022-07-23 15:22:30.431718: I tensorflow/stream_executor/cuda/cuda_gpu_executor.cc:937] successful NUMA node read from SysFS had negative value (-1), but there must be at least one NUMA node, so returning NUMA node zero\n",
      "2022-07-23 15:22:30.432617: I tensorflow/stream_executor/cuda/cuda_gpu_executor.cc:937] successful NUMA node read from SysFS had negative value (-1), but there must be at least one NUMA node, so returning NUMA node zero\n",
      "2022-07-23 15:22:30.433366: I tensorflow/stream_executor/cuda/cuda_gpu_executor.cc:937] successful NUMA node read from SysFS had negative value (-1), but there must be at least one NUMA node, so returning NUMA node zero\n",
      "2022-07-23 15:22:30.433980: I tensorflow/core/common_runtime/gpu/gpu_device.cc:1510] Created device /job:localhost/replica:0/task:0/device:GPU:0 with 15403 MB memory:  -> device: 0, name: Tesla P100-PCIE-16GB, pci bus id: 0000:00:04.0, compute capability: 6.0\n"
     ]
    },
    {
     "name": "stdout",
     "output_type": "stream",
     "text": [
      "Downloading data from https://storage.googleapis.com/tensorflow/keras-applications/mobilenet/mobilenet_1_0_224_tf_no_top.h5\n",
      "17227776/17225924 [==============================] - 0s 0us/step\n",
      "17235968/17225924 [==============================] - 0s 0us/step\n",
      "Model: \"model\"\n",
      "_________________________________________________________________\n",
      "Layer (type)                 Output Shape              Param #   \n",
      "=================================================================\n",
      "input_1 (InputLayer)         [(None, 256, 256, 3)]     0         \n",
      "_________________________________________________________________\n",
      "conv1 (Conv2D)               (None, 128, 128, 32)      864       \n",
      "_________________________________________________________________\n",
      "conv1_bn (BatchNormalization (None, 128, 128, 32)      128       \n",
      "_________________________________________________________________\n",
      "conv1_relu (ReLU)            (None, 128, 128, 32)      0         \n",
      "_________________________________________________________________\n",
      "conv_dw_1 (DepthwiseConv2D)  (None, 128, 128, 32)      288       \n",
      "_________________________________________________________________\n",
      "conv_dw_1_bn (BatchNormaliza (None, 128, 128, 32)      128       \n",
      "_________________________________________________________________\n",
      "conv_dw_1_relu (ReLU)        (None, 128, 128, 32)      0         \n",
      "_________________________________________________________________\n",
      "conv_pw_1 (Conv2D)           (None, 128, 128, 64)      2048      \n",
      "_________________________________________________________________\n",
      "conv_pw_1_bn (BatchNormaliza (None, 128, 128, 64)      256       \n",
      "_________________________________________________________________\n",
      "conv_pw_1_relu (ReLU)        (None, 128, 128, 64)      0         \n",
      "_________________________________________________________________\n",
      "conv_pad_2 (ZeroPadding2D)   (None, 129, 129, 64)      0         \n",
      "_________________________________________________________________\n",
      "conv_dw_2 (DepthwiseConv2D)  (None, 64, 64, 64)        576       \n",
      "_________________________________________________________________\n",
      "conv_dw_2_bn (BatchNormaliza (None, 64, 64, 64)        256       \n",
      "_________________________________________________________________\n",
      "conv_dw_2_relu (ReLU)        (None, 64, 64, 64)        0         \n",
      "_________________________________________________________________\n",
      "conv_pw_2 (Conv2D)           (None, 64, 64, 128)       8192      \n",
      "_________________________________________________________________\n",
      "conv_pw_2_bn (BatchNormaliza (None, 64, 64, 128)       512       \n",
      "_________________________________________________________________\n",
      "conv_pw_2_relu (ReLU)        (None, 64, 64, 128)       0         \n",
      "_________________________________________________________________\n",
      "conv_dw_3 (DepthwiseConv2D)  (None, 64, 64, 128)       1152      \n",
      "_________________________________________________________________\n",
      "conv_dw_3_bn (BatchNormaliza (None, 64, 64, 128)       512       \n",
      "_________________________________________________________________\n",
      "conv_dw_3_relu (ReLU)        (None, 64, 64, 128)       0         \n",
      "_________________________________________________________________\n",
      "conv_pw_3 (Conv2D)           (None, 64, 64, 128)       16384     \n",
      "_________________________________________________________________\n",
      "conv_pw_3_bn (BatchNormaliza (None, 64, 64, 128)       512       \n",
      "_________________________________________________________________\n",
      "conv_pw_3_relu (ReLU)        (None, 64, 64, 128)       0         \n",
      "_________________________________________________________________\n",
      "conv_pad_4 (ZeroPadding2D)   (None, 65, 65, 128)       0         \n",
      "_________________________________________________________________\n",
      "conv_dw_4 (DepthwiseConv2D)  (None, 32, 32, 128)       1152      \n",
      "_________________________________________________________________\n",
      "conv_dw_4_bn (BatchNormaliza (None, 32, 32, 128)       512       \n",
      "_________________________________________________________________\n",
      "conv_dw_4_relu (ReLU)        (None, 32, 32, 128)       0         \n",
      "_________________________________________________________________\n",
      "conv_pw_4 (Conv2D)           (None, 32, 32, 256)       32768     \n",
      "_________________________________________________________________\n",
      "conv_pw_4_bn (BatchNormaliza (None, 32, 32, 256)       1024      \n",
      "_________________________________________________________________\n",
      "conv_pw_4_relu (ReLU)        (None, 32, 32, 256)       0         \n",
      "_________________________________________________________________\n",
      "conv_dw_5 (DepthwiseConv2D)  (None, 32, 32, 256)       2304      \n",
      "_________________________________________________________________\n",
      "conv_dw_5_bn (BatchNormaliza (None, 32, 32, 256)       1024      \n",
      "_________________________________________________________________\n",
      "conv_dw_5_relu (ReLU)        (None, 32, 32, 256)       0         \n",
      "_________________________________________________________________\n",
      "conv_pw_5 (Conv2D)           (None, 32, 32, 256)       65536     \n",
      "_________________________________________________________________\n",
      "conv_pw_5_bn (BatchNormaliza (None, 32, 32, 256)       1024      \n",
      "_________________________________________________________________\n",
      "conv_pw_5_relu (ReLU)        (None, 32, 32, 256)       0         \n",
      "_________________________________________________________________\n",
      "conv_pad_6 (ZeroPadding2D)   (None, 33, 33, 256)       0         \n",
      "_________________________________________________________________\n",
      "conv_dw_6 (DepthwiseConv2D)  (None, 16, 16, 256)       2304      \n",
      "_________________________________________________________________\n",
      "conv_dw_6_bn (BatchNormaliza (None, 16, 16, 256)       1024      \n",
      "_________________________________________________________________\n",
      "conv_dw_6_relu (ReLU)        (None, 16, 16, 256)       0         \n",
      "_________________________________________________________________\n",
      "conv_pw_6 (Conv2D)           (None, 16, 16, 512)       131072    \n",
      "_________________________________________________________________\n",
      "conv_pw_6_bn (BatchNormaliza (None, 16, 16, 512)       2048      \n",
      "_________________________________________________________________\n",
      "conv_pw_6_relu (ReLU)        (None, 16, 16, 512)       0         \n",
      "_________________________________________________________________\n",
      "conv_dw_7 (DepthwiseConv2D)  (None, 16, 16, 512)       4608      \n",
      "_________________________________________________________________\n",
      "conv_dw_7_bn (BatchNormaliza (None, 16, 16, 512)       2048      \n",
      "_________________________________________________________________\n",
      "conv_dw_7_relu (ReLU)        (None, 16, 16, 512)       0         \n",
      "_________________________________________________________________\n",
      "conv_pw_7 (Conv2D)           (None, 16, 16, 512)       262144    \n",
      "_________________________________________________________________\n",
      "conv_pw_7_bn (BatchNormaliza (None, 16, 16, 512)       2048      \n",
      "_________________________________________________________________\n",
      "conv_pw_7_relu (ReLU)        (None, 16, 16, 512)       0         \n",
      "_________________________________________________________________\n",
      "conv_dw_8 (DepthwiseConv2D)  (None, 16, 16, 512)       4608      \n",
      "_________________________________________________________________\n",
      "conv_dw_8_bn (BatchNormaliza (None, 16, 16, 512)       2048      \n",
      "_________________________________________________________________\n",
      "conv_dw_8_relu (ReLU)        (None, 16, 16, 512)       0         \n",
      "_________________________________________________________________\n",
      "conv_pw_8 (Conv2D)           (None, 16, 16, 512)       262144    \n",
      "_________________________________________________________________\n",
      "conv_pw_8_bn (BatchNormaliza (None, 16, 16, 512)       2048      \n",
      "_________________________________________________________________\n",
      "conv_pw_8_relu (ReLU)        (None, 16, 16, 512)       0         \n",
      "_________________________________________________________________\n",
      "conv_dw_9 (DepthwiseConv2D)  (None, 16, 16, 512)       4608      \n",
      "_________________________________________________________________\n",
      "conv_dw_9_bn (BatchNormaliza (None, 16, 16, 512)       2048      \n",
      "_________________________________________________________________\n",
      "conv_dw_9_relu (ReLU)        (None, 16, 16, 512)       0         \n",
      "_________________________________________________________________\n",
      "conv_pw_9 (Conv2D)           (None, 16, 16, 512)       262144    \n",
      "_________________________________________________________________\n",
      "conv_pw_9_bn (BatchNormaliza (None, 16, 16, 512)       2048      \n",
      "_________________________________________________________________\n",
      "conv_pw_9_relu (ReLU)        (None, 16, 16, 512)       0         \n",
      "_________________________________________________________________\n",
      "conv_dw_10 (DepthwiseConv2D) (None, 16, 16, 512)       4608      \n",
      "_________________________________________________________________\n",
      "conv_dw_10_bn (BatchNormaliz (None, 16, 16, 512)       2048      \n",
      "_________________________________________________________________\n",
      "conv_dw_10_relu (ReLU)       (None, 16, 16, 512)       0         \n",
      "_________________________________________________________________\n",
      "conv_pw_10 (Conv2D)          (None, 16, 16, 512)       262144    \n",
      "_________________________________________________________________\n",
      "conv_pw_10_bn (BatchNormaliz (None, 16, 16, 512)       2048      \n",
      "_________________________________________________________________\n",
      "conv_pw_10_relu (ReLU)       (None, 16, 16, 512)       0         \n",
      "_________________________________________________________________\n",
      "conv_dw_11 (DepthwiseConv2D) (None, 16, 16, 512)       4608      \n",
      "_________________________________________________________________\n",
      "conv_dw_11_bn (BatchNormaliz (None, 16, 16, 512)       2048      \n",
      "_________________________________________________________________\n",
      "conv_dw_11_relu (ReLU)       (None, 16, 16, 512)       0         \n",
      "_________________________________________________________________\n",
      "conv_pw_11 (Conv2D)          (None, 16, 16, 512)       262144    \n",
      "_________________________________________________________________\n",
      "conv_pw_11_bn (BatchNormaliz (None, 16, 16, 512)       2048      \n",
      "_________________________________________________________________\n",
      "conv_pw_11_relu (ReLU)       (None, 16, 16, 512)       0         \n",
      "_________________________________________________________________\n",
      "conv_pad_12 (ZeroPadding2D)  (None, 17, 17, 512)       0         \n",
      "_________________________________________________________________\n",
      "conv_dw_12 (DepthwiseConv2D) (None, 8, 8, 512)         4608      \n",
      "_________________________________________________________________\n",
      "conv_dw_12_bn (BatchNormaliz (None, 8, 8, 512)         2048      \n",
      "_________________________________________________________________\n",
      "conv_dw_12_relu (ReLU)       (None, 8, 8, 512)         0         \n",
      "_________________________________________________________________\n",
      "conv_pw_12 (Conv2D)          (None, 8, 8, 1024)        524288    \n",
      "_________________________________________________________________\n",
      "conv_pw_12_bn (BatchNormaliz (None, 8, 8, 1024)        4096      \n",
      "_________________________________________________________________\n",
      "conv_pw_12_relu (ReLU)       (None, 8, 8, 1024)        0         \n",
      "_________________________________________________________________\n",
      "conv_dw_13 (DepthwiseConv2D) (None, 8, 8, 1024)        9216      \n",
      "_________________________________________________________________\n",
      "conv_dw_13_bn (BatchNormaliz (None, 8, 8, 1024)        4096      \n",
      "_________________________________________________________________\n",
      "conv_dw_13_relu (ReLU)       (None, 8, 8, 1024)        0         \n",
      "_________________________________________________________________\n",
      "conv_pw_13 (Conv2D)          (None, 8, 8, 1024)        1048576   \n",
      "_________________________________________________________________\n",
      "conv_pw_13_bn (BatchNormaliz (None, 8, 8, 1024)        4096      \n",
      "_________________________________________________________________\n",
      "conv_pw_13_relu (ReLU)       (None, 8, 8, 1024)        0         \n",
      "_________________________________________________________________\n",
      "flatten (Flatten)            (None, 65536)             0         \n",
      "_________________________________________________________________\n",
      "dense (Dense)                (None, 1024)              67109888  \n",
      "_________________________________________________________________\n",
      "dropout (Dropout)            (None, 1024)              0         \n",
      "_________________________________________________________________\n",
      "dense_1 (Dense)              (None, 13)                13325     \n",
      "=================================================================\n",
      "Total params: 70,352,077\n",
      "Trainable params: 69,250,061\n",
      "Non-trainable params: 1,102,016\n",
      "_________________________________________________________________\n"
     ]
    }
   ],
   "source": [
    "import os\n",
    "from keras.models import Model\n",
    "#from keras.optimizers import Adam\n",
    "#from keras.applications.vgg16 import VGG16, preprocess_input\n",
    "from keras.applications.mobilenet import MobileNet, preprocess_input\n",
    "#from keras.applications import MobileNet\n",
    "from keras.preprocessing.image import ImageDataGenerator\n",
    "from keras.callbacks import ModelCheckpoint, EarlyStopping\n",
    "from keras.layers import Dense, Dropout, Flatten\n",
    "from pathlib import Path\n",
    "import numpy as np\n",
    "\n",
    "#https://www.learndatasci.com/tutorials/hands-on-transfer-learning-keras/\n",
    "def create_model_mobilenet(input_shape, n_classes, optimizer='rmsprop', fine_tune=0):\n",
    "    \"\"\"\n",
    "    Compiles a model integrated with VGG16 pretrained layers\n",
    "    \n",
    "    input_shape: tuple - the shape of input images (width, height, channels)\n",
    "    n_classes: int - number of classes for the output layer\n",
    "    optimizer: string - instantiated optimizer to use for training. Defaults to 'RMSProp'\n",
    "    fine_tune: int - The number of pre-trained layers to unfreeze.\n",
    "                If set to 0, all pretrained layers will freeze during training\n",
    "    \"\"\"\n",
    "    \n",
    "    # Pretrained convolutional layers are loaded using the Imagenet weights.\n",
    "    # Include_top is set to False, in order to exclude the model's fully-connected layers.\n",
    "    conv_base = MobileNet(include_top=False,\n",
    "                     weights='imagenet', \n",
    "                     input_shape=input_shape)\n",
    "    \n",
    "    # Defines how many layers to freeze during training.\n",
    "    # Layers in the convolutional base are switched from trainable to non-trainable\n",
    "    # depending on the size of the fine-tuning parameter.\n",
    "    if fine_tune > 0:\n",
    "        for layer in conv_base.layers[:-fine_tune]:\n",
    "            layer.trainable = False\n",
    "    else:\n",
    "        for layer in conv_base.layers:\n",
    "            layer.trainable = False\n",
    "\n",
    "    # Create a new 'top' of the model (i.e. fully-connected layers).\n",
    "    # This is 'bootstrapping' a new top_model onto the pretrained layers.\n",
    "    top_model = conv_base.output\n",
    "    top_model = Flatten(name=\"flatten\")(top_model)\n",
    "    top_model = Dense(1024, activation='relu')(top_model)\n",
    "    top_model = Dropout(0.2)(top_model)\n",
    "    \n",
    "    output_layer = Dense(n_classes, activation='softmax')(top_model)\n",
    "    \n",
    "#     model.add(Dense(1024))\n",
    "#     model.add(Activation(\"relu\"))\n",
    "#     model.add(BatchNormalization())\n",
    "#     model.add(Dropout(0.5))\n",
    "#     model.add(Dense(n_classes))\n",
    "#     model.add(Activation(\"softmax\"))\n",
    "    \n",
    "    \n",
    "    # Group the convolutional base and new fully-connected layers into a Model object.\n",
    "    model = Model(inputs=conv_base.input, outputs=output_layer)\n",
    "\n",
    "    # Compiles the model for training.\n",
    "    model.compile(optimizer=optimizer, \n",
    "                  loss='categorical_crossentropy',\n",
    "                  metrics=['accuracy'])\n",
    "    \n",
    "    return model\n",
    "\n",
    "input_shape = (256, 256, 3)\n",
    "\n",
    "# Use a smaller learning rate\n",
    "optim_2 = Adam(lr=0.0001)\n",
    "\n",
    "# Re-compile the model, this time leaving the last 2 layers unfrozen for Fine-Tuning\n",
    "model = create_model_mobilenet(input_shape, n_classes, optim_2, fine_tune=24)\n",
    "model.summary()"
   ]
  },
  {
   "cell_type": "code",
   "execution_count": 4,
   "id": "9cbdbcf4",
   "metadata": {
    "execution": {
     "iopub.execute_input": "2022-07-23T15:22:31.644089Z",
     "iopub.status.busy": "2022-07-23T15:22:31.643781Z",
     "iopub.status.idle": "2022-07-23T15:22:40.968531Z",
     "shell.execute_reply": "2022-07-23T15:22:40.967539Z"
    },
    "papermill": {
     "duration": 9.334809,
     "end_time": "2022-07-23T15:22:40.971855",
     "exception": false,
     "start_time": "2022-07-23T15:22:31.637046",
     "status": "completed"
    },
    "tags": []
   },
   "outputs": [
    {
     "name": "stdout",
     "output_type": "stream",
     "text": [
      "Found 10389 images belonging to 13 classes.\n",
      "Found 2591 images belonging to 13 classes.\n",
      "Found 3245 images belonging to 1 classes.\n",
      "{'bacterial_leaf_blight': 0, 'bacterial_leaf_streak': 1, 'bacterial_panicle_blight': 2, 'black_stem_borer': 3, 'blast': 4, 'brown_spot': 5, 'downy_mildew': 6, 'hispa': 7, 'leaf_roller': 8, 'normal': 9, 'tungro': 10, 'white_stem_borer': 11, 'yellow_stem_borer': 12}\n",
      "3245\n"
     ]
    }
   ],
   "source": [
    "image_datagen = ImageDataGenerator(featurewise_center=False,\n",
    "                 samplewise_center=False,\n",
    "                 featurewise_std_normalization=False,\n",
    "                 samplewise_std_normalization=False,\n",
    "                 zca_whitening=False,\n",
    "                 rotation_range=5,\n",
    "                 shear_range=0.2,\n",
    "                 zoom_range=0.2,\n",
    "                 width_shift_range=0.05,\n",
    "                 height_shift_range=0.05,\n",
    "                 channel_shift_range=0.,\n",
    "                 fill_mode='nearest',\n",
    "                 horizontal_flip=True,\n",
    "                 vertical_flip=False,\n",
    "                 rescale=1./255,\n",
    "                                   validation_split=0.2)\n",
    "\n",
    "train_generator = image_datagen.flow_from_directory(    \n",
    "    directory = train_path,\n",
    "    subset='training',\n",
    "    target_size=(256, 256),\n",
    "    color_mode=\"rgb\",\n",
    "    batch_size=32,\n",
    "    class_mode=\"categorical\",\n",
    "    shuffle=True,\n",
    "    seed=SEED)\n",
    "\n",
    "valid_generator = image_datagen.flow_from_directory(    \n",
    "    directory=train_path,\n",
    "    subset='validation',\n",
    "    target_size=(256, 256),\n",
    "    color_mode=\"rgb\",\n",
    "    batch_size=32,\n",
    "    class_mode=\"categorical\",\n",
    "    shuffle=True,\n",
    "    seed=SEED)\n",
    "\n",
    "test_generator = ImageDataGenerator(rescale=1./255).flow_from_directory(    \n",
    "    directory=test_path,\n",
    "    target_size=(256, 256),\n",
    "    color_mode=\"rgb\",\n",
    "    batch_size=1,\n",
    "    classes=['.'],\n",
    "    class_mode=None,\n",
    "    shuffle=False,\n",
    "    seed=SEED)\n",
    "\n",
    "print(train_generator.class_indices)\n",
    "print(test_generator.samples)"
   ]
  },
  {
   "cell_type": "code",
   "execution_count": 5,
   "id": "97f06901",
   "metadata": {
    "execution": {
     "iopub.execute_input": "2022-07-23T15:22:40.986037Z",
     "iopub.status.busy": "2022-07-23T15:22:40.985189Z",
     "iopub.status.idle": "2022-07-23T15:22:52.131386Z",
     "shell.execute_reply": "2022-07-23T15:22:52.130202Z"
    },
    "papermill": {
     "duration": 11.155342,
     "end_time": "2022-07-23T15:22:52.133782",
     "exception": false,
     "start_time": "2022-07-23T15:22:40.978440",
     "status": "completed"
    },
    "tags": []
   },
   "outputs": [
    {
     "name": "stdout",
     "output_type": "stream",
     "text": [
      "Collecting livelossplot\r\n",
      "  Downloading livelossplot-0.5.5-py3-none-any.whl (22 kB)\r\n",
      "Requirement already satisfied: matplotlib in /opt/conda/lib/python3.7/site-packages (from livelossplot) (3.5.2)\r\n",
      "Requirement already satisfied: bokeh in /opt/conda/lib/python3.7/site-packages (from livelossplot) (2.4.3)\r\n",
      "Requirement already satisfied: numpy<1.22 in /opt/conda/lib/python3.7/site-packages (from livelossplot) (1.21.6)\r\n",
      "Requirement already satisfied: ipython==7.* in /opt/conda/lib/python3.7/site-packages (from livelossplot) (7.33.0)\r\n",
      "Requirement already satisfied: pexpect>4.3 in /opt/conda/lib/python3.7/site-packages (from ipython==7.*->livelossplot) (4.8.0)\r\n",
      "Requirement already satisfied: decorator in /opt/conda/lib/python3.7/site-packages (from ipython==7.*->livelossplot) (5.1.1)\r\n",
      "Requirement already satisfied: matplotlib-inline in /opt/conda/lib/python3.7/site-packages (from ipython==7.*->livelossplot) (0.1.3)\r\n",
      "Requirement already satisfied: setuptools>=18.5 in /opt/conda/lib/python3.7/site-packages (from ipython==7.*->livelossplot) (59.8.0)\r\n",
      "Requirement already satisfied: pickleshare in /opt/conda/lib/python3.7/site-packages (from ipython==7.*->livelossplot) (0.7.5)\r\n",
      "Requirement already satisfied: traitlets>=4.2 in /opt/conda/lib/python3.7/site-packages (from ipython==7.*->livelossplot) (5.3.0)\r\n",
      "Requirement already satisfied: jedi>=0.16 in /opt/conda/lib/python3.7/site-packages (from ipython==7.*->livelossplot) (0.18.1)\r\n",
      "Requirement already satisfied: backcall in /opt/conda/lib/python3.7/site-packages (from ipython==7.*->livelossplot) (0.2.0)\r\n",
      "Requirement already satisfied: pygments in /opt/conda/lib/python3.7/site-packages (from ipython==7.*->livelossplot) (2.12.0)\r\n",
      "Requirement already satisfied: prompt-toolkit!=3.0.0,!=3.0.1,<3.1.0,>=2.0.0 in /opt/conda/lib/python3.7/site-packages (from ipython==7.*->livelossplot) (3.0.30)\r\n",
      "Requirement already satisfied: typing-extensions>=3.10.0 in /opt/conda/lib/python3.7/site-packages (from bokeh->livelossplot) (4.1.1)\r\n",
      "Requirement already satisfied: packaging>=16.8 in /opt/conda/lib/python3.7/site-packages (from bokeh->livelossplot) (21.3)\r\n",
      "Requirement already satisfied: tornado>=5.1 in /opt/conda/lib/python3.7/site-packages (from bokeh->livelossplot) (6.1)\r\n",
      "Requirement already satisfied: pillow>=7.1.0 in /opt/conda/lib/python3.7/site-packages (from bokeh->livelossplot) (9.1.1)\r\n",
      "Requirement already satisfied: Jinja2>=2.9 in /opt/conda/lib/python3.7/site-packages (from bokeh->livelossplot) (3.1.2)\r\n",
      "Requirement already satisfied: PyYAML>=3.10 in /opt/conda/lib/python3.7/site-packages (from bokeh->livelossplot) (6.0)\r\n",
      "Requirement already satisfied: pyparsing>=2.2.1 in /opt/conda/lib/python3.7/site-packages (from matplotlib->livelossplot) (3.0.9)\r\n",
      "Requirement already satisfied: python-dateutil>=2.7 in /opt/conda/lib/python3.7/site-packages (from matplotlib->livelossplot) (2.8.2)\r\n",
      "Requirement already satisfied: cycler>=0.10 in /opt/conda/lib/python3.7/site-packages (from matplotlib->livelossplot) (0.11.0)\r\n",
      "Requirement already satisfied: fonttools>=4.22.0 in /opt/conda/lib/python3.7/site-packages (from matplotlib->livelossplot) (4.33.3)\r\n",
      "Requirement already satisfied: kiwisolver>=1.0.1 in /opt/conda/lib/python3.7/site-packages (from matplotlib->livelossplot) (1.4.3)\r\n",
      "Requirement already satisfied: parso<0.9.0,>=0.8.0 in /opt/conda/lib/python3.7/site-packages (from jedi>=0.16->ipython==7.*->livelossplot) (0.8.3)\r\n",
      "Requirement already satisfied: MarkupSafe>=2.0 in /opt/conda/lib/python3.7/site-packages (from Jinja2>=2.9->bokeh->livelossplot) (2.0.1)\r\n",
      "Requirement already satisfied: ptyprocess>=0.5 in /opt/conda/lib/python3.7/site-packages (from pexpect>4.3->ipython==7.*->livelossplot) (0.7.0)\r\n",
      "Requirement already satisfied: wcwidth in /opt/conda/lib/python3.7/site-packages (from prompt-toolkit!=3.0.0,!=3.0.1,<3.1.0,>=2.0.0->ipython==7.*->livelossplot) (0.2.5)\r\n",
      "Requirement already satisfied: six>=1.5 in /opt/conda/lib/python3.7/site-packages (from python-dateutil>=2.7->matplotlib->livelossplot) (1.16.0)\r\n",
      "Installing collected packages: livelossplot\r\n",
      "Successfully installed livelossplot-0.5.5\r\n",
      "\u001b[33mWARNING: Running pip as the 'root' user can result in broken permissions and conflicting behaviour with the system package manager. It is recommended to use a virtual environment instead: https://pip.pypa.io/warnings/venv\u001b[0m\u001b[33m\r\n",
      "\u001b[0m"
     ]
    }
   ],
   "source": [
    "try:\n",
    "    from livelossplot.inputs.keras import PlotLossesCallback\n",
    "except: \n",
    "    !pip install livelossplot\n",
    "\n",
    "from livelossplot.inputs.keras import PlotLossesCallback\n",
    "\n",
    "plot_loss_1 = PlotLossesCallback()\n",
    "\n",
    "# ModelCheckpoint callback - save best weights\n",
    "tl_checkpoint_1 = ModelCheckpoint(filepath='mobilenet_model.weights.best.hdf5',\n",
    "                                  save_best_only=True,\n",
    "                                  verbose=1)\n",
    "\n",
    "# EarlyStopping\n",
    "early_stop = EarlyStopping(monitor='val_loss',\n",
    "                           patience=10,\n",
    "                           restore_best_weights=True,\n",
    "                           mode='min')"
   ]
  },
  {
   "cell_type": "code",
   "execution_count": 6,
   "id": "21c2fbc3",
   "metadata": {
    "execution": {
     "iopub.execute_input": "2022-07-23T15:22:52.148475Z",
     "iopub.status.busy": "2022-07-23T15:22:52.148162Z",
     "iopub.status.idle": "2022-07-23T16:30:32.622429Z",
     "shell.execute_reply": "2022-07-23T16:30:32.621502Z"
    },
    "papermill": {
     "duration": 4060.485412,
     "end_time": "2022-07-23T16:30:32.625910",
     "exception": false,
     "start_time": "2022-07-23T15:22:52.140498",
     "status": "completed"
    },
    "tags": []
   },
   "outputs": [
    {
     "data": {
      "image/png": "[encoded data removed]",
      "text/plain": [
       "<Figure size 864x576 with 2 Axes>"
      ]
     },
     "metadata": {
      "needs_background": "light"
     },
     "output_type": "display_data"
    },
    {
     "name": "stdout",
     "output_type": "stream",
     "text": [
      "accuracy\n",
      "\ttraining         \t (min:    0.560, max:    0.975, cur:    0.975)\n",
      "\tvalidation       \t (min:    0.747, max:    0.940, cur:    0.932)\n",
      "Loss\n",
      "\ttraining         \t (min:    0.078, max:    1.732, cur:    0.078)\n",
      "\tvalidation       \t (min:    0.230, max:    0.791, cur:    0.292)\n",
      "CPU times: user 1h 3min 7s, sys: 50.9 s, total: 1h 3min 58s\n",
      "Wall time: 1h 7min 40s\n"
     ]
    }
   ],
   "source": [
    "%%time\n",
    "\n",
    "plot_loss_2 = PlotLossesCallback()\n",
    "\n",
    "STEP_SIZE_TRAIN = train_generator.n//train_generator.batch_size\n",
    "STEP_SIZE_VALID = valid_generator.n//valid_generator.batch_size\n",
    "\n",
    "# Retrain model with fine-tuning\n",
    "history = model.fit_generator(generator = train_generator,\n",
    "                                  steps_per_epoch = STEP_SIZE_TRAIN,\n",
    "                                  validation_data = valid_generator,\n",
    "                                  validation_steps = STEP_SIZE_VALID,\n",
    "                                  callbacks=[tl_checkpoint_1, early_stop, plot_loss_2],\n",
    "                                  verbose=1,epochs=EPOCHS)"
   ]
  },
  {
   "cell_type": "code",
   "execution_count": 7,
   "id": "712443e9",
   "metadata": {
    "execution": {
     "iopub.execute_input": "2022-07-23T16:30:32.642955Z",
     "iopub.status.busy": "2022-07-23T16:30:32.642624Z",
     "iopub.status.idle": "2022-07-23T16:30:33.022154Z",
     "shell.execute_reply": "2022-07-23T16:30:33.021168Z"
    },
    "papermill": {
     "duration": 0.391052,
     "end_time": "2022-07-23T16:30:33.025195",
     "exception": false,
     "start_time": "2022-07-23T16:30:32.634143",
     "status": "completed"
    },
    "tags": []
   },
   "outputs": [
    {
     "data": {
      "image/png": "[encoded data removed]",
      "text/plain": [
       "<Figure size 432x288 with 1 Axes>"
      ]
     },
     "metadata": {
      "needs_background": "light"
     },
     "output_type": "display_data"
    },
    {
     "data": {
      "image/png": "[encoded data removed]",
      "text/plain": [
       "<Figure size 432x288 with 1 Axes>"
      ]
     },
     "metadata": {
      "needs_background": "light"
     },
     "output_type": "display_data"
    },
    {
     "name": "stdout",
     "output_type": "stream",
     "text": [
      "CPU times: user 459 ms, sys: 173 ms, total: 632 ms\n",
      "Wall time: 373 ms\n"
     ]
    }
   ],
   "source": [
    "%%time\n",
    "temp = pd.DataFrame(history.history)\n",
    "temp.to_csv('model_mobilenet_history.csv', index=False)\n",
    "\n",
    "acc = history.history['accuracy']\n",
    "val_acc = history.history['val_accuracy']\n",
    "loss = history.history['loss']\n",
    "val_loss = history.history['val_loss']\n",
    "epochs = range(1, len(acc) + 1)\n",
    "#Train and validation accuracy\n",
    "plt.plot(epochs, acc, 'b', label='Training accurarcy')\n",
    "plt.plot(epochs, val_acc, 'r', label='Validation accurarcy')\n",
    "plt.title('Training and Validation accurarcy')\n",
    "plt.legend()\n",
    "\n",
    "plt.figure()\n",
    "#Train and validation loss\n",
    "plt.plot(epochs, loss, 'b', label='Training loss')\n",
    "plt.plot(epochs, val_loss, 'r', label='Validation loss')\n",
    "plt.title('Training and Validation loss')\n",
    "plt.legend()\n",
    "plt.show()"
   ]
  },
  {
   "cell_type": "code",
   "execution_count": 8,
   "id": "38b083c2",
   "metadata": {
    "execution": {
     "iopub.execute_input": "2022-07-23T16:30:33.042644Z",
     "iopub.status.busy": "2022-07-23T16:30:33.042364Z",
     "iopub.status.idle": "2022-07-23T16:30:33.284528Z",
     "shell.execute_reply": "2022-07-23T16:30:33.283629Z"
    },
    "papermill": {
     "duration": 0.253023,
     "end_time": "2022-07-23T16:30:33.286804",
     "exception": false,
     "start_time": "2022-07-23T16:30:33.033781",
     "status": "completed"
    },
    "tags": []
   },
   "outputs": [
    {
     "name": "stdout",
     "output_type": "stream",
     "text": [
      "test images\n",
      "390 \t tungro\n",
      "152 \t yellow_stem_borer\n",
      "431 \t hispa\n",
      "174 \t downy_mildew\n",
      "101 \t black_stem_borer\n",
      "100 \t bacterial_leaf_streak\n",
      "130 \t bacterial_leaf_blight\n",
      "253 \t brown_spot\n",
      "470 \t blast\n",
      "219 \t leaf_roller\n",
      "481 \t normal\n",
      "90 \t bacterial_panicle_blight\n",
      "254 \t white_stem_borer\n",
      "Found 3245 images belonging to 13 classes.\n"
     ]
    }
   ],
   "source": [
    "print('test images')\n",
    "for filepath in glob.glob(test_path + '/*/'):\n",
    "    files = glob.glob(filepath + '*')\n",
    "    print(f\"{len(files)} \\t {Path(filepath).name}\")\n",
    "    \n",
    "test_generator = ImageDataGenerator(rescale=1./255).flow_from_directory(    \n",
    "    directory=test_path,\n",
    "    target_size=(256, 256),\n",
    "    color_mode=\"rgb\",\n",
    "    batch_size=1,\n",
    "    #classes=['.'],\n",
    "    #class_mode=\"categorical\",\n",
    "    class_mode=None,\n",
    "    shuffle=False,\n",
    "    seed=SEED)"
   ]
  },
  {
   "cell_type": "code",
   "execution_count": 9,
   "id": "d74cbbfc",
   "metadata": {
    "execution": {
     "iopub.execute_input": "2022-07-23T16:30:33.305944Z",
     "iopub.status.busy": "2022-07-23T16:30:33.304286Z",
     "iopub.status.idle": "2022-07-23T16:31:17.091681Z",
     "shell.execute_reply": "2022-07-23T16:31:17.090709Z"
    },
    "papermill": {
     "duration": 43.798989,
     "end_time": "2022-07-23T16:31:17.093933",
     "exception": false,
     "start_time": "2022-07-23T16:30:33.294944",
     "status": "completed"
    },
    "tags": []
   },
   "outputs": [
    {
     "name": "stderr",
     "output_type": "stream",
     "text": [
      "/opt/conda/lib/python3.7/site-packages/keras/engine/training.py:2035: UserWarning: `Model.predict_generator` is deprecated and will be removed in a future version. Please use `Model.predict`, which supports generators.\n",
      "  warnings.warn('`Model.predict_generator` is deprecated and '\n"
     ]
    },
    {
     "name": "stdout",
     "output_type": "stream",
     "text": [
      "3245/3245 [==============================] - 43s 13ms/step\n"
     ]
    }
   ],
   "source": [
    "STEP_SIZE_TEST=test_generator.n//test_generator.batch_size\n",
    "test_generator.reset()\n",
    "\n",
    "model.load_weights('mobilenet_model.weights.best.hdf5')\n",
    "pred = model.predict_generator(test_generator,\n",
    "                               steps=STEP_SIZE_TEST,\n",
    "                               verbose=1)\n",
    "pred_classes = np.argmax(pred, axis=1)"
   ]
  },
  {
   "cell_type": "code",
   "execution_count": 10,
   "id": "d182f01d",
   "metadata": {
    "execution": {
     "iopub.execute_input": "2022-07-23T16:31:17.200168Z",
     "iopub.status.busy": "2022-07-23T16:31:17.199300Z",
     "iopub.status.idle": "2022-07-23T16:31:17.215100Z",
     "shell.execute_reply": "2022-07-23T16:31:17.213595Z"
    },
    "papermill": {
     "duration": 0.0707,
     "end_time": "2022-07-23T16:31:17.217686",
     "exception": false,
     "start_time": "2022-07-23T16:31:17.146986",
     "status": "completed"
    },
    "tags": []
   },
   "outputs": [
    {
     "name": "stdout",
     "output_type": "stream",
     "text": [
      "mobilenet Model Accuracy : 92.42%\n",
      "                          precision    recall  f1-score   support\n",
      "\n",
      "   bacterial_leaf_blight    0.92437   0.84615   0.88353       130\n",
      "   bacterial_leaf_streak    0.97727   0.86000   0.91489       100\n",
      "bacterial_panicle_blight    1.00000   0.90000   0.94737        90\n",
      "        black_stem_borer    0.95789   0.90099   0.92857       101\n",
      "                   blast    0.91718   0.94255   0.92970       470\n",
      "              brown_spot    0.85926   0.91700   0.88719       253\n",
      "            downy_mildew    0.93373   0.89080   0.91176       174\n",
      "                   hispa    0.90000   0.91879   0.90930       431\n",
      "             leaf_roller    0.97753   0.79452   0.87657       219\n",
      "                  normal    0.94960   0.97921   0.96418       481\n",
      "                  tungro    0.88140   0.97179   0.92439       390\n",
      "        white_stem_borer    0.95984   0.94094   0.95030       254\n",
      "       yellow_stem_borer    0.94667   0.93421   0.94040       152\n",
      "\n",
      "                accuracy                        0.92419      3245\n",
      "               macro avg    0.93729   0.90746   0.92063      3245\n",
      "            weighted avg    0.92627   0.92419   0.92386      3245\n",
      "\n"
     ]
    }
   ],
   "source": [
    "from sklearn.metrics import accuracy_score\n",
    "from sklearn.metrics import classification_report\n",
    "\n",
    "class_names = test_generator.class_indices.keys()\n",
    "true_classes = test_generator.classes\n",
    "\n",
    "acc = accuracy_score(true_classes, pred_classes)\n",
    "print(\"mobilenet Model Accuracy : {:.2f}%\".format(acc * 100))\n",
    "\n",
    "cls_report = classification_report(true_classes, pred_classes, \n",
    "                                   target_names=class_names, digits=5)\n",
    "print(cls_report)"
   ]
  },
  {
   "cell_type": "code",
   "execution_count": 11,
   "id": "bc619d89",
   "metadata": {
    "execution": {
     "iopub.execute_input": "2022-07-23T16:31:17.326490Z",
     "iopub.status.busy": "2022-07-23T16:31:17.325611Z",
     "iopub.status.idle": "2022-07-23T16:31:18.402052Z",
     "shell.execute_reply": "2022-07-23T16:31:18.401060Z"
    },
    "papermill": {
     "duration": 1.131905,
     "end_time": "2022-07-23T16:31:18.404666",
     "exception": false,
     "start_time": "2022-07-23T16:31:17.272761",
     "status": "completed"
    },
    "tags": []
   },
   "outputs": [
    {
     "data": {
      "image/png": "[encoded data removed]",
      "text/plain": [
       "<Figure size 432x432 with 1 Axes>"
      ]
     },
     "metadata": {
      "needs_background": "light"
     },
     "output_type": "display_data"
    },
    {
     "name": "stdout",
     "output_type": "stream",
     "text": [
      "[[110   0   0   0   2   7   1   4   0   0   6   0   0]\n",
      " [  1  86   0   0   1  10   1   0   0   0   1   0   0]\n",
      " [  0   0  81   2   4   0   0   0   0   0   0   1   2]\n",
      " [  0   0   0  91   1   0   0   0   0   0   2   6   1]\n",
      " [  1   0   0   0 443   5   1   8   1   5   6   0   0]\n",
      " [  3   2   0   0   4 232   0   1   0   0  11   0   0]\n",
      " [  0   0   0   0   5   5 155   3   0   0   6   0   0]\n",
      " [  1   0   0   0   8   4   1 396   3  10   8   0   0]\n",
      " [  3   0   0   0   9   3   5  20 174   3   2   0   0]\n",
      " [  0   0   0   0   0   0   0   7   0 471   3   0   0]\n",
      " [  0   0   0   0   3   0   2   1   0   5 379   0   0]\n",
      " [  0   0   0   1   3   4   0   0   0   0   2 239   5]\n",
      " [  0   0   0   1   0   0   0   0   0   2   4   3 142]]\n"
     ]
    }
   ],
   "source": [
    "import seaborn as sns\n",
    "from sklearn.metrics import confusion_matrix\n",
    "\n",
    "# Get the names of the ten classes\n",
    "class_names = test_generator.class_indices.keys()\n",
    "\n",
    "def plot_heatmap(y_true, y_pred, class_names, ax, title):\n",
    "    cm = confusion_matrix(y_true, y_pred)\n",
    "    sns.heatmap(\n",
    "        cm, \n",
    "        annot=True, \n",
    "        square=True, \n",
    "        xticklabels=class_names, \n",
    "        yticklabels=class_names,\n",
    "        fmt='d', \n",
    "        cmap=plt.cm.Blues,\n",
    "        cbar=False,\n",
    "        ax=ax\n",
    "    )\n",
    "    #ax.set_title(title, fontsize=16)\n",
    "    ax.set_xticklabels(ax.get_xticklabels(), fontsize=12, rotation=45, ha=\"right\")\n",
    "    ax.set_yticklabels(ax.get_yticklabels(), fontsize=12)\n",
    "    ax.set_ylabel('True Label', fontsize=12)\n",
    "    ax.set_xlabel('Predicted Label', fontsize=12)\n",
    "\n",
    "fig, ax = plt.subplots(1, 1, figsize=(6, 6))\n",
    "\n",
    "plot_heatmap(true_classes, pred_classes, class_names, ax, title=\"CNN\")    \n",
    "\n",
    "#fig.suptitle(\"Confusion Matrix Model Comparison\", fontsize=12)\n",
    "#fig.tight_layout()\n",
    "#fig.subplots_adjust(top=1.25)\n",
    "plt.show()\n",
    "cm = confusion_matrix(true_classes, pred_classes)\n",
    "print(cm)"
   ]
  },
  {
   "cell_type": "code",
   "execution_count": 12,
   "id": "7ef6b12d",
   "metadata": {
    "execution": {
     "iopub.execute_input": "2022-07-23T16:31:18.511101Z",
     "iopub.status.busy": "2022-07-23T16:31:18.510677Z",
     "iopub.status.idle": "2022-07-23T16:31:59.791439Z",
     "shell.execute_reply": "2022-07-23T16:31:59.790415Z"
    },
    "papermill": {
     "duration": 41.416694,
     "end_time": "2022-07-23T16:31:59.874148",
     "exception": false,
     "start_time": "2022-07-23T16:31:18.457454",
     "status": "completed"
    },
    "tags": []
   },
   "outputs": [
    {
     "name": "stderr",
     "output_type": "stream",
     "text": [
      "/opt/conda/lib/python3.7/site-packages/keras/engine/training.py:2006: UserWarning: `Model.evaluate_generator` is deprecated and will be removed in a future version. Please use `Model.evaluate`, which supports generators.\n",
      "  warnings.warn('`Model.evaluate_generator` is deprecated and '\n"
     ]
    },
    {
     "name": "stdout",
     "output_type": "stream",
     "text": [
      "3245/3245 [==============================] - 25s 8ms/step - loss: 0.0000e+00 - accuracy: 0.0000e+00\n",
      "0.0 0.0\n"
     ]
    }
   ],
   "source": [
    "loss, acc = model.evaluate_generator(test_generator, steps=STEP_SIZE_TEST, verbose=1)\n",
    "print(acc, loss)"
   ]
  },
  {
   "cell_type": "code",
   "execution_count": 13,
   "id": "93aa3848",
   "metadata": {
    "execution": {
     "iopub.execute_input": "2022-07-23T16:32:00.033442Z",
     "iopub.status.busy": "2022-07-23T16:32:00.032591Z",
     "iopub.status.idle": "2022-07-23T16:32:00.055596Z",
     "shell.execute_reply": "2022-07-23T16:32:00.054583Z"
    },
    "papermill": {
     "duration": 0.104983,
     "end_time": "2022-07-23T16:32:00.057770",
     "exception": false,
     "start_time": "2022-07-23T16:31:59.952787",
     "status": "completed"
    },
    "tags": []
   },
   "outputs": [
    {
     "data": {
      "text/plain": [
       "normal                      496\n",
       "blast                       483\n",
       "hispa                       440\n",
       "tungro                      430\n",
       "brown_spot                  270\n",
       "white_stem_borer            249\n",
       "leaf_roller                 178\n",
       "downy_mildew                166\n",
       "yellow_stem_borer           150\n",
       "bacterial_leaf_blight       119\n",
       "black_stem_borer             95\n",
       "bacterial_leaf_streak        88\n",
       "bacterial_panicle_blight     81\n",
       "dtype: int64"
      ]
     },
     "execution_count": 13,
     "metadata": {},
     "output_type": "execute_result"
    }
   ],
   "source": [
    "predicted_class_indices=np.argmax(pred,axis=1)\n",
    "labels = (train_generator.class_indices)\n",
    "\n",
    "labels = (train_generator.class_indices)\n",
    "labels = dict((v,k) for k,v in labels.items())\n",
    "predictions = [labels[k] for k in predicted_class_indices]\n",
    "\n",
    "pd.Series(predictions).value_counts()"
   ]
  },
  {
   "cell_type": "code",
   "execution_count": 14,
   "id": "2588b5ed",
   "metadata": {
    "execution": {
     "iopub.execute_input": "2022-07-23T16:32:00.217476Z",
     "iopub.status.busy": "2022-07-23T16:32:00.217174Z",
     "iopub.status.idle": "2022-07-23T16:32:00.250365Z",
     "shell.execute_reply": "2022-07-23T16:32:00.248908Z"
    },
    "papermill": {
     "duration": 0.115616,
     "end_time": "2022-07-23T16:32:00.253370",
     "exception": false,
     "start_time": "2022-07-23T16:32:00.137754",
     "status": "completed"
    },
    "tags": []
   },
   "outputs": [
    {
     "name": "stderr",
     "output_type": "stream",
     "text": [
      "/opt/conda/lib/python3.7/site-packages/ipykernel_launcher.py:5: FutureWarning: The default value of regex will change from True to False in a future version.\n",
      "  \"\"\"\n"
     ]
    },
    {
     "data": {
      "text/html": [
       "<div>\n",
       "<style scoped>\n",
       "    .dataframe tbody tr th:only-of-type {\n",
       "        vertical-align: middle;\n",
       "    }\n",
       "\n",
       "    .dataframe tbody tr th {\n",
       "        vertical-align: top;\n",
       "    }\n",
       "\n",
       "    .dataframe thead th {\n",
       "        text-align: right;\n",
       "    }\n",
       "</style>\n",
       "<table border=\"1\" class=\"dataframe\">\n",
       "  <thead>\n",
       "    <tr style=\"text-align: right;\">\n",
       "      <th></th>\n",
       "      <th>image_id</th>\n",
       "      <th>label</th>\n",
       "    </tr>\n",
       "  </thead>\n",
       "  <tbody>\n",
       "    <tr>\n",
       "      <th>0</th>\n",
       "      <td>bacterial_leaf_bligh200091.jpg</td>\n",
       "      <td>bacterial_leaf_blight</td>\n",
       "    </tr>\n",
       "    <tr>\n",
       "      <th>1</th>\n",
       "      <td>bacterial_leaf_bligh200112.jpg</td>\n",
       "      <td>brown_spot</td>\n",
       "    </tr>\n",
       "    <tr>\n",
       "      <th>2</th>\n",
       "      <td>bacterial_leaf_bligh200118.jpg</td>\n",
       "      <td>bacterial_leaf_blight</td>\n",
       "    </tr>\n",
       "    <tr>\n",
       "      <th>3</th>\n",
       "      <td>bacterial_leaf_bligh200133.jpg</td>\n",
       "      <td>bacterial_leaf_blight</td>\n",
       "    </tr>\n",
       "    <tr>\n",
       "      <th>4</th>\n",
       "      <td>bacterial_leaf_bligh200220.jpg</td>\n",
       "      <td>bacterial_leaf_blight</td>\n",
       "    </tr>\n",
       "  </tbody>\n",
       "</table>\n",
       "</div>"
      ],
      "text/plain": [
       "                         image_id                  label\n",
       "0  bacterial_leaf_bligh200091.jpg  bacterial_leaf_blight\n",
       "1  bacterial_leaf_bligh200112.jpg             brown_spot\n",
       "2  bacterial_leaf_bligh200118.jpg  bacterial_leaf_blight\n",
       "3  bacterial_leaf_bligh200133.jpg  bacterial_leaf_blight\n",
       "4  bacterial_leaf_bligh200220.jpg  bacterial_leaf_blight"
      ]
     },
     "execution_count": 14,
     "metadata": {},
     "output_type": "execute_result"
    }
   ],
   "source": [
    "filenames=test_generator.filenames\n",
    "\n",
    "results=pd.DataFrame({\"image_id\":filenames,\n",
    "                      \"label\":predictions})\n",
    "results.image_id = results.image_id.str.replace('./', '')\n",
    "results.to_csv(\"submission.csv\",index=False)\n",
    "results.head()"
   ]
  }
 ],
 "metadata": {
  "kernelspec": {
   "display_name": "Python 3",
   "language": "python",
   "name": "python3"
  },
  "language_info": {
   "codemirror_mode": {
    "name": "ipython",
    "version": 3
   },
   "file_extension": ".py",
   "mimetype": "text/x-python",
   "name": "python",
   "nbconvert_exporter": "python",
   "pygments_lexer": "ipython3",
   "version": "3.7.12"
  },
  "papermill": {
   "default_parameters": {},
   "duration": 4196.058452,
   "end_time": "2022-07-23T16:32:03.529746",
   "environment_variables": {},
   "exception": null,
   "input_path": "__notebook__.ipynb",
   "output_path": "__notebook__.ipynb",
   "parameters": {},
   "start_time": "2022-07-23T15:22:07.471294",
   "version": "2.3.4"
  }
 },
 "nbformat": 4,
 "nbformat_minor": 5
}
