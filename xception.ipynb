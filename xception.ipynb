{
 "cells": [
  {
   "cell_type": "code",
   "execution_count": 1,
   "id": "e4bd9e34",
   "metadata": {
    "execution": {
     "iopub.execute_input": "2022-07-22T19:52:40.612276Z",
     "iopub.status.busy": "2022-07-22T19:52:40.611394Z",
     "iopub.status.idle": "2022-07-22T19:52:42.238810Z",
     "shell.execute_reply": "2022-07-22T19:52:42.237180Z"
    },
    "papermill": {
     "duration": 1.642771,
     "end_time": "2022-07-22T19:52:42.241673",
     "exception": false,
     "start_time": "2022-07-22T19:52:40.598902",
     "status": "completed"
    },
    "tags": []
   },
   "outputs": [
    {
     "name": "stdout",
     "output_type": "stream",
     "text": [
      "train images\n",
      "1561 \t tungro\n",
      "613 \t yellow_stem_borer\n",
      "1720 \t hispa\n",
      "694 \t downy_mildew\n",
      "405 \t black_stem_borer\n",
      "405 \t bacterial_leaf_streak\n",
      "518 \t bacterial_leaf_blight\n",
      "1004 \t brown_spot\n",
      "1881 \t blast\n",
      "876 \t leaf_roller\n",
      "1924 \t normal\n",
      "360 \t bacterial_panicle_blight\n",
      "1019 \t white_stem_borer\n",
      "test images\n",
      "390 \t tungro\n",
      "152 \t yellow_stem_borer\n",
      "431 \t hispa\n",
      "174 \t downy_mildew\n",
      "101 \t black_stem_borer\n",
      "100 \t bacterial_leaf_streak\n",
      "130 \t bacterial_leaf_blight\n",
      "253 \t brown_spot\n",
      "470 \t blast\n",
      "219 \t leaf_roller\n",
      "481 \t normal\n",
      "90 \t bacterial_panicle_blight\n",
      "254 \t white_stem_borer\n"
     ]
    }
   ],
   "source": [
    "import glob\n",
    "from pathlib import Path\n",
    "\n",
    "train_path = '../input/paddy-doctor-diseases-v2/train_images/'\n",
    "test_path  = '../input/paddy-doctor-diseases-v2/test_images/'\n",
    "\n",
    "print('train images')\n",
    "for filepath in glob.glob(train_path + '/*/'):\n",
    "    files = glob.glob(filepath + '*')\n",
    "    print(f\"{len(files)} \\t {Path(filepath).name}\")\n",
    "    \n",
    "print('test images')\n",
    "for filepath in glob.glob(test_path + '/*/'):\n",
    "    files = glob.glob(filepath + '*')\n",
    "    print(f\"{len(files)} \\t {Path(filepath).name}\")\n",
    "\n",
    "# files = glob.glob(test_path + '/*')\n",
    "# print(f\"{len(files)} \\t {Path(test_path).name}\") "
   ]
  },
  {
   "cell_type": "code",
   "execution_count": 2,
   "id": "2030b07d",
   "metadata": {
    "execution": {
     "iopub.execute_input": "2022-07-22T19:52:42.255741Z",
     "iopub.status.busy": "2022-07-22T19:52:42.255087Z",
     "iopub.status.idle": "2022-07-22T19:52:49.397378Z",
     "shell.execute_reply": "2022-07-22T19:52:49.396389Z"
    },
    "papermill": {
     "duration": 7.151864,
     "end_time": "2022-07-22T19:52:49.399798",
     "exception": false,
     "start_time": "2022-07-22T19:52:42.247934",
     "status": "completed"
    },
    "pycharm": {
     "name": "#%%\n"
    },
    "tags": []
   },
   "outputs": [],
   "source": [
    "import os\n",
    "import random\n",
    "import numpy as np\n",
    "import pandas as pd\n",
    "import tensorflow as tf\n",
    "import tensorflow_addons as tfa\n",
    "import seaborn as sns\n",
    "import cv2\n",
    "import albumentations as A\n",
    "\n",
    "from albumentations.core.composition import Compose\n",
    "from matplotlib import pyplot as plt\n",
    "from sklearn.metrics import confusion_matrix\n",
    "from sklearn.model_selection import StratifiedKFold, train_test_split\n",
    "\n",
    "from tensorflow.keras.models import Model, Sequential\n",
    "from tensorflow.keras.layers import Input\n",
    "from tensorflow.keras.layers import Dense\n",
    "from tensorflow.keras.layers import Conv2D\n",
    "from tensorflow.keras.layers import Add, Activation\n",
    "from tensorflow.keras.layers import MaxPooling2D, AveragePooling2D, GlobalAveragePooling2D\n",
    "from tensorflow.keras.layers import BatchNormalization\n",
    "from tensorflow.keras.layers import concatenate\n",
    "from tensorflow.keras.layers import Dropout\n",
    "from tensorflow.keras.layers import Flatten\n",
    "\n",
    "from tensorflow.keras.activations import relu, softmax\n",
    "from tensorflow.keras.preprocessing.image import ImageDataGenerator\n",
    "from tensorflow.keras.utils import load_img, img_to_array, array_to_img"
   ]
  },
  {
   "cell_type": "code",
   "execution_count": 3,
   "id": "0ae8d8df",
   "metadata": {
    "collapsed": false,
    "execution": {
     "iopub.execute_input": "2022-07-22T19:52:49.413015Z",
     "iopub.status.busy": "2022-07-22T19:52:49.412484Z",
     "iopub.status.idle": "2022-07-22T19:52:49.420502Z",
     "shell.execute_reply": "2022-07-22T19:52:49.419198Z"
    },
    "jupyter": {
     "outputs_hidden": false
    },
    "papermill": {
     "duration": 0.016868,
     "end_time": "2022-07-22T19:52:49.422789",
     "exception": false,
     "start_time": "2022-07-22T19:52:49.405921",
     "status": "completed"
    },
    "pycharm": {
     "name": "#%%\n"
    },
    "tags": []
   },
   "outputs": [
    {
     "name": "stdout",
     "output_type": "stream",
     "text": [
      "13\n"
     ]
    }
   ],
   "source": [
    "SEED = 123\n",
    "EPOCHS = 100\n",
    "lr = 1e-4\n",
    "valid_split = 0.2\n",
    "input_size = 224\n",
    "batch_size = 32\n",
    "\n",
    "n_classes = len(glob.glob(train_path + '/*/'))\n",
    "print(n_classes)"
   ]
  },
  {
   "cell_type": "markdown",
   "id": "a8214336",
   "metadata": {
    "papermill": {
     "duration": 0.005445,
     "end_time": "2022-07-22T19:52:49.434173",
     "exception": false,
     "start_time": "2022-07-22T19:52:49.428728",
     "status": "completed"
    },
    "pycharm": {
     "name": "#%% md\n"
    },
    "tags": []
   },
   "source": [
    "#### Data loaders"
   ]
  },
  {
   "cell_type": "code",
   "execution_count": 4,
   "id": "f23327ae",
   "metadata": {
    "collapsed": false,
    "execution": {
     "iopub.execute_input": "2022-07-22T19:52:49.446518Z",
     "iopub.status.busy": "2022-07-22T19:52:49.446252Z",
     "iopub.status.idle": "2022-07-22T19:52:52.837215Z",
     "shell.execute_reply": "2022-07-22T19:52:52.835751Z"
    },
    "jupyter": {
     "outputs_hidden": false
    },
    "papermill": {
     "duration": 3.399598,
     "end_time": "2022-07-22T19:52:52.839333",
     "exception": false,
     "start_time": "2022-07-22T19:52:49.439735",
     "status": "completed"
    },
    "pycharm": {
     "name": "#%%\n"
    },
    "tags": []
   },
   "outputs": [
    {
     "name": "stdout",
     "output_type": "stream",
     "text": [
      "Found 10389 images belonging to 13 classes.\n",
      "Found 2591 images belonging to 13 classes.\n",
      "Found 3245 images belonging to 13 classes.\n",
      "{'bacterial_leaf_blight': 0, 'bacterial_leaf_streak': 1, 'bacterial_panicle_blight': 2, 'black_stem_borer': 3, 'blast': 4, 'brown_spot': 5, 'downy_mildew': 6, 'hispa': 7, 'leaf_roller': 8, 'normal': 9, 'tungro': 10, 'white_stem_borer': 11, 'yellow_stem_borer': 12}\n",
      "10389 2591 3245\n"
     ]
    }
   ],
   "source": [
    "generator = ImageDataGenerator(rescale=1 / 255,\n",
    "                                  rotation_range=10,\n",
    "                                  shear_range=0.25,\n",
    "                                  zoom_range=0.1,\n",
    "                                  horizontal_flip=True,\n",
    "                                  vertical_flip=True,\n",
    "                                  validation_split=valid_split,\n",
    "#                                   preprocessing_function=get_transforms_train\n",
    "                                 )\n",
    "\n",
    "train_datagen = generator.flow_from_directory(train_path,\n",
    "                                              target_size=(input_size, input_size),\n",
    "                                              batch_size=batch_size,\n",
    "                                              subset='training',\n",
    "                                              seed=SEED)\n",
    "\n",
    "valid_datagen = generator.flow_from_directory(train_path,\n",
    "                                              target_size=(input_size, input_size),\n",
    "                                              batch_size=batch_size,\n",
    "                                              subset='validation',\n",
    "                                              seed=SEED)\n",
    "\n",
    "test_generator = ImageDataGenerator(rescale=1.0/255).flow_from_directory(directory=test_path,\n",
    "                                                                    target_size=(input_size, input_size),\n",
    "                                                                    batch_size=batch_size,\n",
    "                                                                    #classes=['.'],\n",
    "                                                                    shuffle=False,\n",
    "                                                                    seed=SEED\n",
    "                                                                   )\n",
    "\n",
    "print(train_datagen.class_indices)\n",
    "print(train_datagen.samples, valid_datagen.samples, test_generator.samples, )"
   ]
  },
  {
   "cell_type": "code",
   "execution_count": 5,
   "id": "3aabef69",
   "metadata": {
    "execution": {
     "iopub.execute_input": "2022-07-22T19:52:52.852495Z",
     "iopub.status.busy": "2022-07-22T19:52:52.851946Z",
     "iopub.status.idle": "2022-07-22T19:52:52.856047Z",
     "shell.execute_reply": "2022-07-22T19:52:52.855107Z"
    },
    "papermill": {
     "duration": 0.012683,
     "end_time": "2022-07-22T19:52:52.857936",
     "exception": false,
     "start_time": "2022-07-22T19:52:52.845253",
     "status": "completed"
    },
    "tags": []
   },
   "outputs": [],
   "source": [
    "# fig, axes = plt.subplots(nrows=4, ncols=8, figsize=[24, 16], dpi=200)\n",
    "# axes = axes.ravel()\n",
    "\n",
    "# for i, arr in enumerate(train_datagen.next()[0]):\n",
    "#     img = array_to_img(arr)\n",
    "#     axes[i].imshow(img)\n",
    "    \n",
    "# plt.show()"
   ]
  },
  {
   "cell_type": "code",
   "execution_count": 6,
   "id": "f39f206b",
   "metadata": {
    "execution": {
     "iopub.execute_input": "2022-07-22T19:52:52.871444Z",
     "iopub.status.busy": "2022-07-22T19:52:52.870604Z",
     "iopub.status.idle": "2022-07-22T19:52:52.875165Z",
     "shell.execute_reply": "2022-07-22T19:52:52.874331Z"
    },
    "papermill": {
     "duration": 0.01328,
     "end_time": "2022-07-22T19:52:52.877059",
     "exception": false,
     "start_time": "2022-07-22T19:52:52.863779",
     "status": "completed"
    },
    "tags": []
   },
   "outputs": [],
   "source": [
    "# fig, axes = plt.subplots(nrows=4, ncols=8, figsize=[24, 16], dpi=200)\n",
    "# axes = axes.ravel()\n",
    "\n",
    "# for i, arr in enumerate(valid_datagen.next()[0]):\n",
    "#     img = array_to_img(arr)\n",
    "#     axes[i].imshow(img)\n",
    "    \n",
    "# plt.show()"
   ]
  },
  {
   "cell_type": "markdown",
   "id": "a64c9da1",
   "metadata": {
    "papermill": {
     "duration": 0.00564,
     "end_time": "2022-07-22T19:52:52.888898",
     "exception": false,
     "start_time": "2022-07-22T19:52:52.883258",
     "status": "completed"
    },
    "pycharm": {
     "name": "#%% md\n"
    },
    "tags": []
   },
   "source": [
    "### Model"
   ]
  },
  {
   "cell_type": "code",
   "execution_count": 7,
   "id": "cdb01eaf",
   "metadata": {
    "_kg_hide-input": true,
    "_kg_hide-output": true,
    "collapsed": false,
    "execution": {
     "iopub.execute_input": "2022-07-22T19:52:52.903101Z",
     "iopub.status.busy": "2022-07-22T19:52:52.902118Z",
     "iopub.status.idle": "2022-07-22T19:52:59.245151Z",
     "shell.execute_reply": "2022-07-22T19:52:59.244042Z"
    },
    "jupyter": {
     "outputs_hidden": false
    },
    "papermill": {
     "duration": 6.352705,
     "end_time": "2022-07-22T19:52:59.247370",
     "exception": false,
     "start_time": "2022-07-22T19:52:52.894665",
     "status": "completed"
    },
    "pycharm": {
     "name": "#%%\n"
    },
    "tags": []
   },
   "outputs": [
    {
     "name": "stderr",
     "output_type": "stream",
     "text": [
      "2022-07-22 19:52:53.002076: I tensorflow/stream_executor/cuda/cuda_gpu_executor.cc:937] successful NUMA node read from SysFS had negative value (-1), but there must be at least one NUMA node, so returning NUMA node zero\n",
      "2022-07-22 19:52:53.112817: I tensorflow/stream_executor/cuda/cuda_gpu_executor.cc:937] successful NUMA node read from SysFS had negative value (-1), but there must be at least one NUMA node, so returning NUMA node zero\n",
      "2022-07-22 19:52:53.113894: I tensorflow/stream_executor/cuda/cuda_gpu_executor.cc:937] successful NUMA node read from SysFS had negative value (-1), but there must be at least one NUMA node, so returning NUMA node zero\n",
      "2022-07-22 19:52:53.116014: I tensorflow/core/platform/cpu_feature_guard.cc:142] This TensorFlow binary is optimized with oneAPI Deep Neural Network Library (oneDNN) to use the following CPU instructions in performance-critical operations:  AVX2 AVX512F FMA\n",
      "To enable them in other operations, rebuild TensorFlow with the appropriate compiler flags.\n",
      "2022-07-22 19:52:53.116298: I tensorflow/stream_executor/cuda/cuda_gpu_executor.cc:937] successful NUMA node read from SysFS had negative value (-1), but there must be at least one NUMA node, so returning NUMA node zero\n",
      "2022-07-22 19:52:53.117029: I tensorflow/stream_executor/cuda/cuda_gpu_executor.cc:937] successful NUMA node read from SysFS had negative value (-1), but there must be at least one NUMA node, so returning NUMA node zero\n",
      "2022-07-22 19:52:53.117672: I tensorflow/stream_executor/cuda/cuda_gpu_executor.cc:937] successful NUMA node read from SysFS had negative value (-1), but there must be at least one NUMA node, so returning NUMA node zero\n",
      "2022-07-22 19:52:55.220996: I tensorflow/stream_executor/cuda/cuda_gpu_executor.cc:937] successful NUMA node read from SysFS had negative value (-1), but there must be at least one NUMA node, so returning NUMA node zero\n",
      "2022-07-22 19:52:55.221934: I tensorflow/stream_executor/cuda/cuda_gpu_executor.cc:937] successful NUMA node read from SysFS had negative value (-1), but there must be at least one NUMA node, so returning NUMA node zero\n",
      "2022-07-22 19:52:55.222657: I tensorflow/stream_executor/cuda/cuda_gpu_executor.cc:937] successful NUMA node read from SysFS had negative value (-1), but there must be at least one NUMA node, so returning NUMA node zero\n",
      "2022-07-22 19:52:55.223250: I tensorflow/core/common_runtime/gpu/gpu_device.cc:1510] Created device /job:localhost/replica:0/task:0/device:GPU:0 with 15403 MB memory:  -> device: 0, name: Tesla P100-PCIE-16GB, pci bus id: 0000:00:04.0, compute capability: 6.0\n"
     ]
    },
    {
     "name": "stdout",
     "output_type": "stream",
     "text": [
      "Downloading data from https://storage.googleapis.com/tensorflow/keras-applications/xception/xception_weights_tf_dim_ordering_tf_kernels_notop.h5\n",
      "83689472/83683744 [==============================] - 0s 0us/step\n",
      "83697664/83683744 [==============================] - 0s 0us/step\n",
      "Model: \"xception\"\n",
      "__________________________________________________________________________________________________\n",
      "Layer (type)                    Output Shape         Param #     Connected to                     \n",
      "==================================================================================================\n",
      "input_1 (InputLayer)            [(None, 224, 224, 3) 0                                            \n",
      "__________________________________________________________________________________________________\n",
      "block1_conv1 (Conv2D)           (None, 111, 111, 32) 864         input_1[0][0]                    \n",
      "__________________________________________________________________________________________________\n",
      "block1_conv1_bn (BatchNormaliza (None, 111, 111, 32) 128         block1_conv1[0][0]               \n",
      "__________________________________________________________________________________________________\n",
      "block1_conv1_act (Activation)   (None, 111, 111, 32) 0           block1_conv1_bn[0][0]            \n",
      "__________________________________________________________________________________________________\n",
      "block1_conv2 (Conv2D)           (None, 109, 109, 64) 18432       block1_conv1_act[0][0]           \n",
      "__________________________________________________________________________________________________\n",
      "block1_conv2_bn (BatchNormaliza (None, 109, 109, 64) 256         block1_conv2[0][0]               \n",
      "__________________________________________________________________________________________________\n",
      "block1_conv2_act (Activation)   (None, 109, 109, 64) 0           block1_conv2_bn[0][0]            \n",
      "__________________________________________________________________________________________________\n",
      "block2_sepconv1 (SeparableConv2 (None, 109, 109, 128 8768        block1_conv2_act[0][0]           \n",
      "__________________________________________________________________________________________________\n",
      "block2_sepconv1_bn (BatchNormal (None, 109, 109, 128 512         block2_sepconv1[0][0]            \n",
      "__________________________________________________________________________________________________\n",
      "block2_sepconv2_act (Activation (None, 109, 109, 128 0           block2_sepconv1_bn[0][0]         \n",
      "__________________________________________________________________________________________________\n",
      "block2_sepconv2 (SeparableConv2 (None, 109, 109, 128 17536       block2_sepconv2_act[0][0]        \n",
      "__________________________________________________________________________________________________\n",
      "block2_sepconv2_bn (BatchNormal (None, 109, 109, 128 512         block2_sepconv2[0][0]            \n",
      "__________________________________________________________________________________________________\n",
      "conv2d (Conv2D)                 (None, 55, 55, 128)  8192        block1_conv2_act[0][0]           \n",
      "__________________________________________________________________________________________________\n",
      "block2_pool (MaxPooling2D)      (None, 55, 55, 128)  0           block2_sepconv2_bn[0][0]         \n",
      "__________________________________________________________________________________________________\n",
      "batch_normalization (BatchNorma (None, 55, 55, 128)  512         conv2d[0][0]                     \n",
      "__________________________________________________________________________________________________\n",
      "add (Add)                       (None, 55, 55, 128)  0           block2_pool[0][0]                \n",
      "                                                                 batch_normalization[0][0]        \n",
      "__________________________________________________________________________________________________\n",
      "block3_sepconv1_act (Activation (None, 55, 55, 128)  0           add[0][0]                        \n",
      "__________________________________________________________________________________________________\n",
      "block3_sepconv1 (SeparableConv2 (None, 55, 55, 256)  33920       block3_sepconv1_act[0][0]        \n",
      "__________________________________________________________________________________________________\n",
      "block3_sepconv1_bn (BatchNormal (None, 55, 55, 256)  1024        block3_sepconv1[0][0]            \n",
      "__________________________________________________________________________________________________\n",
      "block3_sepconv2_act (Activation (None, 55, 55, 256)  0           block3_sepconv1_bn[0][0]         \n",
      "__________________________________________________________________________________________________\n",
      "block3_sepconv2 (SeparableConv2 (None, 55, 55, 256)  67840       block3_sepconv2_act[0][0]        \n",
      "__________________________________________________________________________________________________\n",
      "block3_sepconv2_bn (BatchNormal (None, 55, 55, 256)  1024        block3_sepconv2[0][0]            \n",
      "__________________________________________________________________________________________________\n",
      "conv2d_1 (Conv2D)               (None, 28, 28, 256)  32768       add[0][0]                        \n",
      "__________________________________________________________________________________________________\n",
      "block3_pool (MaxPooling2D)      (None, 28, 28, 256)  0           block3_sepconv2_bn[0][0]         \n",
      "__________________________________________________________________________________________________\n",
      "batch_normalization_1 (BatchNor (None, 28, 28, 256)  1024        conv2d_1[0][0]                   \n",
      "__________________________________________________________________________________________________\n",
      "add_1 (Add)                     (None, 28, 28, 256)  0           block3_pool[0][0]                \n",
      "                                                                 batch_normalization_1[0][0]      \n",
      "__________________________________________________________________________________________________\n",
      "block4_sepconv1_act (Activation (None, 28, 28, 256)  0           add_1[0][0]                      \n",
      "__________________________________________________________________________________________________\n",
      "block4_sepconv1 (SeparableConv2 (None, 28, 28, 728)  188672      block4_sepconv1_act[0][0]        \n",
      "__________________________________________________________________________________________________\n",
      "block4_sepconv1_bn (BatchNormal (None, 28, 28, 728)  2912        block4_sepconv1[0][0]            \n",
      "__________________________________________________________________________________________________\n",
      "block4_sepconv2_act (Activation (None, 28, 28, 728)  0           block4_sepconv1_bn[0][0]         \n",
      "__________________________________________________________________________________________________\n",
      "block4_sepconv2 (SeparableConv2 (None, 28, 28, 728)  536536      block4_sepconv2_act[0][0]        \n",
      "__________________________________________________________________________________________________\n",
      "block4_sepconv2_bn (BatchNormal (None, 28, 28, 728)  2912        block4_sepconv2[0][0]            \n",
      "__________________________________________________________________________________________________\n",
      "conv2d_2 (Conv2D)               (None, 14, 14, 728)  186368      add_1[0][0]                      \n",
      "__________________________________________________________________________________________________\n",
      "block4_pool (MaxPooling2D)      (None, 14, 14, 728)  0           block4_sepconv2_bn[0][0]         \n",
      "__________________________________________________________________________________________________\n",
      "batch_normalization_2 (BatchNor (None, 14, 14, 728)  2912        conv2d_2[0][0]                   \n",
      "__________________________________________________________________________________________________\n",
      "add_2 (Add)                     (None, 14, 14, 728)  0           block4_pool[0][0]                \n",
      "                                                                 batch_normalization_2[0][0]      \n",
      "__________________________________________________________________________________________________\n",
      "block5_sepconv1_act (Activation (None, 14, 14, 728)  0           add_2[0][0]                      \n",
      "__________________________________________________________________________________________________\n",
      "block5_sepconv1 (SeparableConv2 (None, 14, 14, 728)  536536      block5_sepconv1_act[0][0]        \n",
      "__________________________________________________________________________________________________\n",
      "block5_sepconv1_bn (BatchNormal (None, 14, 14, 728)  2912        block5_sepconv1[0][0]            \n",
      "__________________________________________________________________________________________________\n",
      "block5_sepconv2_act (Activation (None, 14, 14, 728)  0           block5_sepconv1_bn[0][0]         \n",
      "__________________________________________________________________________________________________\n",
      "block5_sepconv2 (SeparableConv2 (None, 14, 14, 728)  536536      block5_sepconv2_act[0][0]        \n",
      "__________________________________________________________________________________________________\n",
      "block5_sepconv2_bn (BatchNormal (None, 14, 14, 728)  2912        block5_sepconv2[0][0]            \n",
      "__________________________________________________________________________________________________\n",
      "block5_sepconv3_act (Activation (None, 14, 14, 728)  0           block5_sepconv2_bn[0][0]         \n",
      "__________________________________________________________________________________________________\n",
      "block5_sepconv3 (SeparableConv2 (None, 14, 14, 728)  536536      block5_sepconv3_act[0][0]        \n",
      "__________________________________________________________________________________________________\n",
      "block5_sepconv3_bn (BatchNormal (None, 14, 14, 728)  2912        block5_sepconv3[0][0]            \n",
      "__________________________________________________________________________________________________\n",
      "add_3 (Add)                     (None, 14, 14, 728)  0           block5_sepconv3_bn[0][0]         \n",
      "                                                                 add_2[0][0]                      \n",
      "__________________________________________________________________________________________________\n",
      "block6_sepconv1_act (Activation (None, 14, 14, 728)  0           add_3[0][0]                      \n",
      "__________________________________________________________________________________________________\n",
      "block6_sepconv1 (SeparableConv2 (None, 14, 14, 728)  536536      block6_sepconv1_act[0][0]        \n",
      "__________________________________________________________________________________________________\n",
      "block6_sepconv1_bn (BatchNormal (None, 14, 14, 728)  2912        block6_sepconv1[0][0]            \n",
      "__________________________________________________________________________________________________\n",
      "block6_sepconv2_act (Activation (None, 14, 14, 728)  0           block6_sepconv1_bn[0][0]         \n",
      "__________________________________________________________________________________________________\n",
      "block6_sepconv2 (SeparableConv2 (None, 14, 14, 728)  536536      block6_sepconv2_act[0][0]        \n",
      "__________________________________________________________________________________________________\n",
      "block6_sepconv2_bn (BatchNormal (None, 14, 14, 728)  2912        block6_sepconv2[0][0]            \n",
      "__________________________________________________________________________________________________\n",
      "block6_sepconv3_act (Activation (None, 14, 14, 728)  0           block6_sepconv2_bn[0][0]         \n",
      "__________________________________________________________________________________________________\n",
      "block6_sepconv3 (SeparableConv2 (None, 14, 14, 728)  536536      block6_sepconv3_act[0][0]        \n",
      "__________________________________________________________________________________________________\n",
      "block6_sepconv3_bn (BatchNormal (None, 14, 14, 728)  2912        block6_sepconv3[0][0]            \n",
      "__________________________________________________________________________________________________\n",
      "add_4 (Add)                     (None, 14, 14, 728)  0           block6_sepconv3_bn[0][0]         \n",
      "                                                                 add_3[0][0]                      \n",
      "__________________________________________________________________________________________________\n",
      "block7_sepconv1_act (Activation (None, 14, 14, 728)  0           add_4[0][0]                      \n",
      "__________________________________________________________________________________________________\n",
      "block7_sepconv1 (SeparableConv2 (None, 14, 14, 728)  536536      block7_sepconv1_act[0][0]        \n",
      "__________________________________________________________________________________________________\n",
      "block7_sepconv1_bn (BatchNormal (None, 14, 14, 728)  2912        block7_sepconv1[0][0]            \n",
      "__________________________________________________________________________________________________\n",
      "block7_sepconv2_act (Activation (None, 14, 14, 728)  0           block7_sepconv1_bn[0][0]         \n",
      "__________________________________________________________________________________________________\n",
      "block7_sepconv2 (SeparableConv2 (None, 14, 14, 728)  536536      block7_sepconv2_act[0][0]        \n",
      "__________________________________________________________________________________________________\n",
      "block7_sepconv2_bn (BatchNormal (None, 14, 14, 728)  2912        block7_sepconv2[0][0]            \n",
      "__________________________________________________________________________________________________\n",
      "block7_sepconv3_act (Activation (None, 14, 14, 728)  0           block7_sepconv2_bn[0][0]         \n",
      "__________________________________________________________________________________________________\n",
      "block7_sepconv3 (SeparableConv2 (None, 14, 14, 728)  536536      block7_sepconv3_act[0][0]        \n",
      "__________________________________________________________________________________________________\n",
      "block7_sepconv3_bn (BatchNormal (None, 14, 14, 728)  2912        block7_sepconv3[0][0]            \n",
      "__________________________________________________________________________________________________\n",
      "add_5 (Add)                     (None, 14, 14, 728)  0           block7_sepconv3_bn[0][0]         \n",
      "                                                                 add_4[0][0]                      \n",
      "__________________________________________________________________________________________________\n",
      "block8_sepconv1_act (Activation (None, 14, 14, 728)  0           add_5[0][0]                      \n",
      "__________________________________________________________________________________________________\n",
      "block8_sepconv1 (SeparableConv2 (None, 14, 14, 728)  536536      block8_sepconv1_act[0][0]        \n",
      "__________________________________________________________________________________________________\n",
      "block8_sepconv1_bn (BatchNormal (None, 14, 14, 728)  2912        block8_sepconv1[0][0]            \n",
      "__________________________________________________________________________________________________\n",
      "block8_sepconv2_act (Activation (None, 14, 14, 728)  0           block8_sepconv1_bn[0][0]         \n",
      "__________________________________________________________________________________________________\n",
      "block8_sepconv2 (SeparableConv2 (None, 14, 14, 728)  536536      block8_sepconv2_act[0][0]        \n",
      "__________________________________________________________________________________________________\n",
      "block8_sepconv2_bn (BatchNormal (None, 14, 14, 728)  2912        block8_sepconv2[0][0]            \n",
      "__________________________________________________________________________________________________\n",
      "block8_sepconv3_act (Activation (None, 14, 14, 728)  0           block8_sepconv2_bn[0][0]         \n",
      "__________________________________________________________________________________________________\n",
      "block8_sepconv3 (SeparableConv2 (None, 14, 14, 728)  536536      block8_sepconv3_act[0][0]        \n",
      "__________________________________________________________________________________________________\n",
      "block8_sepconv3_bn (BatchNormal (None, 14, 14, 728)  2912        block8_sepconv3[0][0]            \n",
      "__________________________________________________________________________________________________\n",
      "add_6 (Add)                     (None, 14, 14, 728)  0           block8_sepconv3_bn[0][0]         \n",
      "                                                                 add_5[0][0]                      \n",
      "__________________________________________________________________________________________________\n",
      "block9_sepconv1_act (Activation (None, 14, 14, 728)  0           add_6[0][0]                      \n",
      "__________________________________________________________________________________________________\n",
      "block9_sepconv1 (SeparableConv2 (None, 14, 14, 728)  536536      block9_sepconv1_act[0][0]        \n",
      "__________________________________________________________________________________________________\n",
      "block9_sepconv1_bn (BatchNormal (None, 14, 14, 728)  2912        block9_sepconv1[0][0]            \n",
      "__________________________________________________________________________________________________\n",
      "block9_sepconv2_act (Activation (None, 14, 14, 728)  0           block9_sepconv1_bn[0][0]         \n",
      "__________________________________________________________________________________________________\n",
      "block9_sepconv2 (SeparableConv2 (None, 14, 14, 728)  536536      block9_sepconv2_act[0][0]        \n",
      "__________________________________________________________________________________________________\n",
      "block9_sepconv2_bn (BatchNormal (None, 14, 14, 728)  2912        block9_sepconv2[0][0]            \n",
      "__________________________________________________________________________________________________\n",
      "block9_sepconv3_act (Activation (None, 14, 14, 728)  0           block9_sepconv2_bn[0][0]         \n",
      "__________________________________________________________________________________________________\n",
      "block9_sepconv3 (SeparableConv2 (None, 14, 14, 728)  536536      block9_sepconv3_act[0][0]        \n",
      "__________________________________________________________________________________________________\n",
      "block9_sepconv3_bn (BatchNormal (None, 14, 14, 728)  2912        block9_sepconv3[0][0]            \n",
      "__________________________________________________________________________________________________\n",
      "add_7 (Add)                     (None, 14, 14, 728)  0           block9_sepconv3_bn[0][0]         \n",
      "                                                                 add_6[0][0]                      \n",
      "__________________________________________________________________________________________________\n",
      "block10_sepconv1_act (Activatio (None, 14, 14, 728)  0           add_7[0][0]                      \n",
      "__________________________________________________________________________________________________\n",
      "block10_sepconv1 (SeparableConv (None, 14, 14, 728)  536536      block10_sepconv1_act[0][0]       \n",
      "__________________________________________________________________________________________________\n",
      "block10_sepconv1_bn (BatchNorma (None, 14, 14, 728)  2912        block10_sepconv1[0][0]           \n",
      "__________________________________________________________________________________________________\n",
      "block10_sepconv2_act (Activatio (None, 14, 14, 728)  0           block10_sepconv1_bn[0][0]        \n",
      "__________________________________________________________________________________________________\n",
      "block10_sepconv2 (SeparableConv (None, 14, 14, 728)  536536      block10_sepconv2_act[0][0]       \n",
      "__________________________________________________________________________________________________\n",
      "block10_sepconv2_bn (BatchNorma (None, 14, 14, 728)  2912        block10_sepconv2[0][0]           \n",
      "__________________________________________________________________________________________________\n",
      "block10_sepconv3_act (Activatio (None, 14, 14, 728)  0           block10_sepconv2_bn[0][0]        \n",
      "__________________________________________________________________________________________________\n",
      "block10_sepconv3 (SeparableConv (None, 14, 14, 728)  536536      block10_sepconv3_act[0][0]       \n",
      "__________________________________________________________________________________________________\n",
      "block10_sepconv3_bn (BatchNorma (None, 14, 14, 728)  2912        block10_sepconv3[0][0]           \n",
      "__________________________________________________________________________________________________\n",
      "add_8 (Add)                     (None, 14, 14, 728)  0           block10_sepconv3_bn[0][0]        \n",
      "                                                                 add_7[0][0]                      \n",
      "__________________________________________________________________________________________________\n",
      "block11_sepconv1_act (Activatio (None, 14, 14, 728)  0           add_8[0][0]                      \n",
      "__________________________________________________________________________________________________\n",
      "block11_sepconv1 (SeparableConv (None, 14, 14, 728)  536536      block11_sepconv1_act[0][0]       \n",
      "__________________________________________________________________________________________________\n",
      "block11_sepconv1_bn (BatchNorma (None, 14, 14, 728)  2912        block11_sepconv1[0][0]           \n",
      "__________________________________________________________________________________________________\n",
      "block11_sepconv2_act (Activatio (None, 14, 14, 728)  0           block11_sepconv1_bn[0][0]        \n",
      "__________________________________________________________________________________________________\n",
      "block11_sepconv2 (SeparableConv (None, 14, 14, 728)  536536      block11_sepconv2_act[0][0]       \n",
      "__________________________________________________________________________________________________\n",
      "block11_sepconv2_bn (BatchNorma (None, 14, 14, 728)  2912        block11_sepconv2[0][0]           \n",
      "__________________________________________________________________________________________________\n",
      "block11_sepconv3_act (Activatio (None, 14, 14, 728)  0           block11_sepconv2_bn[0][0]        \n",
      "__________________________________________________________________________________________________\n",
      "block11_sepconv3 (SeparableConv (None, 14, 14, 728)  536536      block11_sepconv3_act[0][0]       \n",
      "__________________________________________________________________________________________________\n",
      "block11_sepconv3_bn (BatchNorma (None, 14, 14, 728)  2912        block11_sepconv3[0][0]           \n",
      "__________________________________________________________________________________________________\n",
      "add_9 (Add)                     (None, 14, 14, 728)  0           block11_sepconv3_bn[0][0]        \n",
      "                                                                 add_8[0][0]                      \n",
      "__________________________________________________________________________________________________\n",
      "block12_sepconv1_act (Activatio (None, 14, 14, 728)  0           add_9[0][0]                      \n",
      "__________________________________________________________________________________________________\n",
      "block12_sepconv1 (SeparableConv (None, 14, 14, 728)  536536      block12_sepconv1_act[0][0]       \n",
      "__________________________________________________________________________________________________\n",
      "block12_sepconv1_bn (BatchNorma (None, 14, 14, 728)  2912        block12_sepconv1[0][0]           \n",
      "__________________________________________________________________________________________________\n",
      "block12_sepconv2_act (Activatio (None, 14, 14, 728)  0           block12_sepconv1_bn[0][0]        \n",
      "__________________________________________________________________________________________________\n",
      "block12_sepconv2 (SeparableConv (None, 14, 14, 728)  536536      block12_sepconv2_act[0][0]       \n",
      "__________________________________________________________________________________________________\n",
      "block12_sepconv2_bn (BatchNorma (None, 14, 14, 728)  2912        block12_sepconv2[0][0]           \n",
      "__________________________________________________________________________________________________\n",
      "block12_sepconv3_act (Activatio (None, 14, 14, 728)  0           block12_sepconv2_bn[0][0]        \n",
      "__________________________________________________________________________________________________\n",
      "block12_sepconv3 (SeparableConv (None, 14, 14, 728)  536536      block12_sepconv3_act[0][0]       \n",
      "__________________________________________________________________________________________________\n",
      "block12_sepconv3_bn (BatchNorma (None, 14, 14, 728)  2912        block12_sepconv3[0][0]           \n",
      "__________________________________________________________________________________________________\n",
      "add_10 (Add)                    (None, 14, 14, 728)  0           block12_sepconv3_bn[0][0]        \n",
      "                                                                 add_9[0][0]                      \n",
      "__________________________________________________________________________________________________\n",
      "block13_sepconv1_act (Activatio (None, 14, 14, 728)  0           add_10[0][0]                     \n",
      "__________________________________________________________________________________________________\n",
      "block13_sepconv1 (SeparableConv (None, 14, 14, 728)  536536      block13_sepconv1_act[0][0]       \n",
      "__________________________________________________________________________________________________\n",
      "block13_sepconv1_bn (BatchNorma (None, 14, 14, 728)  2912        block13_sepconv1[0][0]           \n",
      "__________________________________________________________________________________________________\n",
      "block13_sepconv2_act (Activatio (None, 14, 14, 728)  0           block13_sepconv1_bn[0][0]        \n",
      "__________________________________________________________________________________________________\n",
      "block13_sepconv2 (SeparableConv (None, 14, 14, 1024) 752024      block13_sepconv2_act[0][0]       \n",
      "__________________________________________________________________________________________________\n",
      "block13_sepconv2_bn (BatchNorma (None, 14, 14, 1024) 4096        block13_sepconv2[0][0]           \n",
      "__________________________________________________________________________________________________\n",
      "conv2d_3 (Conv2D)               (None, 7, 7, 1024)   745472      add_10[0][0]                     \n",
      "__________________________________________________________________________________________________\n",
      "block13_pool (MaxPooling2D)     (None, 7, 7, 1024)   0           block13_sepconv2_bn[0][0]        \n",
      "__________________________________________________________________________________________________\n",
      "batch_normalization_3 (BatchNor (None, 7, 7, 1024)   4096        conv2d_3[0][0]                   \n",
      "__________________________________________________________________________________________________\n",
      "add_11 (Add)                    (None, 7, 7, 1024)   0           block13_pool[0][0]               \n",
      "                                                                 batch_normalization_3[0][0]      \n",
      "__________________________________________________________________________________________________\n",
      "block14_sepconv1 (SeparableConv (None, 7, 7, 1536)   1582080     add_11[0][0]                     \n",
      "__________________________________________________________________________________________________\n",
      "block14_sepconv1_bn (BatchNorma (None, 7, 7, 1536)   6144        block14_sepconv1[0][0]           \n",
      "__________________________________________________________________________________________________\n",
      "block14_sepconv1_act (Activatio (None, 7, 7, 1536)   0           block14_sepconv1_bn[0][0]        \n",
      "__________________________________________________________________________________________________\n",
      "block14_sepconv2 (SeparableConv (None, 7, 7, 2048)   3159552     block14_sepconv1_act[0][0]       \n",
      "__________________________________________________________________________________________________\n",
      "block14_sepconv2_bn (BatchNorma (None, 7, 7, 2048)   8192        block14_sepconv2[0][0]           \n",
      "__________________________________________________________________________________________________\n",
      "block14_sepconv2_act (Activatio (None, 7, 7, 2048)   0           block14_sepconv2_bn[0][0]        \n",
      "==================================================================================================\n",
      "Total params: 20,861,480\n",
      "Trainable params: 20,806,952\n",
      "Non-trainable params: 54,528\n",
      "__________________________________________________________________________________________________\n",
      "Model: \"model\"\n",
      "_________________________________________________________________\n",
      "Layer (type)                 Output Shape              Param #   \n",
      "=================================================================\n",
      "input_2 (InputLayer)         [(None, 224, 224, 3)]     0         \n",
      "_________________________________________________________________\n",
      "xception (Functional)        (None, 7, 7, 2048)        20861480  \n",
      "_________________________________________________________________\n",
      "global_average_pooling2d (Gl (None, 2048)              0         \n",
      "_________________________________________________________________\n",
      "dense (Dense)                (None, 13)                26637     \n",
      "=================================================================\n",
      "Total params: 20,888,117\n",
      "Trainable params: 20,833,589\n",
      "Non-trainable params: 54,528\n",
      "_________________________________________________________________\n"
     ]
    }
   ],
   "source": [
    "def create_model(input_size, n_classes):\n",
    "    back_bone = tf.keras.applications.Xception(weights='imagenet', input_shape=(input_size,input_size,3), include_top=False)\n",
    "    back_bone.summary()\n",
    "    tf.keras.utils.plot_model(back_bone, to_file='xception.png')\n",
    "    input_layer = Input(shape=(input_size,input_size,3))\n",
    "    x = back_bone(input_layer)\n",
    "    x = GlobalAveragePooling2D()(x)\n",
    "    output_layer = Dense(n_classes, activation='softmax')(x)\n",
    "    \n",
    "    initializer = tf.keras.initializers.HeUniform()\n",
    "    optimizer = tf.keras.optimizers.Adam(learning_rate=lr)\n",
    "    loss = tf.keras.losses.categorical_crossentropy    \n",
    "    \n",
    "    model = Model(input_layer,output_layer)\n",
    "    model.compile(optimizer=optimizer,\n",
    "                  loss=loss,\n",
    "                  metrics=['accuracy'])\n",
    "    return model\n",
    "\n",
    "model = create_model(input_size, n_classes)\n",
    "model.summary()"
   ]
  },
  {
   "cell_type": "code",
   "execution_count": 8,
   "id": "3b6444a3",
   "metadata": {
    "execution": {
     "iopub.execute_input": "2022-07-22T19:52:59.263489Z",
     "iopub.status.busy": "2022-07-22T19:52:59.263170Z",
     "iopub.status.idle": "2022-07-22T19:52:59.269902Z",
     "shell.execute_reply": "2022-07-22T19:52:59.269003Z"
    },
    "papermill": {
     "duration": 0.017312,
     "end_time": "2022-07-22T19:52:59.272104",
     "exception": false,
     "start_time": "2022-07-22T19:52:59.254792",
     "status": "completed"
    },
    "tags": []
   },
   "outputs": [],
   "source": [
    "early_stop = tf.keras.callbacks.EarlyStopping(patience=15,\n",
    "                                              monitor='val_loss',\n",
    "                                              restore_best_weights=True,\n",
    "                                              verbose=1)\n",
    "\n",
    "reduce_lr = tf.keras.callbacks.ReduceLROnPlateau(patience=5,\n",
    "                                                 monitor='val_loss',\n",
    "                                                 factor=0.75,\n",
    "                                                 verbose=1)\n",
    "\n",
    "checkpoint = tf.keras.callbacks.ModelCheckpoint(filepath='xception.weights.best.hdf5',\n",
    "                                                monitor='val_loss',\n",
    "                                                verbose=1,\n",
    "                                                save_best_only=True)"
   ]
  },
  {
   "cell_type": "code",
   "execution_count": 9,
   "id": "af65f8d0",
   "metadata": {
    "collapsed": false,
    "execution": {
     "iopub.execute_input": "2022-07-22T19:52:59.288347Z",
     "iopub.status.busy": "2022-07-22T19:52:59.288053Z",
     "iopub.status.idle": "2022-07-22T23:26:30.134025Z",
     "shell.execute_reply": "2022-07-22T23:26:30.133046Z"
    },
    "jupyter": {
     "outputs_hidden": false
    },
    "papermill": {
     "duration": 12811.664321,
     "end_time": "2022-07-22T23:26:30.944064",
     "exception": false,
     "start_time": "2022-07-22T19:52:59.279743",
     "status": "completed"
    },
    "pycharm": {
     "name": "#%%\n"
    },
    "tags": []
   },
   "outputs": [
    {
     "name": "stderr",
     "output_type": "stream",
     "text": [
      "2022-07-22 19:53:00.038463: I tensorflow/compiler/mlir/mlir_graph_optimization_pass.cc:185] None of the MLIR Optimization Passes are enabled (registered 2)\n"
     ]
    },
    {
     "name": "stdout",
     "output_type": "stream",
     "text": [
      "Epoch 1/100\n"
     ]
    },
    {
     "name": "stderr",
     "output_type": "stream",
     "text": [
      "2022-07-22 19:53:05.540095: I tensorflow/stream_executor/cuda/cuda_dnn.cc:369] Loaded cuDNN version 8005\n"
     ]
    },
    {
     "name": "stdout",
     "output_type": "stream",
     "text": [
      "325/325 [==============================] - 328s 974ms/step - loss: 1.2531 - accuracy: 0.6066 - val_loss: 0.6907 - val_accuracy: 0.7777\n",
      "\n",
      "Epoch 00001: val_loss improved from inf to 0.69069, saving model to xception.weights.best.hdf5\n"
     ]
    },
    {
     "name": "stderr",
     "output_type": "stream",
     "text": [
      "/opt/conda/lib/python3.7/site-packages/keras/utils/generic_utils.py:497: CustomMaskWarning: Custom mask layers require a config and must override get_config. When loading, the custom mask layer must be passed to the custom_objects argument.\n",
      "  category=CustomMaskWarning)\n"
     ]
    },
    {
     "name": "stdout",
     "output_type": "stream",
     "text": [
      "Epoch 2/100\n",
      "325/325 [==============================] - 278s 856ms/step - loss: 0.4464 - accuracy: 0.8610 - val_loss: 0.3401 - val_accuracy: 0.9004\n",
      "\n",
      "Epoch 00002: val_loss improved from 0.69069 to 0.34012, saving model to xception.weights.best.hdf5\n",
      "Epoch 3/100\n",
      "325/325 [==============================] - 277s 852ms/step - loss: 0.2529 - accuracy: 0.9239 - val_loss: 0.2477 - val_accuracy: 0.9259\n",
      "\n",
      "Epoch 00003: val_loss improved from 0.34012 to 0.24770, saving model to xception.weights.best.hdf5\n",
      "Epoch 4/100\n",
      "325/325 [==============================] - 277s 853ms/step - loss: 0.1743 - accuracy: 0.9469 - val_loss: 0.2209 - val_accuracy: 0.9294\n",
      "\n",
      "Epoch 00004: val_loss improved from 0.24770 to 0.22091, saving model to xception.weights.best.hdf5\n",
      "Epoch 5/100\n",
      "325/325 [==============================] - 276s 849ms/step - loss: 0.1285 - accuracy: 0.9609 - val_loss: 0.1779 - val_accuracy: 0.9475\n",
      "\n",
      "Epoch 00005: val_loss improved from 0.22091 to 0.17793, saving model to xception.weights.best.hdf5\n",
      "Epoch 6/100\n",
      "325/325 [==============================] - 277s 851ms/step - loss: 0.1075 - accuracy: 0.9675 - val_loss: 0.1535 - val_accuracy: 0.9556\n",
      "\n",
      "Epoch 00006: val_loss improved from 0.17793 to 0.15353, saving model to xception.weights.best.hdf5\n",
      "Epoch 7/100\n",
      "325/325 [==============================] - 276s 850ms/step - loss: 0.0852 - accuracy: 0.9719 - val_loss: 0.1503 - val_accuracy: 0.9560\n",
      "\n",
      "Epoch 00007: val_loss improved from 0.15353 to 0.15031, saving model to xception.weights.best.hdf5\n",
      "Epoch 8/100\n",
      "325/325 [==============================] - 275s 847ms/step - loss: 0.0830 - accuracy: 0.9741 - val_loss: 0.1309 - val_accuracy: 0.9626\n",
      "\n",
      "Epoch 00008: val_loss improved from 0.15031 to 0.13086, saving model to xception.weights.best.hdf5\n",
      "Epoch 9/100\n",
      "325/325 [==============================] - 276s 848ms/step - loss: 0.0684 - accuracy: 0.9780 - val_loss: 0.1172 - val_accuracy: 0.9641\n",
      "\n",
      "Epoch 00009: val_loss improved from 0.13086 to 0.11722, saving model to xception.weights.best.hdf5\n",
      "Epoch 10/100\n",
      "325/325 [==============================] - 276s 850ms/step - loss: 0.0617 - accuracy: 0.9803 - val_loss: 0.1280 - val_accuracy: 0.9583\n",
      "\n",
      "Epoch 00010: val_loss did not improve from 0.11722\n",
      "Epoch 11/100\n",
      "325/325 [==============================] - 277s 852ms/step - loss: 0.0609 - accuracy: 0.9807 - val_loss: 0.1227 - val_accuracy: 0.9629\n",
      "\n",
      "Epoch 00011: val_loss did not improve from 0.11722\n",
      "Epoch 12/100\n",
      "325/325 [==============================] - 277s 851ms/step - loss: 0.0575 - accuracy: 0.9794 - val_loss: 0.1332 - val_accuracy: 0.9626\n",
      "\n",
      "Epoch 00012: val_loss did not improve from 0.11722\n",
      "Epoch 13/100\n",
      "325/325 [==============================] - 280s 860ms/step - loss: 0.0507 - accuracy: 0.9839 - val_loss: 0.1335 - val_accuracy: 0.9657\n",
      "\n",
      "Epoch 00013: val_loss did not improve from 0.11722\n",
      "Epoch 14/100\n",
      "325/325 [==============================] - 277s 850ms/step - loss: 0.0420 - accuracy: 0.9864 - val_loss: 0.1301 - val_accuracy: 0.9637\n",
      "\n",
      "Epoch 00014: ReduceLROnPlateau reducing learning rate to 7.499999810534064e-05.\n",
      "\n",
      "Epoch 00014: val_loss did not improve from 0.11722\n",
      "Epoch 15/100\n",
      "325/325 [==============================] - 277s 851ms/step - loss: 0.0372 - accuracy: 0.9881 - val_loss: 0.1117 - val_accuracy: 0.9684\n",
      "\n",
      "Epoch 00015: val_loss improved from 0.11722 to 0.11166, saving model to xception.weights.best.hdf5\n",
      "Epoch 16/100\n",
      "325/325 [==============================] - 275s 847ms/step - loss: 0.0386 - accuracy: 0.9875 - val_loss: 0.0968 - val_accuracy: 0.9734\n",
      "\n",
      "Epoch 00016: val_loss improved from 0.11166 to 0.09677, saving model to xception.weights.best.hdf5\n",
      "Epoch 17/100\n",
      "325/325 [==============================] - 278s 854ms/step - loss: 0.0291 - accuracy: 0.9900 - val_loss: 0.1218 - val_accuracy: 0.9695\n",
      "\n",
      "Epoch 00017: val_loss did not improve from 0.09677\n",
      "Epoch 18/100\n",
      "325/325 [==============================] - 279s 859ms/step - loss: 0.0292 - accuracy: 0.9910 - val_loss: 0.1178 - val_accuracy: 0.9668\n",
      "\n",
      "Epoch 00018: val_loss did not improve from 0.09677\n",
      "Epoch 19/100\n",
      "325/325 [==============================] - 279s 859ms/step - loss: 0.0291 - accuracy: 0.9903 - val_loss: 0.1305 - val_accuracy: 0.9633\n",
      "\n",
      "Epoch 00019: val_loss did not improve from 0.09677\n",
      "Epoch 20/100\n",
      "325/325 [==============================] - 277s 852ms/step - loss: 0.0268 - accuracy: 0.9910 - val_loss: 0.1162 - val_accuracy: 0.9676\n",
      "\n",
      "Epoch 00020: val_loss did not improve from 0.09677\n",
      "Epoch 21/100\n",
      "325/325 [==============================] - 280s 861ms/step - loss: 0.0355 - accuracy: 0.9876 - val_loss: 0.1352 - val_accuracy: 0.9629\n",
      "\n",
      "Epoch 00021: ReduceLROnPlateau reducing learning rate to 5.6249997214763425e-05.\n",
      "\n",
      "Epoch 00021: val_loss did not improve from 0.09677\n",
      "Epoch 22/100\n",
      "325/325 [==============================] - 277s 850ms/step - loss: 0.0310 - accuracy: 0.9890 - val_loss: 0.0946 - val_accuracy: 0.9738\n",
      "\n",
      "Epoch 00022: val_loss improved from 0.09677 to 0.09465, saving model to xception.weights.best.hdf5\n",
      "Epoch 23/100\n",
      "325/325 [==============================] - 278s 853ms/step - loss: 0.0215 - accuracy: 0.9923 - val_loss: 0.1075 - val_accuracy: 0.9734\n",
      "\n",
      "Epoch 00023: val_loss did not improve from 0.09465\n",
      "Epoch 24/100\n",
      "325/325 [==============================] - 279s 856ms/step - loss: 0.0170 - accuracy: 0.9939 - val_loss: 0.0974 - val_accuracy: 0.9745\n",
      "\n",
      "Epoch 00024: val_loss did not improve from 0.09465\n",
      "Epoch 25/100\n",
      "325/325 [==============================] - 278s 853ms/step - loss: 0.0188 - accuracy: 0.9932 - val_loss: 0.1101 - val_accuracy: 0.9745\n",
      "\n",
      "Epoch 00025: val_loss did not improve from 0.09465\n",
      "Epoch 26/100\n",
      "325/325 [==============================] - 279s 856ms/step - loss: 0.0179 - accuracy: 0.9933 - val_loss: 0.1102 - val_accuracy: 0.9726\n",
      "\n",
      "Epoch 00026: val_loss did not improve from 0.09465\n",
      "Epoch 27/100\n",
      "325/325 [==============================] - 277s 850ms/step - loss: 0.0190 - accuracy: 0.9937 - val_loss: 0.1192 - val_accuracy: 0.9695\n",
      "\n",
      "Epoch 00027: ReduceLROnPlateau reducing learning rate to 4.218749927531462e-05.\n",
      "\n",
      "Epoch 00027: val_loss did not improve from 0.09465\n",
      "Epoch 28/100\n",
      "325/325 [==============================] - 277s 851ms/step - loss: 0.0159 - accuracy: 0.9947 - val_loss: 0.0886 - val_accuracy: 0.9749\n",
      "\n",
      "Epoch 00028: val_loss improved from 0.09465 to 0.08860, saving model to xception.weights.best.hdf5\n",
      "Epoch 29/100\n",
      "325/325 [==============================] - 282s 867ms/step - loss: 0.0146 - accuracy: 0.9951 - val_loss: 0.0888 - val_accuracy: 0.9765\n",
      "\n",
      "Epoch 00029: val_loss did not improve from 0.08860\n",
      "Epoch 30/100\n",
      "325/325 [==============================] - 280s 861ms/step - loss: 0.0123 - accuracy: 0.9955 - val_loss: 0.0956 - val_accuracy: 0.9745\n",
      "\n",
      "Epoch 00030: val_loss did not improve from 0.08860\n",
      "Epoch 31/100\n",
      "325/325 [==============================] - 279s 857ms/step - loss: 0.0183 - accuracy: 0.9933 - val_loss: 0.1123 - val_accuracy: 0.9768\n",
      "\n",
      "Epoch 00031: val_loss did not improve from 0.08860\n",
      "Epoch 32/100\n",
      "325/325 [==============================] - 279s 856ms/step - loss: 0.0132 - accuracy: 0.9953 - val_loss: 0.1268 - val_accuracy: 0.9707\n",
      "\n",
      "Epoch 00032: val_loss did not improve from 0.08860\n",
      "Epoch 33/100\n",
      "325/325 [==============================] - 279s 854ms/step - loss: 0.0118 - accuracy: 0.9956 - val_loss: 0.1172 - val_accuracy: 0.9703\n",
      "\n",
      "Epoch 00033: ReduceLROnPlateau reducing learning rate to 3.164062582072802e-05.\n",
      "\n",
      "Epoch 00033: val_loss did not improve from 0.08860\n",
      "Epoch 34/100\n",
      "325/325 [==============================] - 278s 856ms/step - loss: 0.0118 - accuracy: 0.9957 - val_loss: 0.1139 - val_accuracy: 0.9734\n",
      "\n",
      "Epoch 00034: val_loss did not improve from 0.08860\n",
      "Epoch 35/100\n",
      "325/325 [==============================] - 278s 856ms/step - loss: 0.0109 - accuracy: 0.9960 - val_loss: 0.1023 - val_accuracy: 0.9768\n",
      "\n",
      "Epoch 00035: val_loss did not improve from 0.08860\n",
      "Epoch 36/100\n",
      "325/325 [==============================] - 279s 857ms/step - loss: 0.0120 - accuracy: 0.9954 - val_loss: 0.1064 - val_accuracy: 0.9734\n",
      "\n",
      "Epoch 00036: val_loss did not improve from 0.08860\n",
      "Epoch 37/100\n",
      "325/325 [==============================] - 278s 855ms/step - loss: 0.0103 - accuracy: 0.9971 - val_loss: 0.1286 - val_accuracy: 0.9707\n",
      "\n",
      "Epoch 00037: val_loss did not improve from 0.08860\n",
      "Epoch 38/100\n",
      "325/325 [==============================] - 279s 856ms/step - loss: 0.0093 - accuracy: 0.9963 - val_loss: 0.1135 - val_accuracy: 0.9745\n",
      "\n",
      "Epoch 00038: ReduceLROnPlateau reducing learning rate to 2.3730469365546014e-05.\n",
      "\n",
      "Epoch 00038: val_loss did not improve from 0.08860\n",
      "Epoch 39/100\n",
      "325/325 [==============================] - 280s 860ms/step - loss: 0.0086 - accuracy: 0.9971 - val_loss: 0.1094 - val_accuracy: 0.9768\n",
      "\n",
      "Epoch 00039: val_loss did not improve from 0.08860\n",
      "Epoch 40/100\n",
      "325/325 [==============================] - 279s 857ms/step - loss: 0.0088 - accuracy: 0.9970 - val_loss: 0.1072 - val_accuracy: 0.9749\n",
      "\n",
      "Epoch 00040: val_loss did not improve from 0.08860\n",
      "Epoch 41/100\n",
      "325/325 [==============================] - 281s 863ms/step - loss: 0.0068 - accuracy: 0.9975 - val_loss: 0.1070 - val_accuracy: 0.9761\n",
      "\n",
      "Epoch 00041: val_loss did not improve from 0.08860\n",
      "Epoch 42/100\n",
      "325/325 [==============================] - 280s 860ms/step - loss: 0.0066 - accuracy: 0.9977 - val_loss: 0.1159 - val_accuracy: 0.9745\n",
      "\n",
      "Epoch 00042: val_loss did not improve from 0.08860\n",
      "Epoch 43/100\n",
      "325/325 [==============================] - 281s 864ms/step - loss: 0.0079 - accuracy: 0.9974 - val_loss: 0.1144 - val_accuracy: 0.9738\n",
      "Restoring model weights from the end of the best epoch.\n",
      "\n",
      "Epoch 00043: ReduceLROnPlateau reducing learning rate to 1.7797852706280537e-05.\n",
      "\n",
      "Epoch 00043: val_loss did not improve from 0.08860\n",
      "Epoch 00043: early stopping\n"
     ]
    }
   ],
   "source": [
    "history = model.fit(train_datagen,\n",
    "                    validation_data=valid_datagen,\n",
    "                    batch_size=batch_size,\n",
    "                    epochs=EPOCHS,\n",
    "                    callbacks=[early_stop,reduce_lr, checkpoint])"
   ]
  },
  {
   "cell_type": "code",
   "execution_count": 10,
   "id": "25b4be4a",
   "metadata": {
    "execution": {
     "iopub.execute_input": "2022-07-22T23:26:32.716398Z",
     "iopub.status.busy": "2022-07-22T23:26:32.715951Z",
     "iopub.status.idle": "2022-07-22T23:26:33.356241Z",
     "shell.execute_reply": "2022-07-22T23:26:33.355302Z"
    },
    "papermill": {
     "duration": 1.49706,
     "end_time": "2022-07-22T23:26:33.359088",
     "exception": false,
     "start_time": "2022-07-22T23:26:31.862028",
     "status": "completed"
    },
    "tags": []
   },
   "outputs": [
    {
     "data": {
      "image/png": "[encoded data removed]",
      "text/plain": [
       "<Figure size 432x288 with 1 Axes>"
      ]
     },
     "metadata": {
      "needs_background": "light"
     },
     "output_type": "display_data"
    },
    {
     "data": {
      "image/png": "[encoded data removed]",
      "text/plain": [
       "<Figure size 432x288 with 1 Axes>"
      ]
     },
     "metadata": {
      "needs_background": "light"
     },
     "output_type": "display_data"
    },
    {
     "name": "stdout",
     "output_type": "stream",
     "text": [
      "CPU times: user 693 ms, sys: 187 ms, total: 880 ms\n",
      "Wall time: 631 ms\n"
     ]
    }
   ],
   "source": [
    "%%time\n",
    "temp = pd.DataFrame(history.history)\n",
    "temp.to_csv('model_xception_history.csv', index=False)\n",
    "\n",
    "acc = history.history['accuracy']\n",
    "val_acc = history.history['val_accuracy']\n",
    "loss = history.history['loss']\n",
    "val_loss = history.history['val_loss']\n",
    "epochs = range(1, len(acc) + 1)\n",
    "#Train and validation accuracy\n",
    "plt.plot(epochs, acc, 'b', label='Training accurarcy')\n",
    "plt.plot(epochs, val_acc, 'r', label='Validation accurarcy')\n",
    "plt.title('Training and Validation accurarcy')\n",
    "plt.legend()\n",
    "\n",
    "plt.figure()\n",
    "#Train and validation loss\n",
    "plt.plot(epochs, loss, 'b', label='Training loss')\n",
    "plt.plot(epochs, val_loss, 'r', label='Validation loss')\n",
    "plt.title('Training and Validation loss')\n",
    "plt.legend()\n",
    "plt.show()"
   ]
  },
  {
   "cell_type": "code",
   "execution_count": 11,
   "id": "0c228c3d",
   "metadata": {
    "execution": {
     "iopub.execute_input": "2022-07-22T23:26:35.135684Z",
     "iopub.status.busy": "2022-07-22T23:26:35.135291Z",
     "iopub.status.idle": "2022-07-22T23:26:35.376637Z",
     "shell.execute_reply": "2022-07-22T23:26:35.375680Z"
    },
    "papermill": {
     "duration": 1.163978,
     "end_time": "2022-07-22T23:26:35.379126",
     "exception": false,
     "start_time": "2022-07-22T23:26:34.215148",
     "status": "completed"
    },
    "tags": []
   },
   "outputs": [
    {
     "name": "stdout",
     "output_type": "stream",
     "text": [
      "test images\n",
      "390 \t tungro\n",
      "152 \t yellow_stem_borer\n",
      "431 \t hispa\n",
      "174 \t downy_mildew\n",
      "101 \t black_stem_borer\n",
      "100 \t bacterial_leaf_streak\n",
      "130 \t bacterial_leaf_blight\n",
      "253 \t brown_spot\n",
      "470 \t blast\n",
      "219 \t leaf_roller\n",
      "481 \t normal\n",
      "90 \t bacterial_panicle_blight\n",
      "254 \t white_stem_borer\n",
      "Found 3245 images belonging to 13 classes.\n"
     ]
    }
   ],
   "source": [
    "print('test images')\n",
    "for filepath in glob.glob(test_path + '/*/'):\n",
    "    files = glob.glob(filepath + '*')\n",
    "    print(f\"{len(files)} \\t {Path(filepath).name}\")\n",
    "    \n",
    "test_generator = ImageDataGenerator(rescale=1./255).flow_from_directory(    \n",
    "    directory=test_path,\n",
    "    target_size=(256, 256),\n",
    "    color_mode=\"rgb\",\n",
    "    batch_size=1,\n",
    "    #classes=['.'],\n",
    "    #class_mode=\"categorical\",\n",
    "    class_mode=None,\n",
    "    shuffle=False,\n",
    "    seed=SEED)"
   ]
  },
  {
   "cell_type": "code",
   "execution_count": 12,
   "id": "874350bd",
   "metadata": {
    "execution": {
     "iopub.execute_input": "2022-07-22T23:26:37.192770Z",
     "iopub.status.busy": "2022-07-22T23:26:37.192307Z",
     "iopub.status.idle": "2022-07-22T23:27:24.134170Z",
     "shell.execute_reply": "2022-07-22T23:27:24.133068Z"
    },
    "papermill": {
     "duration": 47.880259,
     "end_time": "2022-07-22T23:27:24.136858",
     "exception": false,
     "start_time": "2022-07-22T23:26:36.256599",
     "status": "completed"
    },
    "tags": []
   },
   "outputs": [
    {
     "name": "stderr",
     "output_type": "stream",
     "text": [
      "/opt/conda/lib/python3.7/site-packages/keras/engine/training.py:2035: UserWarning: `Model.predict_generator` is deprecated and will be removed in a future version. Please use `Model.predict`, which supports generators.\n",
      "  warnings.warn('`Model.predict_generator` is deprecated and '\n"
     ]
    },
    {
     "name": "stdout",
     "output_type": "stream",
     "text": [
      "3245/3245 [==============================] - 47s 14ms/step\n"
     ]
    }
   ],
   "source": [
    "STEP_SIZE_TEST=test_generator.n//test_generator.batch_size\n",
    "test_generator.reset()\n",
    "\n",
    "model.load_weights('xception.weights.best.hdf5')\n",
    "pred = model.predict_generator(test_generator,\n",
    "                               steps=STEP_SIZE_TEST,\n",
    "                               verbose=1)\n",
    "pred_classes = np.argmax(pred, axis=1)"
   ]
  },
  {
   "cell_type": "code",
   "execution_count": 13,
   "id": "0fb23881",
   "metadata": {
    "execution": {
     "iopub.execute_input": "2022-07-22T23:27:26.155835Z",
     "iopub.status.busy": "2022-07-22T23:27:26.155433Z",
     "iopub.status.idle": "2022-07-22T23:27:26.171195Z",
     "shell.execute_reply": "2022-07-22T23:27:26.169890Z"
    },
    "papermill": {
     "duration": 1.067636,
     "end_time": "2022-07-22T23:27:26.173386",
     "exception": false,
     "start_time": "2022-07-22T23:27:25.105750",
     "status": "completed"
    },
    "tags": []
   },
   "outputs": [
    {
     "name": "stdout",
     "output_type": "stream",
     "text": [
      "xception Model Accuracy : 96.58%\n",
      "                          precision    recall  f1-score   support\n",
      "\n",
      "   bacterial_leaf_blight    0.95420   0.96154   0.95785       130\n",
      "   bacterial_leaf_streak    0.94175   0.97000   0.95567       100\n",
      "bacterial_panicle_blight    0.97727   0.95556   0.96629        90\n",
      "        black_stem_borer    1.00000   0.91089   0.95337       101\n",
      "                   blast    0.95607   0.97234   0.96414       470\n",
      "              brown_spot    0.96078   0.96838   0.96457       253\n",
      "            downy_mildew    0.93785   0.95402   0.94587       174\n",
      "                   hispa    0.96454   0.94664   0.95550       431\n",
      "             leaf_roller    0.99010   0.91324   0.95012       219\n",
      "                  normal    0.96933   0.98545   0.97732       481\n",
      "                  tungro    0.98454   0.97949   0.98201       390\n",
      "        white_stem_borer    0.95437   0.98819   0.97099       254\n",
      "       yellow_stem_borer    0.96795   0.99342   0.98052       152\n",
      "\n",
      "                accuracy                        0.96579      3245\n",
      "               macro avg    0.96606   0.96147   0.96340      3245\n",
      "            weighted avg    0.96613   0.96579   0.96571      3245\n",
      "\n"
     ]
    }
   ],
   "source": [
    "from sklearn.metrics import accuracy_score\n",
    "from sklearn.metrics import classification_report\n",
    "\n",
    "class_names = test_generator.class_indices.keys()\n",
    "true_classes = test_generator.classes\n",
    "\n",
    "acc = accuracy_score(true_classes, pred_classes)\n",
    "print(\"xception Model Accuracy : {:.2f}%\".format(acc * 100))\n",
    "\n",
    "cls_report = classification_report(true_classes, pred_classes, \n",
    "                                   target_names=class_names, digits=5)\n",
    "print(cls_report)"
   ]
  },
  {
   "cell_type": "code",
   "execution_count": 14,
   "id": "a1e070bb",
   "metadata": {
    "execution": {
     "iopub.execute_input": "2022-07-22T23:27:28.088854Z",
     "iopub.status.busy": "2022-07-22T23:27:28.088503Z",
     "iopub.status.idle": "2022-07-22T23:27:28.787413Z",
     "shell.execute_reply": "2022-07-22T23:27:28.786479Z"
    },
    "papermill": {
     "duration": 1.691388,
     "end_time": "2022-07-22T23:27:28.789591",
     "exception": false,
     "start_time": "2022-07-22T23:27:27.098203",
     "status": "completed"
    },
    "tags": []
   },
   "outputs": [
    {
     "data": {
      "image/png": "[encoded data removed]",
      "text/plain": [
       "<Figure size 432x432 with 1 Axes>"
      ]
     },
     "metadata": {
      "needs_background": "light"
     },
     "output_type": "display_data"
    },
    {
     "name": "stdout",
     "output_type": "stream",
     "text": [
      "[[125   0   0   0   0   1   1   0   0   3   0   0   0]\n",
      " [  1  97   0   0   0   1   1   0   0   0   0   0   0]\n",
      " [  0   0  86   0   2   0   0   0   0   0   0   1   1]\n",
      " [  0   0   0  92   0   0   0   0   0   0   0   8   1]\n",
      " [  1   0   0   0 457   2   3   4   0   1   2   0   0]\n",
      " [  0   4   0   0   2 245   2   0   0   0   0   0   0]\n",
      " [  1   0   0   0   3   1 166   0   0   0   3   0   0]\n",
      " [  3   0   1   0   2   3   1 408   2  11   0   0   0]\n",
      " [  0   2   1   0   6   1   1   6 200   0   0   2   0]\n",
      " [  0   0   0   0   3   0   0   3   0 474   1   0   0]\n",
      " [  0   0   0   0   3   1   2   2   0   0 382   0   0]\n",
      " [  0   0   0   0   0   0   0   0   0   0   0 251   3]\n",
      " [  0   0   0   0   0   0   0   0   0   0   0   1 151]]\n"
     ]
    }
   ],
   "source": [
    "import seaborn as sns\n",
    "from sklearn.metrics import confusion_matrix\n",
    "\n",
    "# Get the names of the ten classes\n",
    "class_names = test_generator.class_indices.keys()\n",
    "\n",
    "def plot_heatmap(y_true, y_pred, class_names, ax, title):\n",
    "    cm = confusion_matrix(y_true, y_pred)\n",
    "    sns.heatmap(\n",
    "        cm, \n",
    "        annot=True, \n",
    "        square=True, \n",
    "        xticklabels=class_names, \n",
    "        yticklabels=class_names,\n",
    "        fmt='d', \n",
    "        cmap=plt.cm.Blues,\n",
    "        cbar=False,\n",
    "        ax=ax\n",
    "    )\n",
    "    #ax.set_title(title, fontsize=16)\n",
    "    ax.set_xticklabels(ax.get_xticklabels(), fontsize=12, rotation=45, ha=\"right\")\n",
    "    ax.set_yticklabels(ax.get_yticklabels(), fontsize=12)\n",
    "    ax.set_ylabel('True Label', fontsize=12)\n",
    "    ax.set_xlabel('Predicted Label', fontsize=12)\n",
    "\n",
    "fig, ax = plt.subplots(1, 1, figsize=(6, 6))\n",
    "\n",
    "plot_heatmap(true_classes, pred_classes, class_names, ax, title=\"CNN\")    \n",
    "\n",
    "#fig.suptitle(\"Confusion Matrix Model Comparison\", fontsize=12)\n",
    "#fig.tight_layout()\n",
    "#fig.subplots_adjust(top=1.25)\n",
    "plt.show()\n",
    "cm = confusion_matrix(true_classes, pred_classes)\n",
    "print(cm)"
   ]
  },
  {
   "cell_type": "code",
   "execution_count": 15,
   "id": "dad06768",
   "metadata": {
    "execution": {
     "iopub.execute_input": "2022-07-22T23:27:30.705080Z",
     "iopub.status.busy": "2022-07-22T23:27:30.704582Z",
     "iopub.status.idle": "2022-07-22T23:27:58.671887Z",
     "shell.execute_reply": "2022-07-22T23:27:58.670924Z"
    },
    "papermill": {
     "duration": 28.976963,
     "end_time": "2022-07-22T23:27:58.673884",
     "exception": false,
     "start_time": "2022-07-22T23:27:29.696921",
     "status": "completed"
    },
    "tags": []
   },
   "outputs": [
    {
     "name": "stderr",
     "output_type": "stream",
     "text": [
      "/opt/conda/lib/python3.7/site-packages/keras/engine/training.py:2006: UserWarning: `Model.evaluate_generator` is deprecated and will be removed in a future version. Please use `Model.evaluate`, which supports generators.\n",
      "  warnings.warn('`Model.evaluate_generator` is deprecated and '\n"
     ]
    },
    {
     "name": "stdout",
     "output_type": "stream",
     "text": [
      "3245/3245 [==============================] - 28s 8ms/step - loss: 0.0000e+00 - accuracy: 0.0000e+00\n",
      "0.0 0.0\n"
     ]
    }
   ],
   "source": [
    "loss, acc = model.evaluate_generator(test_generator, steps=STEP_SIZE_TEST, verbose=1)\n",
    "print(acc, loss)"
   ]
  },
  {
   "cell_type": "code",
   "execution_count": 16,
   "id": "150761d5",
   "metadata": {
    "execution": {
     "iopub.execute_input": "2022-07-22T23:28:00.550598Z",
     "iopub.status.busy": "2022-07-22T23:28:00.550141Z",
     "iopub.status.idle": "2022-07-22T23:28:00.569505Z",
     "shell.execute_reply": "2022-07-22T23:28:00.568565Z"
    },
    "papermill": {
     "duration": 0.958486,
     "end_time": "2022-07-22T23:28:00.571572",
     "exception": false,
     "start_time": "2022-07-22T23:27:59.613086",
     "status": "completed"
    },
    "tags": []
   },
   "outputs": [
    {
     "data": {
      "text/plain": [
       "normal                      489\n",
       "blast                       478\n",
       "hispa                       423\n",
       "tungro                      388\n",
       "white_stem_borer            263\n",
       "brown_spot                  255\n",
       "leaf_roller                 202\n",
       "downy_mildew                177\n",
       "yellow_stem_borer           156\n",
       "bacterial_leaf_blight       131\n",
       "bacterial_leaf_streak       103\n",
       "black_stem_borer             92\n",
       "bacterial_panicle_blight     88\n",
       "dtype: int64"
      ]
     },
     "execution_count": 16,
     "metadata": {},
     "output_type": "execute_result"
    }
   ],
   "source": [
    "predicted_class_indices=np.argmax(pred,axis=1)\n",
    "labels = (train_datagen.class_indices)\n",
    "\n",
    "labels = (train_datagen.class_indices)\n",
    "labels = dict((v,k) for k,v in labels.items())\n",
    "predictions = [labels[k] for k in predicted_class_indices]\n",
    "\n",
    "pd.Series(predictions).value_counts()"
   ]
  },
  {
   "cell_type": "code",
   "execution_count": 17,
   "id": "038b6919",
   "metadata": {
    "execution": {
     "iopub.execute_input": "2022-07-22T23:28:02.531520Z",
     "iopub.status.busy": "2022-07-22T23:28:02.531174Z",
     "iopub.status.idle": "2022-07-22T23:28:02.564095Z",
     "shell.execute_reply": "2022-07-22T23:28:02.563011Z"
    },
    "papermill": {
     "duration": 0.972067,
     "end_time": "2022-07-22T23:28:02.567170",
     "exception": false,
     "start_time": "2022-07-22T23:28:01.595103",
     "status": "completed"
    },
    "tags": []
   },
   "outputs": [
    {
     "name": "stderr",
     "output_type": "stream",
     "text": [
      "/opt/conda/lib/python3.7/site-packages/ipykernel_launcher.py:5: FutureWarning: The default value of regex will change from True to False in a future version.\n",
      "  \"\"\"\n"
     ]
    },
    {
     "data": {
      "text/html": [
       "<div>\n",
       "<style scoped>\n",
       "    .dataframe tbody tr th:only-of-type {\n",
       "        vertical-align: middle;\n",
       "    }\n",
       "\n",
       "    .dataframe tbody tr th {\n",
       "        vertical-align: top;\n",
       "    }\n",
       "\n",
       "    .dataframe thead th {\n",
       "        text-align: right;\n",
       "    }\n",
       "</style>\n",
       "<table border=\"1\" class=\"dataframe\">\n",
       "  <thead>\n",
       "    <tr style=\"text-align: right;\">\n",
       "      <th></th>\n",
       "      <th>image_id</th>\n",
       "      <th>label</th>\n",
       "    </tr>\n",
       "  </thead>\n",
       "  <tbody>\n",
       "    <tr>\n",
       "      <th>0</th>\n",
       "      <td>bacterial_leaf_bligh200091.jpg</td>\n",
       "      <td>bacterial_leaf_blight</td>\n",
       "    </tr>\n",
       "    <tr>\n",
       "      <th>1</th>\n",
       "      <td>bacterial_leaf_bligh200112.jpg</td>\n",
       "      <td>normal</td>\n",
       "    </tr>\n",
       "    <tr>\n",
       "      <th>2</th>\n",
       "      <td>bacterial_leaf_bligh200118.jpg</td>\n",
       "      <td>bacterial_leaf_blight</td>\n",
       "    </tr>\n",
       "    <tr>\n",
       "      <th>3</th>\n",
       "      <td>bacterial_leaf_bligh200133.jpg</td>\n",
       "      <td>bacterial_leaf_blight</td>\n",
       "    </tr>\n",
       "    <tr>\n",
       "      <th>4</th>\n",
       "      <td>bacterial_leaf_bligh200220.jpg</td>\n",
       "      <td>bacterial_leaf_blight</td>\n",
       "    </tr>\n",
       "  </tbody>\n",
       "</table>\n",
       "</div>"
      ],
      "text/plain": [
       "                         image_id                  label\n",
       "0  bacterial_leaf_bligh200091.jpg  bacterial_leaf_blight\n",
       "1  bacterial_leaf_bligh200112.jpg                 normal\n",
       "2  bacterial_leaf_bligh200118.jpg  bacterial_leaf_blight\n",
       "3  bacterial_leaf_bligh200133.jpg  bacterial_leaf_blight\n",
       "4  bacterial_leaf_bligh200220.jpg  bacterial_leaf_blight"
      ]
     },
     "execution_count": 17,
     "metadata": {},
     "output_type": "execute_result"
    }
   ],
   "source": [
    "filenames=test_generator.filenames\n",
    "\n",
    "results=pd.DataFrame({\"image_id\":filenames,\n",
    "                      \"label\":predictions})\n",
    "results.image_id = results.image_id.str.replace('./', '')\n",
    "results.to_csv(\"submission.csv\",index=False)\n",
    "results.head()"
   ]
  },
  {
   "cell_type": "markdown",
   "id": "b7e6c8c3",
   "metadata": {
    "papermill": {
     "duration": 0.930161,
     "end_time": "2022-07-22T23:28:04.506680",
     "exception": false,
     "start_time": "2022-07-22T23:28:03.576519",
     "status": "completed"
    },
    "tags": []
   },
   "source": [
    "##### Acknowledgements\n",
    "  1. https://www.kaggle.com/code/asheniranga/paddy-doctor-training"
   ]
  }
 ],
 "metadata": {
  "kernelspec": {
   "display_name": "Python 3",
   "language": "python",
   "name": "python3"
  },
  "language_info": {
   "codemirror_mode": {
    "name": "ipython",
    "version": 3
   },
   "file_extension": ".py",
   "mimetype": "text/x-python",
   "name": "python",
   "nbconvert_exporter": "python",
   "pygments_lexer": "ipython3",
   "version": "3.7.12"
  },
  "papermill": {
   "default_parameters": {},
   "duration": 12936.132943,
   "end_time": "2022-07-22T23:28:08.326175",
   "environment_variables": {},
   "exception": null,
   "input_path": "__notebook__.ipynb",
   "output_path": "__notebook__.ipynb",
   "parameters": {},
   "start_time": "2022-07-22T19:52:32.193232",
   "version": "2.3.4"
  }
 },
 "nbformat": 4,
 "nbformat_minor": 5
}
