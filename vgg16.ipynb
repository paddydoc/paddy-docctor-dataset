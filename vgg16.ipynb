{
 "cells": [
  {
   "cell_type": "code",
   "execution_count": 1,
   "id": "b8d1af24",
   "metadata": {
    "execution": {
     "iopub.execute_input": "2022-07-18T16:47:45.071963Z",
     "iopub.status.busy": "2022-07-18T16:47:45.070721Z",
     "iopub.status.idle": "2022-07-18T16:48:01.214555Z",
     "shell.execute_reply": "2022-07-18T16:48:01.212663Z"
    },
    "papermill": {
     "duration": 16.156958,
     "end_time": "2022-07-18T16:48:01.217604",
     "exception": false,
     "start_time": "2022-07-18T16:47:45.060646",
     "status": "completed"
    },
    "tags": []
   },
   "outputs": [
    {
     "name": "stdout",
     "output_type": "stream",
     "text": [
      "1562\t/kaggle/input/paddy-disease-classification-2/train_images/tungro\r\n",
      "614\t/kaggle/input/paddy-disease-classification-2/train_images/yellow_stem_borer\r\n",
      "1721\t/kaggle/input/paddy-disease-classification-2/train_images/hispa\r\n",
      "695\t/kaggle/input/paddy-disease-classification-2/train_images/downy_mildew\r\n",
      "406\t/kaggle/input/paddy-disease-classification-2/train_images/black_stem_borer\r\n",
      "406\t/kaggle/input/paddy-disease-classification-2/train_images/bacterial_leaf_streak\r\n",
      "519\t/kaggle/input/paddy-disease-classification-2/train_images/bacterial_leaf_blight\r\n",
      "1005\t/kaggle/input/paddy-disease-classification-2/train_images/brown_spot\r\n",
      "1882\t/kaggle/input/paddy-disease-classification-2/train_images/blast\r\n",
      "877\t/kaggle/input/paddy-disease-classification-2/train_images/leaf_roller\r\n",
      "1925\t/kaggle/input/paddy-disease-classification-2/train_images/normal\r\n",
      "361\t/kaggle/input/paddy-disease-classification-2/train_images/bacterial_panicle_blight\r\n",
      "1020\t/kaggle/input/paddy-disease-classification-2/train_images/white_stem_borer\r\n",
      "12994\t/kaggle/input/paddy-disease-classification-2/train_images/\r\n",
      "3246\t/kaggle/input/paddy-disease-classification-2/test_images/\r\n",
      "1561 \t tungro\n",
      "613 \t yellow_stem_borer\n",
      "1720 \t hispa\n",
      "694 \t downy_mildew\n",
      "405 \t black_stem_borer\n",
      "405 \t bacterial_leaf_streak\n",
      "518 \t bacterial_leaf_blight\n",
      "1004 \t brown_spot\n",
      "1881 \t blast\n",
      "876 \t leaf_roller\n",
      "1924 \t normal\n",
      "360 \t bacterial_panicle_blight\n",
      "1019 \t white_stem_borer\n",
      "3245 \t test_images\n"
     ]
    }
   ],
   "source": [
    "train_path = '/kaggle/input/paddy-disease-classification-2/train_images/'\n",
    "test_path  = '/kaggle/input/paddy-disease-classification-2/test_images/'\n",
    "\n",
    "!du --inodes '/kaggle/input/paddy-disease-classification-2/train_images/'\n",
    "!du --inodes '/kaggle/input/paddy-disease-classification-2/test_images/'\n",
    "\n",
    "import glob\n",
    "from pathlib import Path\n",
    "\n",
    "for filepath in glob.glob(train_path + '/*/'):\n",
    "    files = glob.glob(filepath + '*')\n",
    "    print(f\"{len(files)} \\t {Path(filepath).name}\")\n",
    "\n",
    "files = glob.glob(test_path + '/*')\n",
    "print(f\"{len(files)} \\t {Path(test_path).name}\") "
   ]
  },
  {
   "cell_type": "code",
   "execution_count": 2,
   "id": "49dd9e68",
   "metadata": {
    "execution": {
     "iopub.execute_input": "2022-07-18T16:48:01.236194Z",
     "iopub.status.busy": "2022-07-18T16:48:01.235101Z",
     "iopub.status.idle": "2022-07-18T16:48:08.575701Z",
     "shell.execute_reply": "2022-07-18T16:48:08.574199Z"
    },
    "papermill": {
     "duration": 7.352952,
     "end_time": "2022-07-18T16:48:08.578849",
     "exception": false,
     "start_time": "2022-07-18T16:48:01.225897",
     "status": "completed"
    },
    "tags": []
   },
   "outputs": [
    {
     "name": "stdout",
     "output_type": "stream",
     "text": [
      "13\n"
     ]
    }
   ],
   "source": [
    "import numpy as np\n",
    "import pandas as pd\n",
    "import pickle\n",
    "import cv2\n",
    "import os\n",
    "\n",
    "from os import listdir\n",
    "from sklearn.preprocessing import LabelBinarizer\n",
    "from tensorflow.keras.models import Sequential\n",
    "\n",
    "from tensorflow.keras.layers import BatchNormalization\n",
    "from keras.layers.convolutional import Conv2D\n",
    "from keras.layers.convolutional import MaxPooling2D\n",
    "from keras.layers.core import Activation, Flatten, Dropout, Dense\n",
    "from keras import backend as K\n",
    "from keras.preprocessing.image import ImageDataGenerator\n",
    "from tensorflow.keras.optimizers import Adam\n",
    "from tensorflow.keras.utils import plot_model\n",
    "\n",
    "from keras.preprocessing import image\n",
    "from keras.preprocessing.image import img_to_array\n",
    "from sklearn.preprocessing import MultiLabelBinarizer\n",
    "from sklearn.model_selection import train_test_split\n",
    "import matplotlib.pyplot as plt\n",
    "\n",
    "import keras\n",
    "keras.__version__\n",
    "from psutil import virtual_memory\n",
    "\n",
    "SEED = 123\n",
    "EPOCHS = 100\n",
    "INIT_LR = 1e-3\n",
    "BS = 32\n",
    "default_image_size = tuple((256, 256))\n",
    "image_size = 0\n",
    "width = 256\n",
    "height = 256\n",
    "depth = 3\n",
    "\n",
    "n_classes = len(glob.glob(train_path + '/*/'))\n",
    "print(n_classes)"
   ]
  },
  {
   "cell_type": "code",
   "execution_count": 3,
   "id": "d7949893",
   "metadata": {
    "execution": {
     "iopub.execute_input": "2022-07-18T16:48:08.597989Z",
     "iopub.status.busy": "2022-07-18T16:48:08.597387Z",
     "iopub.status.idle": "2022-07-18T16:48:08.611698Z",
     "shell.execute_reply": "2022-07-18T16:48:08.610384Z"
    },
    "papermill": {
     "duration": 0.026402,
     "end_time": "2022-07-18T16:48:08.613996",
     "exception": false,
     "start_time": "2022-07-18T16:48:08.587594",
     "status": "completed"
    },
    "tags": []
   },
   "outputs": [],
   "source": [
    "import os\n",
    "from keras.models import Model\n",
    "#from keras.optimizers import Adam\n",
    "from keras.applications.vgg16 import VGG16, preprocess_input\n",
    "from keras.preprocessing.image import ImageDataGenerator\n",
    "from keras.callbacks import ModelCheckpoint, EarlyStopping\n",
    "from keras.layers import Dense, Dropout, Flatten\n",
    "from pathlib import Path\n",
    "import numpy as np\n",
    "\n",
    "#https://www.learndatasci.com/tutorials/hands-on-transfer-learning-keras/\n",
    "def create_model(input_shape, n_classes, optimizer='rmsprop', fine_tune=0):\n",
    "    \"\"\"\n",
    "    Compiles a model integrated with VGG16 pretrained layers\n",
    "    \n",
    "    input_shape: tuple - the shape of input images (width, height, channels)\n",
    "    n_classes: int - number of classes for the output layer\n",
    "    optimizer: string - instantiated optimizer to use for training. Defaults to 'RMSProp'\n",
    "    fine_tune: int - The number of pre-trained layers to unfreeze.\n",
    "                If set to 0, all pretrained layers will freeze during training\n",
    "    \"\"\"\n",
    "    \n",
    "    # Pretrained convolutional layers are loaded using the Imagenet weights.\n",
    "    # Include_top is set to False, in order to exclude the model's fully-connected layers.\n",
    "    conv_base = VGG16(include_top=False,\n",
    "                     weights='imagenet', \n",
    "                     input_shape=input_shape)\n",
    "    \n",
    "    # Defines how many layers to freeze during training.\n",
    "    # Layers in the convolutional base are switched from trainable to non-trainable\n",
    "    # depending on the size of the fine-tuning parameter.\n",
    "    if fine_tune > 0:\n",
    "        for layer in conv_base.layers[:-fine_tune]:\n",
    "            layer.trainable = False\n",
    "    else:\n",
    "        for layer in conv_base.layers:\n",
    "            layer.trainable = False\n",
    "\n",
    "    # Create a new 'top' of the model (i.e. fully-connected layers).\n",
    "    # This is 'bootstrapping' a new top_model onto the pretrained layers.\n",
    "    top_model = conv_base.output\n",
    "    top_model = Flatten(name=\"flatten\")(top_model)\n",
    "    top_model = Dense(1024, activation='relu')(top_model)\n",
    "    top_model = Dropout(0.2)(top_model)\n",
    "    \n",
    "    output_layer = Dense(n_classes, activation='softmax')(top_model)\n",
    "    \n",
    "#     model.add(Dense(1024))\n",
    "#     model.add(Activation(\"relu\"))\n",
    "#     model.add(BatchNormalization())\n",
    "#     model.add(Dropout(0.5))\n",
    "#     model.add(Dense(n_classes))\n",
    "#     model.add(Activation(\"softmax\"))\n",
    "    \n",
    "    \n",
    "    # Group the convolutional base and new fully-connected layers into a Model object.\n",
    "    model = Model(inputs=conv_base.input, outputs=output_layer)\n",
    "\n",
    "    # Compiles the model for training.\n",
    "    model.compile(optimizer=optimizer, \n",
    "                  loss='categorical_crossentropy',\n",
    "                  metrics=['accuracy'])\n",
    "    \n",
    "    return model"
   ]
  },
  {
   "cell_type": "code",
   "execution_count": 4,
   "id": "769c7b69",
   "metadata": {
    "execution": {
     "iopub.execute_input": "2022-07-18T16:48:08.633530Z",
     "iopub.status.busy": "2022-07-18T16:48:08.631693Z",
     "iopub.status.idle": "2022-07-18T16:48:12.123791Z",
     "shell.execute_reply": "2022-07-18T16:48:12.122403Z"
    },
    "papermill": {
     "duration": 3.506148,
     "end_time": "2022-07-18T16:48:12.128363",
     "exception": false,
     "start_time": "2022-07-18T16:48:08.622215",
     "status": "completed"
    },
    "tags": []
   },
   "outputs": [
    {
     "name": "stderr",
     "output_type": "stream",
     "text": [
      "2022-07-18 16:48:08.746258: I tensorflow/stream_executor/cuda/cuda_gpu_executor.cc:937] successful NUMA node read from SysFS had negative value (-1), but there must be at least one NUMA node, so returning NUMA node zero\n",
      "2022-07-18 16:48:08.925528: I tensorflow/stream_executor/cuda/cuda_gpu_executor.cc:937] successful NUMA node read from SysFS had negative value (-1), but there must be at least one NUMA node, so returning NUMA node zero\n",
      "2022-07-18 16:48:08.926835: I tensorflow/stream_executor/cuda/cuda_gpu_executor.cc:937] successful NUMA node read from SysFS had negative value (-1), but there must be at least one NUMA node, so returning NUMA node zero\n",
      "2022-07-18 16:48:08.928754: I tensorflow/core/platform/cpu_feature_guard.cc:142] This TensorFlow binary is optimized with oneAPI Deep Neural Network Library (oneDNN) to use the following CPU instructions in performance-critical operations:  AVX2 FMA\n",
      "To enable them in other operations, rebuild TensorFlow with the appropriate compiler flags.\n",
      "2022-07-18 16:48:08.929145: I tensorflow/stream_executor/cuda/cuda_gpu_executor.cc:937] successful NUMA node read from SysFS had negative value (-1), but there must be at least one NUMA node, so returning NUMA node zero\n",
      "2022-07-18 16:48:08.930158: I tensorflow/stream_executor/cuda/cuda_gpu_executor.cc:937] successful NUMA node read from SysFS had negative value (-1), but there must be at least one NUMA node, so returning NUMA node zero\n",
      "2022-07-18 16:48:08.931166: I tensorflow/stream_executor/cuda/cuda_gpu_executor.cc:937] successful NUMA node read from SysFS had negative value (-1), but there must be at least one NUMA node, so returning NUMA node zero\n",
      "2022-07-18 16:48:11.533242: I tensorflow/stream_executor/cuda/cuda_gpu_executor.cc:937] successful NUMA node read from SysFS had negative value (-1), but there must be at least one NUMA node, so returning NUMA node zero\n",
      "2022-07-18 16:48:11.534440: I tensorflow/stream_executor/cuda/cuda_gpu_executor.cc:937] successful NUMA node read from SysFS had negative value (-1), but there must be at least one NUMA node, so returning NUMA node zero\n",
      "2022-07-18 16:48:11.535539: I tensorflow/stream_executor/cuda/cuda_gpu_executor.cc:937] successful NUMA node read from SysFS had negative value (-1), but there must be at least one NUMA node, so returning NUMA node zero\n",
      "2022-07-18 16:48:11.536610: I tensorflow/core/common_runtime/gpu/gpu_device.cc:1510] Created device /job:localhost/replica:0/task:0/device:GPU:0 with 15403 MB memory:  -> device: 0, name: Tesla P100-PCIE-16GB, pci bus id: 0000:00:04.0, compute capability: 6.0\n"
     ]
    },
    {
     "name": "stdout",
     "output_type": "stream",
     "text": [
      "channels_last\n"
     ]
    },
    {
     "name": "stderr",
     "output_type": "stream",
     "text": [
      "/opt/conda/lib/python3.7/site-packages/keras/optimizer_v2/optimizer_v2.py:356: UserWarning: The `lr` argument is deprecated, use `learning_rate` instead.\n",
      "  \"The `lr` argument is deprecated, use `learning_rate` instead.\")\n"
     ]
    }
   ],
   "source": [
    "def get_model():\n",
    "    model = Sequential()\n",
    "    inputShape = (height, width, depth)\n",
    "    chanDim = -1\n",
    "    print(K.image_data_format())\n",
    "    if K.image_data_format() == \"channels_first\":\n",
    "        inputShape = (depth, height, width)\n",
    "        chanDim = 1\n",
    "    model.add(Conv2D(32, (3, 3), padding=\"same\",input_shape=inputShape))\n",
    "    model.add(Activation(\"relu\"))\n",
    "    model.add(BatchNormalization(axis=chanDim))\n",
    "    model.add(MaxPooling2D(pool_size=(3, 3)))\n",
    "    model.add(Dropout(0.25))\n",
    "    model.add(Conv2D(64, (3, 3), padding=\"same\"))\n",
    "    model.add(Activation(\"relu\"))\n",
    "    model.add(BatchNormalization(axis=chanDim))\n",
    "    model.add(Conv2D(64, (3, 3), padding=\"same\"))\n",
    "    model.add(Activation(\"relu\"))\n",
    "    model.add(BatchNormalization(axis=chanDim))\n",
    "    model.add(MaxPooling2D(pool_size=(2, 2)))\n",
    "    model.add(Dropout(0.25))\n",
    "    model.add(Conv2D(128, (3, 3), padding=\"same\"))\n",
    "    model.add(Activation(\"relu\"))\n",
    "    model.add(BatchNormalization(axis=chanDim))\n",
    "    model.add(Conv2D(128, (3, 3), padding=\"same\"))\n",
    "    model.add(Activation(\"relu\"))\n",
    "    model.add(BatchNormalization(axis=chanDim))\n",
    "    model.add(MaxPooling2D(pool_size=(2, 2)))\n",
    "    model.add(Dropout(0.25))\n",
    "    model.add(Flatten())\n",
    "    model.add(Dense(1024))\n",
    "    model.add(Activation(\"relu\"))\n",
    "    model.add(BatchNormalization())\n",
    "    model.add(Dropout(0.5))\n",
    "    model.add(Dense(n_classes))\n",
    "    model.add(Activation(\"softmax\"))\n",
    "    \n",
    "    opt = Adam(lr=INIT_LR, decay=INIT_LR / EPOCHS)\n",
    "    # distribution\n",
    "    model.compile(loss=\"binary_crossentropy\", optimizer=opt,metrics=[\"accuracy\"])\n",
    "    return model\n",
    "model = get_model()\n",
    "\n",
    "#plot_model(model, '/kaggle/working/model.png', show_shapes=True)"
   ]
  },
  {
   "cell_type": "code",
   "execution_count": 5,
   "id": "aca670fc",
   "metadata": {
    "execution": {
     "iopub.execute_input": "2022-07-18T16:48:12.149619Z",
     "iopub.status.busy": "2022-07-18T16:48:12.147539Z",
     "iopub.status.idle": "2022-07-18T16:48:13.108086Z",
     "shell.execute_reply": "2022-07-18T16:48:13.106762Z"
    },
    "papermill": {
     "duration": 0.973195,
     "end_time": "2022-07-18T16:48:13.110965",
     "exception": false,
     "start_time": "2022-07-18T16:48:12.137770",
     "status": "completed"
    },
    "tags": []
   },
   "outputs": [
    {
     "name": "stdout",
     "output_type": "stream",
     "text": [
      "Downloading data from https://storage.googleapis.com/tensorflow/keras-applications/vgg16/vgg16_weights_tf_dim_ordering_tf_kernels_notop.h5\n",
      "58892288/58889256 [==============================] - 0s 0us/step\n",
      "58900480/58889256 [==============================] - 0s 0us/step\n"
     ]
    }
   ],
   "source": [
    "input_shape = (256, 256, 3)\n",
    "\n",
    "# Use a smaller learning rate\n",
    "optim_2 = Adam(lr=0.0001)\n",
    "\n",
    "# Re-compile the model, this time leaving the last 2 layers unfrozen for Fine-Tuning\n",
    "vgg16_model = create_model(input_shape, n_classes, optim_2, fine_tune=2)"
   ]
  },
  {
   "cell_type": "code",
   "execution_count": 6,
   "id": "fcc5d49f",
   "metadata": {
    "execution": {
     "iopub.execute_input": "2022-07-18T16:48:13.133825Z",
     "iopub.status.busy": "2022-07-18T16:48:13.131764Z",
     "iopub.status.idle": "2022-07-18T16:48:15.642326Z",
     "shell.execute_reply": "2022-07-18T16:48:15.640777Z"
    },
    "papermill": {
     "duration": 2.52538,
     "end_time": "2022-07-18T16:48:15.645831",
     "exception": false,
     "start_time": "2022-07-18T16:48:13.120451",
     "status": "completed"
    },
    "tags": []
   },
   "outputs": [
    {
     "name": "stdout",
     "output_type": "stream",
     "text": [
      "Found 10389 images belonging to 13 classes.\n",
      "Found 2591 images belonging to 13 classes.\n",
      "Found 3245 images belonging to 1 classes.\n",
      "{'bacterial_leaf_blight': 0, 'bacterial_leaf_streak': 1, 'bacterial_panicle_blight': 2, 'black_stem_borer': 3, 'blast': 4, 'brown_spot': 5, 'downy_mildew': 6, 'hispa': 7, 'leaf_roller': 8, 'normal': 9, 'tungro': 10, 'white_stem_borer': 11, 'yellow_stem_borer': 12}\n",
      "3245\n"
     ]
    }
   ],
   "source": [
    "image_datagen = ImageDataGenerator(featurewise_center=False,\n",
    "                 samplewise_center=False,\n",
    "                 featurewise_std_normalization=False,\n",
    "                 samplewise_std_normalization=False,\n",
    "                 zca_whitening=False,\n",
    "                 rotation_range=5,\n",
    "                 shear_range=0.2,\n",
    "                 zoom_range=0.2,\n",
    "                 width_shift_range=0.05,\n",
    "                 height_shift_range=0.05,\n",
    "                 channel_shift_range=0.,\n",
    "                 fill_mode='nearest',\n",
    "                 horizontal_flip=True,\n",
    "                 vertical_flip=False,\n",
    "                 rescale=1./255,\n",
    "                                   validation_split=0.2)\n",
    "\n",
    "train_generator = image_datagen.flow_from_directory(    \n",
    "    directory = train_path,\n",
    "    subset='training',\n",
    "    target_size=(256, 256),\n",
    "    color_mode=\"rgb\",\n",
    "    batch_size=32,\n",
    "    class_mode=\"categorical\",\n",
    "    shuffle=True,\n",
    "    seed=SEED)\n",
    "\n",
    "valid_generator = image_datagen.flow_from_directory(    \n",
    "    directory=train_path,\n",
    "    subset='validation',\n",
    "    target_size=(256, 256),\n",
    "    color_mode=\"rgb\",\n",
    "    batch_size=32,\n",
    "    class_mode=\"categorical\",\n",
    "    shuffle=True,\n",
    "    seed=SEED)\n",
    "\n",
    "test_generator = ImageDataGenerator(rescale=1./255).flow_from_directory(    \n",
    "    directory=test_path,\n",
    "    target_size=(256, 256),\n",
    "    color_mode=\"rgb\",\n",
    "    batch_size=1,\n",
    "    classes=['.'],\n",
    "    class_mode=None,\n",
    "    shuffle=False,\n",
    "    seed=SEED)\n",
    "\n",
    "print(train_generator.class_indices)\n",
    "print(test_generator.samples)"
   ]
  },
  {
   "cell_type": "code",
   "execution_count": 7,
   "id": "7a6532ce",
   "metadata": {
    "execution": {
     "iopub.execute_input": "2022-07-18T16:48:15.669378Z",
     "iopub.status.busy": "2022-07-18T16:48:15.667311Z",
     "iopub.status.idle": "2022-07-18T16:48:30.021684Z",
     "shell.execute_reply": "2022-07-18T16:48:30.020013Z"
    },
    "papermill": {
     "duration": 14.369293,
     "end_time": "2022-07-18T16:48:30.025898",
     "exception": false,
     "start_time": "2022-07-18T16:48:15.656605",
     "status": "completed"
    },
    "tags": []
   },
   "outputs": [
    {
     "name": "stdout",
     "output_type": "stream",
     "text": [
      "Collecting livelossplot\r\n",
      "  Downloading livelossplot-0.5.5-py3-none-any.whl (22 kB)\r\n",
      "Requirement already satisfied: bokeh in /opt/conda/lib/python3.7/site-packages (from livelossplot) (2.4.3)\r\n",
      "Requirement already satisfied: matplotlib in /opt/conda/lib/python3.7/site-packages (from livelossplot) (3.5.2)\r\n",
      "Requirement already satisfied: numpy<1.22 in /opt/conda/lib/python3.7/site-packages (from livelossplot) (1.21.6)\r\n",
      "Requirement already satisfied: ipython==7.* in /opt/conda/lib/python3.7/site-packages (from livelossplot) (7.33.0)\r\n",
      "Requirement already satisfied: pickleshare in /opt/conda/lib/python3.7/site-packages (from ipython==7.*->livelossplot) (0.7.5)\r\n",
      "Requirement already satisfied: traitlets>=4.2 in /opt/conda/lib/python3.7/site-packages (from ipython==7.*->livelossplot) (5.2.1.post0)\r\n",
      "Requirement already satisfied: pexpect>4.3 in /opt/conda/lib/python3.7/site-packages (from ipython==7.*->livelossplot) (4.8.0)\r\n",
      "Requirement already satisfied: backcall in /opt/conda/lib/python3.7/site-packages (from ipython==7.*->livelossplot) (0.2.0)\r\n",
      "Requirement already satisfied: setuptools>=18.5 in /opt/conda/lib/python3.7/site-packages (from ipython==7.*->livelossplot) (59.8.0)\r\n",
      "Requirement already satisfied: pygments in /opt/conda/lib/python3.7/site-packages (from ipython==7.*->livelossplot) (2.12.0)\r\n",
      "Requirement already satisfied: prompt-toolkit!=3.0.0,!=3.0.1,<3.1.0,>=2.0.0 in /opt/conda/lib/python3.7/site-packages (from ipython==7.*->livelossplot) (3.0.29)\r\n",
      "Requirement already satisfied: decorator in /opt/conda/lib/python3.7/site-packages (from ipython==7.*->livelossplot) (5.1.1)\r\n",
      "Requirement already satisfied: jedi>=0.16 in /opt/conda/lib/python3.7/site-packages (from ipython==7.*->livelossplot) (0.18.1)\r\n",
      "Requirement already satisfied: matplotlib-inline in /opt/conda/lib/python3.7/site-packages (from ipython==7.*->livelossplot) (0.1.3)\r\n",
      "Requirement already satisfied: packaging>=16.8 in /opt/conda/lib/python3.7/site-packages (from bokeh->livelossplot) (21.3)\r\n",
      "Requirement already satisfied: Jinja2>=2.9 in /opt/conda/lib/python3.7/site-packages (from bokeh->livelossplot) (3.1.2)\r\n",
      "Requirement already satisfied: tornado>=5.1 in /opt/conda/lib/python3.7/site-packages (from bokeh->livelossplot) (6.1)\r\n",
      "Requirement already satisfied: typing-extensions>=3.10.0 in /opt/conda/lib/python3.7/site-packages (from bokeh->livelossplot) (4.1.1)\r\n",
      "Requirement already satisfied: pillow>=7.1.0 in /opt/conda/lib/python3.7/site-packages (from bokeh->livelossplot) (9.1.1)\r\n",
      "Requirement already satisfied: PyYAML>=3.10 in /opt/conda/lib/python3.7/site-packages (from bokeh->livelossplot) (6.0)\r\n",
      "Requirement already satisfied: cycler>=0.10 in /opt/conda/lib/python3.7/site-packages (from matplotlib->livelossplot) (0.11.0)\r\n",
      "Requirement already satisfied: kiwisolver>=1.0.1 in /opt/conda/lib/python3.7/site-packages (from matplotlib->livelossplot) (1.4.2)\r\n",
      "Requirement already satisfied: python-dateutil>=2.7 in /opt/conda/lib/python3.7/site-packages (from matplotlib->livelossplot) (2.8.2)\r\n",
      "Requirement already satisfied: fonttools>=4.22.0 in /opt/conda/lib/python3.7/site-packages (from matplotlib->livelossplot) (4.33.3)\r\n",
      "Requirement already satisfied: pyparsing>=2.2.1 in /opt/conda/lib/python3.7/site-packages (from matplotlib->livelossplot) (3.0.9)\r\n",
      "Requirement already satisfied: parso<0.9.0,>=0.8.0 in /opt/conda/lib/python3.7/site-packages (from jedi>=0.16->ipython==7.*->livelossplot) (0.8.3)\r\n",
      "Requirement already satisfied: MarkupSafe>=2.0 in /opt/conda/lib/python3.7/site-packages (from Jinja2>=2.9->bokeh->livelossplot) (2.0.1)\r\n",
      "Requirement already satisfied: ptyprocess>=0.5 in /opt/conda/lib/python3.7/site-packages (from pexpect>4.3->ipython==7.*->livelossplot) (0.7.0)\r\n",
      "Requirement already satisfied: wcwidth in /opt/conda/lib/python3.7/site-packages (from prompt-toolkit!=3.0.0,!=3.0.1,<3.1.0,>=2.0.0->ipython==7.*->livelossplot) (0.2.5)\r\n",
      "Requirement already satisfied: six>=1.5 in /opt/conda/lib/python3.7/site-packages (from python-dateutil>=2.7->matplotlib->livelossplot) (1.16.0)\r\n",
      "Installing collected packages: livelossplot\r\n",
      "Successfully installed livelossplot-0.5.5\r\n",
      "\u001b[33mWARNING: Running pip as the 'root' user can result in broken permissions and conflicting behaviour with the system package manager. It is recommended to use a virtual environment instead: https://pip.pypa.io/warnings/venv\u001b[0m\u001b[33m\r\n",
      "\u001b[0m"
     ]
    }
   ],
   "source": [
    "!pip install livelossplot"
   ]
  },
  {
   "cell_type": "code",
   "execution_count": 8,
   "id": "845c87eb",
   "metadata": {
    "execution": {
     "iopub.execute_input": "2022-07-18T16:48:30.063023Z",
     "iopub.status.busy": "2022-07-18T16:48:30.062550Z",
     "iopub.status.idle": "2022-07-18T16:48:30.088788Z",
     "shell.execute_reply": "2022-07-18T16:48:30.087502Z"
    },
    "papermill": {
     "duration": 0.04818,
     "end_time": "2022-07-18T16:48:30.092266",
     "exception": false,
     "start_time": "2022-07-18T16:48:30.044086",
     "status": "completed"
    },
    "tags": []
   },
   "outputs": [],
   "source": [
    "from livelossplot.inputs.keras import PlotLossesCallback\n",
    "\n",
    "plot_loss_1 = PlotLossesCallback()\n",
    "\n",
    "# ModelCheckpoint callback - save best weights\n",
    "tl_checkpoint_1 = ModelCheckpoint(filepath='vgg_model_ft.weights.best.hdf5',\n",
    "                                  save_best_only=True,\n",
    "                                  verbose=1)\n",
    "\n",
    "# EarlyStopping\n",
    "early_stop = EarlyStopping(monitor='val_loss',\n",
    "                           patience=10,\n",
    "                           restore_best_weights=True,\n",
    "                           mode='min')"
   ]
  },
  {
   "cell_type": "code",
   "execution_count": 9,
   "id": "0efef20f",
   "metadata": {
    "execution": {
     "iopub.execute_input": "2022-07-18T16:48:30.128915Z",
     "iopub.status.busy": "2022-07-18T16:48:30.128455Z",
     "iopub.status.idle": "2022-07-18T19:52:04.645045Z",
     "shell.execute_reply": "2022-07-18T19:52:04.643618Z"
    },
    "papermill": {
     "duration": 11014.539545,
     "end_time": "2022-07-18T19:52:04.649503",
     "exception": false,
     "start_time": "2022-07-18T16:48:30.109958",
     "status": "completed"
    },
    "tags": []
   },
   "outputs": [
    {
     "data": {
      "image/png": "[encoded data removed]",
      "text/plain": [
       "<Figure size 864x576 with 2 Axes>"
      ]
     },
     "metadata": {
      "needs_background": "light"
     },
     "output_type": "display_data"
    },
    {
     "name": "stdout",
     "output_type": "stream",
     "text": [
      "accuracy\n",
      "\ttraining         \t (min:    0.520, max:    0.992, cur:    0.989)\n",
      "\tvalidation       \t (min:    0.712, max:    0.948, cur:    0.948)\n",
      "Loss\n",
      "\ttraining         \t (min:    0.027, max:    1.517, cur:    0.034)\n",
      "\tvalidation       \t (min:    0.232, max:    0.942, cur:    0.242)\n",
      "CPU times: user 2h 52min 53s, sys: 3min 3s, total: 2h 55min 57s\n",
      "Wall time: 3h 3min 34s\n"
     ]
    }
   ],
   "source": [
    "%%time\n",
    "\n",
    "plot_loss_2 = PlotLossesCallback()\n",
    "\n",
    "STEP_SIZE_TRAIN = train_generator.n//train_generator.batch_size\n",
    "STEP_SIZE_VALID = valid_generator.n//valid_generator.batch_size\n",
    "\n",
    "# Retrain model with fine-tuning\n",
    "vgg16_history = vgg16_model.fit_generator(generator = train_generator,\n",
    "                                  steps_per_epoch = STEP_SIZE_TRAIN,\n",
    "                                  validation_data = valid_generator,\n",
    "                                  validation_steps = STEP_SIZE_VALID,\n",
    "                                  callbacks=[tl_checkpoint_1, early_stop, plot_loss_2],\n",
    "                                  verbose=1,epochs=EPOCHS)"
   ]
  },
  {
   "cell_type": "code",
   "execution_count": 10,
   "id": "266205e7",
   "metadata": {
    "execution": {
     "iopub.execute_input": "2022-07-18T19:52:04.672537Z",
     "iopub.status.busy": "2022-07-18T19:52:04.672228Z",
     "iopub.status.idle": "2022-07-18T19:52:04.679905Z",
     "shell.execute_reply": "2022-07-18T19:52:04.678534Z"
    },
    "papermill": {
     "duration": 0.021856,
     "end_time": "2022-07-18T19:52:04.682389",
     "exception": false,
     "start_time": "2022-07-18T19:52:04.660533",
     "status": "completed"
    },
    "tags": []
   },
   "outputs": [],
   "source": [
    "# !ls -l /kaggle/input"
   ]
  },
  {
   "cell_type": "code",
   "execution_count": 11,
   "id": "1a7febfd",
   "metadata": {
    "execution": {
     "iopub.execute_input": "2022-07-18T19:52:04.705463Z",
     "iopub.status.busy": "2022-07-18T19:52:04.705140Z",
     "iopub.status.idle": "2022-07-18T19:52:06.416525Z",
     "shell.execute_reply": "2022-07-18T19:52:06.413656Z"
    },
    "papermill": {
     "duration": 1.726819,
     "end_time": "2022-07-18T19:52:06.420075",
     "exception": false,
     "start_time": "2022-07-18T19:52:04.693256",
     "status": "completed"
    },
    "tags": []
   },
   "outputs": [
    {
     "name": "stdout",
     "output_type": "stream",
     "text": [
      "391\t/kaggle/input/pd2-test-images-labels/tungro\r\n",
      "153\t/kaggle/input/pd2-test-images-labels/yellow_stem_borer\r\n",
      "432\t/kaggle/input/pd2-test-images-labels/hispa\r\n",
      "175\t/kaggle/input/pd2-test-images-labels/downy_mildew\r\n",
      "102\t/kaggle/input/pd2-test-images-labels/black_stem_borer\r\n",
      "101\t/kaggle/input/pd2-test-images-labels/bacterial_leaf_streak\r\n",
      "131\t/kaggle/input/pd2-test-images-labels/bacterial_leaf_blight\r\n",
      "254\t/kaggle/input/pd2-test-images-labels/brown_spot\r\n",
      "471\t/kaggle/input/pd2-test-images-labels/blast\r\n",
      "220\t/kaggle/input/pd2-test-images-labels/leaf_roller\r\n",
      "482\t/kaggle/input/pd2-test-images-labels/normal\r\n",
      "91\t/kaggle/input/pd2-test-images-labels/bacterial_panicle_blight\r\n",
      "255\t/kaggle/input/pd2-test-images-labels/white_stem_borer\r\n",
      "3259\t/kaggle/input/pd2-test-images-labels/\r\n",
      "390 \t tungro\n",
      "152 \t yellow_stem_borer\n",
      "431 \t hispa\n",
      "174 \t downy_mildew\n",
      "101 \t black_stem_borer\n",
      "100 \t bacterial_leaf_streak\n",
      "130 \t bacterial_leaf_blight\n",
      "253 \t brown_spot\n",
      "470 \t blast\n",
      "219 \t leaf_roller\n",
      "481 \t normal\n",
      "90 \t bacterial_panicle_blight\n",
      "254 \t white_stem_borer\n"
     ]
    }
   ],
   "source": [
    "test_path_new = '/kaggle/input/pd2-test-images-labels/'\n",
    "!du --inodes '/kaggle/input/pd2-test-images-labels/'\n",
    "\n",
    "for filepath in glob.glob(test_path_new + '/*/'):\n",
    "    files = glob.glob(filepath + '*')\n",
    "    print(f\"{len(files)} \\t {Path(filepath).name}\")"
   ]
  },
  {
   "cell_type": "code",
   "execution_count": 12,
   "id": "63f3b56c",
   "metadata": {
    "execution": {
     "iopub.execute_input": "2022-07-18T19:52:06.445744Z",
     "iopub.status.busy": "2022-07-18T19:52:06.445288Z",
     "iopub.status.idle": "2022-07-18T19:52:06.454942Z",
     "shell.execute_reply": "2022-07-18T19:52:06.453426Z"
    },
    "papermill": {
     "duration": 0.025157,
     "end_time": "2022-07-18T19:52:06.457657",
     "exception": false,
     "start_time": "2022-07-18T19:52:06.432500",
     "status": "completed"
    },
    "tags": []
   },
   "outputs": [
    {
     "data": {
      "text/plain": [
       "['bacterial_leaf_blight',\n",
       " 'bacterial_leaf_streak',\n",
       " 'bacterial_panicle_blight',\n",
       " 'black_stem_borer',\n",
       " 'blast',\n",
       " 'brown_spot',\n",
       " 'downy_mildew',\n",
       " 'hispa',\n",
       " 'leaf_roller',\n",
       " 'normal',\n",
       " 'tungro',\n",
       " 'white_stem_borer',\n",
       " 'yellow_stem_borer']"
      ]
     },
     "execution_count": 12,
     "metadata": {},
     "output_type": "execute_result"
    }
   ],
   "source": [
    "class_subset = sorted(os.listdir(test_path_new))#[:10] # Using only the first 10 classes\n",
    "class_subset"
   ]
  },
  {
   "cell_type": "code",
   "execution_count": null,
   "id": "7da1400c",
   "metadata": {
    "papermill": {
     "duration": 0.011861,
     "end_time": "2022-07-18T19:52:06.481127",
     "exception": false,
     "start_time": "2022-07-18T19:52:06.469266",
     "status": "completed"
    },
    "tags": []
   },
   "outputs": [],
   "source": []
  },
  {
   "cell_type": "code",
   "execution_count": 13,
   "id": "60b57525",
   "metadata": {
    "execution": {
     "iopub.execute_input": "2022-07-18T19:52:06.506597Z",
     "iopub.status.busy": "2022-07-18T19:52:06.506216Z",
     "iopub.status.idle": "2022-07-18T19:52:45.598544Z",
     "shell.execute_reply": "2022-07-18T19:52:45.597135Z"
    },
    "papermill": {
     "duration": 39.10842,
     "end_time": "2022-07-18T19:52:45.601547",
     "exception": false,
     "start_time": "2022-07-18T19:52:06.493127",
     "status": "completed"
    },
    "tags": []
   },
   "outputs": [
    {
     "name": "stdout",
     "output_type": "stream",
     "text": [
      "Found 3245 images belonging to 13 classes.\n"
     ]
    }
   ],
   "source": [
    "test_generator_vgg = ImageDataGenerator(rescale=1./255).flow_from_directory(    \n",
    "    directory=test_path_new,\n",
    "    target_size=(256, 256),\n",
    "    color_mode=\"rgb\",\n",
    "    batch_size=1,\n",
    "    classes=class_subset,\n",
    "    class_mode=None,\n",
    "    shuffle=False,\n",
    "    seed=SEED)\n",
    "\n",
    "vgg16_model.load_weights('vgg_model_ft.weights.best.hdf5') # initialize the best trained weights\n",
    "# vgg16_model.load_weights('../input/pd2vgg16weightsbest/vgg_model_ft.weights.best.hdf5') # initialize the best trained weights\n",
    "\n",
    "vgg_preds_ft = vgg16_model.predict(test_generator_vgg)\n",
    "vgg_pred_classes_ft = np.argmax(vgg_preds_ft, axis=1)"
   ]
  },
  {
   "cell_type": "code",
   "execution_count": 14,
   "id": "92c0795a",
   "metadata": {
    "execution": {
     "iopub.execute_input": "2022-07-18T19:52:45.628251Z",
     "iopub.status.busy": "2022-07-18T19:52:45.627209Z",
     "iopub.status.idle": "2022-07-18T19:52:45.647161Z",
     "shell.execute_reply": "2022-07-18T19:52:45.645743Z"
    },
    "papermill": {
     "duration": 0.03528,
     "end_time": "2022-07-18T19:52:45.649833",
     "exception": false,
     "start_time": "2022-07-18T19:52:45.614553",
     "status": "completed"
    },
    "tags": []
   },
   "outputs": [
    {
     "name": "stdout",
     "output_type": "stream",
     "text": [
      "VGG16 Model Accuracy with Fine-Tuning: 93.19%\n",
      "                          precision    recall  f1-score   support\n",
      "\n",
      "   bacterial_leaf_blight    0.85612   0.91538   0.88476       130\n",
      "   bacterial_leaf_streak    0.93204   0.96000   0.94581       100\n",
      "bacterial_panicle_blight    1.00000   0.86667   0.92857        90\n",
      "        black_stem_borer    0.95652   0.87129   0.91192       101\n",
      "                   blast    0.94017   0.93617   0.93817       470\n",
      "              brown_spot    0.90310   0.92095   0.91194       253\n",
      "            downy_mildew    0.95783   0.91379   0.93529       174\n",
      "                   hispa    0.95792   0.89791   0.92695       431\n",
      "             leaf_roller    0.99459   0.84018   0.91089       219\n",
      "                  normal    0.95297   0.96881   0.96082       481\n",
      "                  tungro    0.84564   0.96923   0.90323       390\n",
      "        white_stem_borer    0.93585   0.97638   0.95568       254\n",
      "       yellow_stem_borer    0.98013   0.97368   0.97690       152\n",
      "\n",
      "                accuracy                        0.93190      3245\n",
      "               macro avg    0.93945   0.92388   0.93007      3245\n",
      "            weighted avg    0.93488   0.93190   0.93199      3245\n",
      "\n"
     ]
    }
   ],
   "source": [
    "from sklearn.metrics import accuracy_score\n",
    "from sklearn.metrics import classification_report\n",
    "\n",
    "class_names = test_generator_vgg.class_indices.keys()\n",
    "\n",
    "true_classes = test_generator_vgg.classes\n",
    "\n",
    "vgg_acc_ft = accuracy_score(true_classes, vgg_pred_classes_ft)\n",
    "print(\"VGG16 Model Accuracy with Fine-Tuning: {:.2f}%\".format(vgg_acc_ft * 100))\n",
    "\n",
    "cls_report = classification_report(true_classes, vgg_pred_classes_ft, \n",
    "                                   target_names=class_names, digits=5)\n",
    "print(cls_report)"
   ]
  },
  {
   "cell_type": "code",
   "execution_count": 15,
   "id": "ea6ccfe8",
   "metadata": {
    "execution": {
     "iopub.execute_input": "2022-07-18T19:52:45.675230Z",
     "iopub.status.busy": "2022-07-18T19:52:45.674222Z",
     "iopub.status.idle": "2022-07-18T19:52:46.787429Z",
     "shell.execute_reply": "2022-07-18T19:52:46.785875Z"
    },
    "papermill": {
     "duration": 1.129597,
     "end_time": "2022-07-18T19:52:46.791003",
     "exception": false,
     "start_time": "2022-07-18T19:52:45.661406",
     "status": "completed"
    },
    "tags": []
   },
   "outputs": [
    {
     "data": {
      "image/png": "[encoded data removed]",
      "text/plain": [
       "<Figure size 432x432 with 1 Axes>"
      ]
     },
     "metadata": {
      "needs_background": "light"
     },
     "output_type": "display_data"
    },
    {
     "name": "stdout",
     "output_type": "stream",
     "text": [
      "[[119   1   0   0   1   4   0   1   0   1   3   0   0]\n",
      " [  1  96   0   0   1   0   1   0   0   0   1   0   0]\n",
      " [  0   0  78   1   3   0   0   1   0   0   1   4   2]\n",
      " [  0   0   0  88   3   1   0   0   1   0   1   7   0]\n",
      " [  2   1   0   0 440   2   2   3   0   5  14   1   0]\n",
      " [  3   4   0   0   4 233   1   0   0   1   6   1   0]\n",
      " [  1   0   0   0   4   3 159   0   0   0   7   0   0]\n",
      " [  7   1   0   0   3   5   1 387   0  11  16   0   0]\n",
      " [  5   0   0   1   4   9   1   1 184   3  10   1   0]\n",
      " [  1   0   0   0   1   1   0   5   0 466   7   0   0]\n",
      " [  0   0   0   0   4   0   1   5   0   2 378   0   0]\n",
      " [  0   0   0   2   0   0   0   1   0   0   2 248   1]\n",
      " [  0   0   0   0   0   0   0   0   0   0   1   3 148]]\n"
     ]
    }
   ],
   "source": [
    "import seaborn as sns\n",
    "from sklearn.metrics import confusion_matrix\n",
    "\n",
    "# Get the names of the ten classes\n",
    "class_names = test_generator_vgg.class_indices.keys()\n",
    "\n",
    "def plot_heatmap(y_true, y_pred, class_names, ax, title):\n",
    "    cm = confusion_matrix(y_true, y_pred)\n",
    "    sns.heatmap(\n",
    "        cm, \n",
    "        annot=True, \n",
    "        square=True, \n",
    "        xticklabels=class_names, \n",
    "        yticklabels=class_names,\n",
    "        fmt='d', \n",
    "        cmap=plt.cm.Blues,\n",
    "        cbar=False,\n",
    "        ax=ax\n",
    "    )\n",
    "    #ax.set_title(title, fontsize=16)\n",
    "    ax.set_xticklabels(ax.get_xticklabels(), fontsize=12, rotation=45, ha=\"right\")\n",
    "    ax.set_yticklabels(ax.get_yticklabels(), fontsize=12)\n",
    "    ax.set_ylabel('True Label', fontsize=12)\n",
    "    ax.set_xlabel('Predicted Label', fontsize=12)\n",
    "\n",
    "fig, ax = plt.subplots(1, 1, figsize=(6, 6))\n",
    "\n",
    "plot_heatmap(true_classes, vgg_pred_classes_ft, class_names, ax, title=\"VGG16\")    \n",
    "\n",
    "#fig.suptitle(\"Confusion Matrix Model Comparison\", fontsize=12)\n",
    "#fig.tight_layout()\n",
    "#fig.subplots_adjust(top=1.25)\n",
    "plt.show()\n",
    "cm = confusion_matrix(true_classes, vgg_pred_classes_ft)\n",
    "print(cm)"
   ]
  },
  {
   "cell_type": "code",
   "execution_count": 16,
   "id": "fb4fba36",
   "metadata": {
    "execution": {
     "iopub.execute_input": "2022-07-18T19:52:46.817470Z",
     "iopub.status.busy": "2022-07-18T19:52:46.817104Z",
     "iopub.status.idle": "2022-07-18T19:52:46.822537Z",
     "shell.execute_reply": "2022-07-18T19:52:46.821199Z"
    },
    "papermill": {
     "duration": 0.021196,
     "end_time": "2022-07-18T19:52:46.825102",
     "exception": false,
     "start_time": "2022-07-18T19:52:46.803906",
     "status": "completed"
    },
    "tags": []
   },
   "outputs": [],
   "source": [
    "# %%time\n",
    "# STEP_SIZE_TRAIN = train_generator.n//train_generator.batch_size\n",
    "# STEP_SIZE_VALID = valid_generator.n//valid_generator.batch_size\n",
    "# history = model.fit_generator(generator = train_generator,\n",
    "#                     steps_per_epoch = STEP_SIZE_TRAIN,\n",
    "#                     validation_data = valid_generator,\n",
    "#                     validation_steps = STEP_SIZE_VALID,\n",
    "#                     epochs=EPOCHS)"
   ]
  },
  {
   "cell_type": "code",
   "execution_count": 17,
   "id": "33d09c78",
   "metadata": {
    "execution": {
     "iopub.execute_input": "2022-07-18T19:52:46.852440Z",
     "iopub.status.busy": "2022-07-18T19:52:46.852105Z",
     "iopub.status.idle": "2022-07-18T19:52:47.326557Z",
     "shell.execute_reply": "2022-07-18T19:52:47.324665Z"
    },
    "papermill": {
     "duration": 0.491405,
     "end_time": "2022-07-18T19:52:47.329106",
     "exception": false,
     "start_time": "2022-07-18T19:52:46.837701",
     "status": "completed"
    },
    "tags": []
   },
   "outputs": [
    {
     "data": {
      "image/png": "[encoded data removed]",
      "text/plain": [
       "<Figure size 432x288 with 1 Axes>"
      ]
     },
     "metadata": {
      "needs_background": "light"
     },
     "output_type": "display_data"
    },
    {
     "data": {
      "image/png": "[encoded data removed]",
      "text/plain": [
       "<Figure size 432x288 with 1 Axes>"
      ]
     },
     "metadata": {
      "needs_background": "light"
     },
     "output_type": "display_data"
    },
    {
     "name": "stdout",
     "output_type": "stream",
     "text": [
      "CPU times: user 549 ms, sys: 155 ms, total: 705 ms\n",
      "Wall time: 465 ms\n"
     ]
    }
   ],
   "source": [
    "%%time\n",
    "history = vgg16_history\n",
    "acc = history.history['accuracy']\n",
    "val_acc = history.history['val_accuracy']\n",
    "loss = history.history['loss']\n",
    "val_loss = history.history['val_loss']\n",
    "epochs = range(1, len(acc) + 1)\n",
    "#Train and validation accuracy\n",
    "plt.plot(epochs, acc, 'b', label='Training accurarcy')\n",
    "plt.plot(epochs, val_acc, 'r', label='Validation accurarcy')\n",
    "plt.title('Training and Validation accurarcy')\n",
    "plt.legend()\n",
    "\n",
    "plt.figure()\n",
    "#Train and validation loss\n",
    "plt.plot(epochs, loss, 'b', label='Training loss')\n",
    "plt.plot(epochs, val_loss, 'r', label='Validation loss')\n",
    "plt.title('Training and Validation loss')\n",
    "plt.legend()\n",
    "plt.show()"
   ]
  },
  {
   "cell_type": "code",
   "execution_count": 18,
   "id": "30ccd552",
   "metadata": {
    "execution": {
     "iopub.execute_input": "2022-07-18T19:52:47.359249Z",
     "iopub.status.busy": "2022-07-18T19:52:47.358023Z",
     "iopub.status.idle": "2022-07-18T19:53:27.986760Z",
     "shell.execute_reply": "2022-07-18T19:53:27.985484Z"
    },
    "papermill": {
     "duration": 40.646385,
     "end_time": "2022-07-18T19:53:27.989484",
     "exception": false,
     "start_time": "2022-07-18T19:52:47.343099",
     "status": "completed"
    },
    "tags": []
   },
   "outputs": [
    {
     "name": "stdout",
     "output_type": "stream",
     "text": [
      "   6/3245 [..............................] - ETA: 39s "
     ]
    },
    {
     "name": "stderr",
     "output_type": "stream",
     "text": [
      "/opt/conda/lib/python3.7/site-packages/keras/engine/training.py:2035: UserWarning: `Model.predict_generator` is deprecated and will be removed in a future version. Please use `Model.predict`, which supports generators.\n",
      "  warnings.warn('`Model.predict_generator` is deprecated and '\n"
     ]
    },
    {
     "name": "stdout",
     "output_type": "stream",
     "text": [
      "3245/3245 [==============================] - 41s 12ms/step\n"
     ]
    }
   ],
   "source": [
    "STEP_SIZE_TEST=test_generator.n//test_generator.batch_size\n",
    "test_generator.reset()\n",
    "pred = vgg16_model.predict_generator(test_generator,\n",
    "                               steps=STEP_SIZE_TEST,\n",
    "                               verbose=1)"
   ]
  },
  {
   "cell_type": "code",
   "execution_count": 19,
   "id": "cec4f64c",
   "metadata": {
    "execution": {
     "iopub.execute_input": "2022-07-18T19:53:28.116484Z",
     "iopub.status.busy": "2022-07-18T19:53:28.114832Z",
     "iopub.status.idle": "2022-07-18T19:53:55.396916Z",
     "shell.execute_reply": "2022-07-18T19:53:55.395543Z"
    },
    "papermill": {
     "duration": 27.34765,
     "end_time": "2022-07-18T19:53:55.400364",
     "exception": false,
     "start_time": "2022-07-18T19:53:28.052714",
     "status": "completed"
    },
    "tags": []
   },
   "outputs": [
    {
     "name": "stdout",
     "output_type": "stream",
     "text": [
      "   1/3245 [..............................] - ETA: 8:53 - loss: 0.0000e+00 - accuracy: 0.0000e+00"
     ]
    },
    {
     "name": "stderr",
     "output_type": "stream",
     "text": [
      "/opt/conda/lib/python3.7/site-packages/keras/engine/training.py:2006: UserWarning: `Model.evaluate_generator` is deprecated and will be removed in a future version. Please use `Model.evaluate`, which supports generators.\n",
      "  warnings.warn('`Model.evaluate_generator` is deprecated and '\n"
     ]
    },
    {
     "name": "stdout",
     "output_type": "stream",
     "text": [
      "3245/3245 [==============================] - 27s 8ms/step - loss: 0.0000e+00 - accuracy: 0.0000e+00\n",
      "0.0 0.0\n"
     ]
    }
   ],
   "source": [
    "loss, acc = vgg16_model.evaluate_generator(test_generator, steps=STEP_SIZE_TEST, verbose=1)\n",
    "print(acc, loss)"
   ]
  },
  {
   "cell_type": "code",
   "execution_count": 20,
   "id": "773cb1a7",
   "metadata": {
    "execution": {
     "iopub.execute_input": "2022-07-18T19:53:55.602130Z",
     "iopub.status.busy": "2022-07-18T19:53:55.601734Z",
     "iopub.status.idle": "2022-07-18T19:53:55.621117Z",
     "shell.execute_reply": "2022-07-18T19:53:55.619655Z"
    },
    "papermill": {
     "duration": 0.123621,
     "end_time": "2022-07-18T19:53:55.624016",
     "exception": false,
     "start_time": "2022-07-18T19:53:55.500395",
     "status": "completed"
    },
    "tags": []
   },
   "outputs": [
    {
     "data": {
      "text/plain": [
       "9     1540\n",
       "4     1505\n",
       "7     1376\n",
       "10    1249\n",
       "11     816\n",
       "5      804\n",
       "8      701\n",
       "6      556\n",
       "12     491\n",
       "0      415\n",
       "1      324\n",
       "3      324\n",
       "2      288\n",
       "dtype: int64"
      ]
     },
     "execution_count": 20,
     "metadata": {},
     "output_type": "execute_result"
    }
   ],
   "source": [
    "pd.Series(train_generator.classes).value_counts()"
   ]
  },
  {
   "cell_type": "code",
   "execution_count": 21,
   "id": "8ace15c6",
   "metadata": {
    "execution": {
     "iopub.execute_input": "2022-07-18T19:53:55.821364Z",
     "iopub.status.busy": "2022-07-18T19:53:55.820978Z",
     "iopub.status.idle": "2022-07-18T19:53:55.831322Z",
     "shell.execute_reply": "2022-07-18T19:53:55.828916Z"
    },
    "papermill": {
     "duration": 0.113698,
     "end_time": "2022-07-18T19:53:55.834088",
     "exception": false,
     "start_time": "2022-07-18T19:53:55.720390",
     "status": "completed"
    },
    "tags": []
   },
   "outputs": [
    {
     "data": {
      "text/plain": [
       "0    3245\n",
       "dtype: int64"
      ]
     },
     "execution_count": 21,
     "metadata": {},
     "output_type": "execute_result"
    }
   ],
   "source": [
    "pd.Series(test_generator.classes).value_counts()"
   ]
  },
  {
   "cell_type": "code",
   "execution_count": 22,
   "id": "5cbbcd37",
   "metadata": {
    "execution": {
     "iopub.execute_input": "2022-07-18T19:53:56.025547Z",
     "iopub.status.busy": "2022-07-18T19:53:56.025192Z",
     "iopub.status.idle": "2022-07-18T19:53:56.050389Z",
     "shell.execute_reply": "2022-07-18T19:53:56.048339Z"
    },
    "papermill": {
     "duration": 0.12432,
     "end_time": "2022-07-18T19:53:56.052859",
     "exception": false,
     "start_time": "2022-07-18T19:53:55.928539",
     "status": "completed"
    },
    "tags": []
   },
   "outputs": [
    {
     "data": {
      "text/plain": [
       "normal                      489\n",
       "blast                       468\n",
       "tungro                      447\n",
       "hispa                       404\n",
       "white_stem_borer            265\n",
       "brown_spot                  258\n",
       "leaf_roller                 185\n",
       "downy_mildew                166\n",
       "yellow_stem_borer           151\n",
       "bacterial_leaf_blight       139\n",
       "bacterial_leaf_streak       103\n",
       "black_stem_borer             92\n",
       "bacterial_panicle_blight     78\n",
       "dtype: int64"
      ]
     },
     "execution_count": 22,
     "metadata": {},
     "output_type": "execute_result"
    }
   ],
   "source": [
    "predicted_class_indices=np.argmax(pred,axis=1)\n",
    "labels = (train_generator.class_indices)\n",
    "\n",
    "labels = (train_generator.class_indices)\n",
    "labels = dict((v,k) for k,v in labels.items())\n",
    "predictions = [labels[k] for k in predicted_class_indices]\n",
    "\n",
    "pd.Series(predictions).value_counts()"
   ]
  },
  {
   "cell_type": "code",
   "execution_count": 23,
   "id": "e90bdc34",
   "metadata": {
    "execution": {
     "iopub.execute_input": "2022-07-18T19:53:56.250183Z",
     "iopub.status.busy": "2022-07-18T19:53:56.249740Z",
     "iopub.status.idle": "2022-07-18T19:53:56.290259Z",
     "shell.execute_reply": "2022-07-18T19:53:56.287859Z"
    },
    "papermill": {
     "duration": 0.145169,
     "end_time": "2022-07-18T19:53:56.293652",
     "exception": false,
     "start_time": "2022-07-18T19:53:56.148483",
     "status": "completed"
    },
    "tags": []
   },
   "outputs": [
    {
     "name": "stderr",
     "output_type": "stream",
     "text": [
      "/opt/conda/lib/python3.7/site-packages/ipykernel_launcher.py:5: FutureWarning: The default value of regex will change from True to False in a future version.\n",
      "  \"\"\"\n"
     ]
    },
    {
     "data": {
      "text/html": [
       "<div>\n",
       "<style scoped>\n",
       "    .dataframe tbody tr th:only-of-type {\n",
       "        vertical-align: middle;\n",
       "    }\n",
       "\n",
       "    .dataframe tbody tr th {\n",
       "        vertical-align: top;\n",
       "    }\n",
       "\n",
       "    .dataframe thead th {\n",
       "        text-align: right;\n",
       "    }\n",
       "</style>\n",
       "<table border=\"1\" class=\"dataframe\">\n",
       "  <thead>\n",
       "    <tr style=\"text-align: right;\">\n",
       "      <th></th>\n",
       "      <th>image_id</th>\n",
       "      <th>label</th>\n",
       "    </tr>\n",
       "  </thead>\n",
       "  <tbody>\n",
       "    <tr>\n",
       "      <th>0</th>\n",
       "      <td>200001.jpg</td>\n",
       "      <td>white_stem_borer</td>\n",
       "    </tr>\n",
       "    <tr>\n",
       "      <th>1</th>\n",
       "      <td>200002.jpg</td>\n",
       "      <td>hispa</td>\n",
       "    </tr>\n",
       "    <tr>\n",
       "      <th>2</th>\n",
       "      <td>200003.jpg</td>\n",
       "      <td>bacterial_leaf_streak</td>\n",
       "    </tr>\n",
       "    <tr>\n",
       "      <th>3</th>\n",
       "      <td>200004.jpg</td>\n",
       "      <td>black_stem_borer</td>\n",
       "    </tr>\n",
       "    <tr>\n",
       "      <th>4</th>\n",
       "      <td>200005.jpg</td>\n",
       "      <td>normal</td>\n",
       "    </tr>\n",
       "  </tbody>\n",
       "</table>\n",
       "</div>"
      ],
      "text/plain": [
       "     image_id                  label\n",
       "0  200001.jpg       white_stem_borer\n",
       "1  200002.jpg                  hispa\n",
       "2  200003.jpg  bacterial_leaf_streak\n",
       "3  200004.jpg       black_stem_borer\n",
       "4  200005.jpg                 normal"
      ]
     },
     "execution_count": 23,
     "metadata": {},
     "output_type": "execute_result"
    }
   ],
   "source": [
    "filenames=test_generator.filenames\n",
    "\n",
    "results=pd.DataFrame({\"image_id\":filenames,\n",
    "                      \"label\":predictions})\n",
    "results.image_id = results.image_id.str.replace('./', '')\n",
    "results.to_csv(\"submission.csv\",index=False)\n",
    "results.head()"
   ]
  }
 ],
 "metadata": {
  "kernelspec": {
   "display_name": "Python 3",
   "language": "python",
   "name": "python3"
  },
  "language_info": {
   "codemirror_mode": {
    "name": "ipython",
    "version": 3
   },
   "file_extension": ".py",
   "mimetype": "text/x-python",
   "name": "python",
   "nbconvert_exporter": "python",
   "pygments_lexer": "ipython3",
   "version": "3.7.12"
  },
  "papermill": {
   "default_parameters": {},
   "duration": 11184.067625,
   "end_time": "2022-07-18T19:53:59.582978",
   "environment_variables": {},
   "exception": null,
   "input_path": "__notebook__.ipynb",
   "output_path": "__notebook__.ipynb",
   "parameters": {},
   "start_time": "2022-07-18T16:47:35.515353",
   "version": "2.3.4"
  }
 },
 "nbformat": 4,
 "nbformat_minor": 5
}
